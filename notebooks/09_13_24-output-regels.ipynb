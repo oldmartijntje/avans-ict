{
 "cells": [
  {
   "cell_type": "markdown",
   "metadata": {},
   "source": [
    "# Console Output\n",
    "\n",
    "<iframe width=\"560\" height=\"315\" src=\"https://www.youtube.com/embed/3ST-7TP09qk?si=E1FaaMZ-g8yK8NwS\" title=\"YouTube video player\" frameborder=\"0\" allow=\"accelerometer; autoplay; clipboard-write; encrypted-media; gyroscope; picture-in-picture; web-share\" referrerpolicy=\"strict-origin-when-cross-origin\" allowfullscreen></iframe>\n",
    "\n",
    "Een van de basis-acties die een programma kan doen is laten zien van tekst. In hedendaagse applicaties gebeurt dit meestal via een GUI of een webpagina, maar in de basis van ieder operating system zit de `Console`. Een console is een manier om tekst naar een applicatie te sturen (input), en een manier voor de applicatie om tekst naar de gebruiker te sturen (output). In het OS zijn deze consoles voor de gebruiker grotendeels verborgen, maar voor softwareontwikkelaars zijn er manieren om deze zichtbaar te maken en te gebruiken. Doordat het gemakkelijk is iets op de console te zetten, wordt deze vaak gebruikt om te laten zien wat de applicatie aan het doen is, en wat de inhoud van bepaalde variabelen zijn. In deze module staat de console centraal, en zal er gefocust worden op het maken van console-applicaties.\n",
    "\n",
    "De basis van de console-output is `Console.WriteLine()`. Met dit commando kan er een waarde naar de console geschreven worden. Door bijvoorbeeld\n",
    "```csharp\n",
    "Console.WriteLine(\"Avans\");\n",
    "```\n",
    "te schrijven, zal de tekst `Avans` in de console afgedrukt worden. Dit commando zal daarna de cursor op de volgende regel zetten, zodat de volgende `Console.WriteLine` onder de tekst `Avans` komt te staan.\n",
    "\n",
    "Bij het maken van een flowchart kan er ook naar de console geschreven worden. Hier gebruiken we een rechthoek met afgeronde hoeken voor. De code die hierboven staat, kan in de volgende flowchart gezet worden.\n",
    "\n",
    "```mermaid\n",
    "flowchart\n",
    "  A([\"#quot;Avans#quot;\"])\n",
    "```\n",
    "\n",
    "## Verschillende vormen van consoles\n",
    "\n",
    "Omdat een console alleen tekst is, kan deze gemakkelijk op verschillende manieren getoond worden. Soms komt een console naar voren als een zwart scherm, soms komt deze in je programmeeromgeving, en in deze notebooks komt de output onder de bijbehorende code te staan."
   ]
  },
  {
   "cell_type": "code",
   "execution_count": null,
   "metadata": {
    "dotnet_interactive": {
     "language": "csharp"
    },
    "polyglot_notebook": {
     "kernelName": "csharp"
    }
   },
   "outputs": [],
   "source": [
    "Console.WriteLine(\"Avans\");"
   ]
  },
  {
   "cell_type": "markdown",
   "metadata": {},
   "source": [
    "## Opdracht 1\n",
    "\n",
    "Schrijf een programma dat hello world uitprint."
   ]
  },
  {
   "cell_type": "code",
   "execution_count": 4,
   "metadata": {
    "dotnet_interactive": {
     "language": "csharp"
    },
    "polyglot_notebook": {
     "kernelName": "csharp"
    }
   },
   "outputs": [
    {
     "name": "stdout",
     "output_type": "stream",
     "text": [
      "Hello, World!\n",
      " Hello, World!\n",
      "  Hello, World!\n",
      "   Hello, World!\n",
      "    Hello, World!\n",
      "     Hello, World!\n",
      "      Hello, World!\n",
      "       Hello, World!\n",
      "        Hello, World!\n",
      "         Hello, World!\n"
     ]
    }
   ],
   "source": [
    "\n",
    "string message = \"Hello, World!\";\n",
    "for (int i = 0; i < 10; i++)\n",
    "{\n",
    "    for (int j = 0; j < i; j++)\n",
    "    {\n",
    "        Console.Write(\" \");\n",
    "    }\n",
    "    Console.WriteLine(message);\n",
    "}\n",
    "// END: C#"
   ]
  },
  {
   "cell_type": "markdown",
   "metadata": {},
   "source": [
    "## Opdracht 2\n",
    "\n",
    "Schrijf stuk code dat je naam uitprint."
   ]
  },
  {
   "cell_type": "code",
   "execution_count": 5,
   "metadata": {
    "dotnet_interactive": {
     "language": "csharp"
    },
    "polyglot_notebook": {
     "kernelName": "csharp"
    },
    "tags": [
     "opdracht"
    ]
   },
   "outputs": [
    {
     "name": "stdout",
     "output_type": "stream",
     "text": [
      "Hello, oldma!\n",
      " Hello, oldma!\n",
      "  Hello, oldma!\n",
      "   Hello, oldma!\n",
      "    Hello, oldma!\n",
      "     Hello, oldma!\n",
      "      Hello, oldma!\n",
      "       Hello, oldma!\n",
      "        Hello, oldma!\n",
      "         Hello, oldma!\n"
     ]
    }
   ],
   "source": [
    "using System.Net;\n",
    "string userName = Environment.UserName;\n",
    "string message = \"Hello, \" + userName + \"!\";\n",
    "for (int i = 0; i < 10; i++)\n",
    "{\n",
    "    for (int j = 0; j < i; j++)\n",
    "    {\n",
    "        Console.Write(\" \");\n",
    "    }\n",
    "    Console.WriteLine(message);\n",
    "}\n",
    "// END: C#"
   ]
  },
  {
   "cell_type": "markdown",
   "metadata": {},
   "source": [
    "## Opdracht 3\n",
    "Schrijf een stuk code dat een vierkant van 5 bij 5 van sterretjes afdrukt zoals in onderstaande blok output.\n",
    "\n",
    "```output\n",
    "*****\n",
    "*   *\n",
    "*   *\n",
    "*   *\n",
    "*****\n",
    "```"
   ]
  },
  {
   "cell_type": "code",
   "execution_count": 7,
   "metadata": {
    "dotnet_interactive": {
     "language": "csharp"
    },
    "polyglot_notebook": {
     "kernelName": "csharp"
    }
   },
   "outputs": [
    {
     "name": "stdout",
     "output_type": "stream",
     "text": [
      "*****\n",
      "*   *\n",
      "*   *\n",
      "*   *\n",
      "*****\r\n"
     ]
    }
   ],
   "source": [
    "Console.WriteLine(\"*****\\n*   *\\n*   *\\n*   *\\n*****\");"
   ]
  }
 ],
 "metadata": {
  "kernelspec": {
   "display_name": ".NET (C#)",
   "language": "C#",
   "name": ".net-csharp"
  },
  "language_info": {
   "name": "polyglot-notebook"
  },
  "polyglot_notebook": {
   "kernelInfo": {
    "defaultKernelName": "csharp",
    "items": [
     {
      "aliases": [],
      "languageName": "csharp",
      "name": "csharp"
     }
    ]
   }
  }
 },
 "nbformat": 4,
 "nbformat_minor": 2
}
