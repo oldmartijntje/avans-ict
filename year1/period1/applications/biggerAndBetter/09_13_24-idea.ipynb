{
 "cells": [
  {
   "cell_type": "markdown",
   "metadata": {},
   "source": [
    "Dit is mn eigen opdracht waarbij ik alle begin opdrachten samenvoeg.\n",
    "\n",
    "# part 1\n",
    "\n",
    "1. print hello world\n",
    "2. maak ascii art.\n",
    "3. vraag de user om een username and password (alleen valide als t windows pc is)\n",
    "4. vraag de user voor zijn leeftijd.\n",
    "5. maak art met loops\n",
    "6. maak console groen\n",
    "7. show de current datum ergens"
   ]
  },
  {
   "cell_type": "code",
   "execution_count": null,
   "metadata": {
    "dotnet_interactive": {
     "language": "csharp"
    },
    "polyglot_notebook": {
     "kernelName": "csharp"
    }
   },
   "outputs": [],
   "source": []
  }
 ],
 "metadata": {
  "kernelspec": {
   "display_name": ".NET (C#)",
   "language": "C#",
   "name": ".net-csharp"
  },
  "language_info": {
   "name": "polyglot-notebook"
  },
  "polyglot_notebook": {
   "kernelInfo": {
    "defaultKernelName": "csharp",
    "items": [
     {
      "aliases": [],
      "languageName": "csharp",
      "name": "csharp"
     }
    ]
   }
  }
 },
 "nbformat": 4,
 "nbformat_minor": 2
}
