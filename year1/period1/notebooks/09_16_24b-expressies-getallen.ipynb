{
 "cells": [
  {
   "cell_type": "markdown",
   "metadata": {},
   "source": [
    "# Expressies met getallen\n",
    "\n",
    "Om te rekenen met getallen zijn er verschillende operatoren die op getallen werken, en ook getallen teruggeven.\n",
    "\n",
    "## Rekenen\n",
    "\n",
    "Om te rekenen met getallen zijn er de operatoren\n",
    "- `+` optellen\n",
    "- `-` aftrekken\n",
    "- `/` delen\n",
    "- `*` vermenigvuldigen\n",
    "- `%` modulo\n",
    "\n",
    "Hierbij verdient misschien alleen de modulo-operator wat extra aandacht. De modulo-operator (%) in C# geeft de rest die overblijft na het delen van twee getallen. Bijvoorbeeld, wanneer je 10 deelt door 3, is het resultaat 3 met een rest van 1. Deze rest, 1 in dit geval, is wat de modulo-operator teruggeeft. Dus 10 % 3 geeft 1.\n",
    "\n",
    "De modulo-operator wordt vaak gebruikt om te bepalen of getallen voldoen aan bepaalde voorwaarden, zoals even of oneven zijn, of om waarden binnen een bepaald bereik te houden door de rest van een deling te berekenen."
   ]
  },
  {
   "cell_type": "code",
   "execution_count": 1,
   "metadata": {
    "dotnet_interactive": {
     "language": "csharp"
    },
    "polyglot_notebook": {
     "kernelName": "csharp"
    }
   },
   "outputs": [
    {
     "name": "stdout",
     "output_type": "stream",
     "text": [
      "Het getal is even\r\n"
     ]
    }
   ],
   "source": [
    "int getal = 4;\n",
    "if(getal % 2 == 0)\n",
    "{\n",
    "    Console.WriteLine(\"Het getal is even\");\n",
    "}\n",
    "else\n",
    "{\n",
    "    Console.WriteLine(\"Het getal is oneven\");\n",
    "}"
   ]
  },
  {
   "cell_type": "markdown",
   "metadata": {},
   "source": [
    "Het type van de expressie met deze operatoren is afhankelijk van de typen van de variabelen die als parameters gebruikt\n",
    "\n",
    "- `int + int` geeft `int` als resultaat\n",
    "- `int * int` geeft `int` als resultaat\n",
    "- `int / int` geeft `int` als resultaat. \n",
    "  Dit is een integerdeling, en kan dus verlies van informatie geven. zo geeft `10 / 6` als resultaat `1`, en niet `1.6667`.\n",
    "- `int / double` en `double / int` geven `double` als resultaat. Deze deling geeft dus wel de cijfers achter de komma terug\n",
    "- `double / double` geeft `double` als resultaat\n",
    "\n",
    "Over het algemeen, als je 2 gehele getallen als parameters gebruikt, is het resultaat ook een geheel getal. Als een of beide parameters een decimaal getal zijn, is het resultaat ook een decimaal. Dit zorgt wel voor dat de volgende code een soms wat verwarrend resultaat kan geven"
   ]
  },
  {
   "cell_type": "code",
   "execution_count": 6,
   "metadata": {
    "dotnet_interactive": {
     "language": "csharp"
    },
    "polyglot_notebook": {
     "kernelName": "csharp"
    }
   },
   "outputs": [
    {
     "ename": "Error",
     "evalue": "(5,14): error CS0220: The operation overflows at compile time in checked mode",
     "output_type": "error",
     "traceback": [
      "(5,14): error CS0220: The operation overflows at compile time in checked mode"
     ]
    }
   ],
   "source": [
    "int a = 10;\n",
    "int b = 6;\n",
    "double c = a / b;\n",
    "Console.WriteLine(c); //wat is hier de output en waarom?"
   ]
  },
  {
   "cell_type": "markdown",
   "metadata": {},
   "source": [
    "\n",
    "## Kortere notaties\n",
    "\n",
    "Met het =-teken kan de inhoud een variabele veranderd worden. Zo kun je schrijven\n",
    "\n",
    "```csharp\n",
    "int score = 10; // initialisatie\n",
    "score = score + 10;\n",
    "```\n",
    "\n",
    "Het verhogen, verlagen etc van een variabele komt erg vaak voor in het programmeren, en heeft een verkorte notatie\n",
    "\n",
    "```csharp\n",
    "int score = 10;\n",
    "score += 10;\n",
    "```\n",
    "\n",
    "Deze notatie is er ook voor de `-`, `/`, `*` en `%` operatoren\n",
    "```csharp\n",
    "int score = 10;\n",
    "score += 10; // score = score + 10; 20\n",
    "score -= 5;  // score = score - 5;  15\n",
    "score *= 2;  // score = score * 2;  30\n",
    "score /= 5;  // score = score / 5;  6\n",
    "score %= 5;  // score = score % 5;  1\n",
    "```\n",
    "\n",
    "Voor de + en -, is er ook nog een kortere notatie om met 1 op te hogen of 1 te verlagen\n",
    "\n",
    "```csharp\n",
    "int score = 10;\n",
    "score++; // score = score + 1;\n",
    "score--; // score = score - 1;\n",
    "```\n",
    "\n",
    "Let er dus op dat deze verkorte notatie gaat over het **veranderen van variabelen**. In een expressie met een resultaat (een berekening) horen deze verkorte notaties dus niet thuis\n",
    "```csharp\n",
    "int getal = 10;\n",
    "if(getal+=10 < 5) // niet gebruiken! je bedoelt waarschijnlijk if(getal + 10 < 5)\n",
    "{\n",
    "\n",
    "}\n",
    "```"
   ]
  },
  {
   "cell_type": "markdown",
   "metadata": {},
   "source": [
    "## Opdracht 1\n",
    "Maak een programma dat berekent hoeveel seconden er in een jaar zitten. Je kunt er vanuit gaan dat een jaar 365 dagen heeft. Bereken het aantal en sla dit op in de variabele `aantalSeconden`.\n"
   ]
  },
  {
   "cell_type": "code",
   "execution_count": 3,
   "metadata": {
    "dotnet_interactive": {
     "language": "csharp"
    },
    "polyglot_notebook": {
     "kernelName": "csharp"
    }
   },
   "outputs": [
    {
     "name": "stdout",
     "output_type": "stream",
     "text": [
      "31536000\r\n"
     ]
    }
   ],
   "source": [
    "int dagenInEenJaar = 365;\n",
    "int aantalSeconden = 0;\n",
    "aantalSeconden = dagenInEenJaar * 24 * 60 * 60;\n",
    "Console.WriteLine(aantalSeconden);"
   ]
  },
  {
   "cell_type": "markdown",
   "metadata": {},
   "source": [
    "## Opdracht 2\n",
    "Floating point output (wiskundige notatie). Run de code en kijk wat er gebeurt. Kun je dit gedrag verklaren?"
   ]
  },
  {
   "cell_type": "code",
   "execution_count": 4,
   "metadata": {
    "dotnet_interactive": {
     "language": "csharp"
    },
    "polyglot_notebook": {
     "kernelName": "csharp"
    }
   },
   "outputs": [
    {
     "name": "stdout",
     "output_type": "stream",
     "text": [
      "10000\n",
      "10000000\n",
      "1E+10\n",
      "1E+13\n"
     ]
    }
   ],
   "source": [
    "float a = 10;\n",
    "a = a * 1000;\n",
    "Console.WriteLine(a);\n",
    "a = a * 1000;\n",
    "Console.WriteLine(a);\n",
    "a = a * 1000;\n",
    "Console.WriteLine(a);\n",
    "a = a * 1000;\n",
    "Console.WriteLine(a);"
   ]
  }
 ],
 "metadata": {
  "kernelspec": {
   "display_name": ".NET (C#)",
   "language": "C#",
   "name": ".net-csharp"
  },
  "language_info": {
   "name": "polyglot-notebook"
  },
  "polyglot_notebook": {
   "kernelInfo": {
    "defaultKernelName": "csharp",
    "items": [
     {
      "aliases": [],
      "languageName": "csharp",
      "name": "csharp"
     }
    ]
   }
  }
 },
 "nbformat": 4,
 "nbformat_minor": 2
}
