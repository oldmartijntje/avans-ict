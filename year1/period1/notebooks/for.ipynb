{
 "cells": [
  {
   "cell_type": "markdown",
   "metadata": {},
   "source": [
    "# For loop\n",
    "\n",
    "De for-loop wordt gebruikt om een blok code een bepaald aantal keren uit te voeren. De for-loop is vooral handig wanneer je weet hoeveel herhalingen je wilt uitvoeren, dus om een stuk code bijvoorbeeld 10 keer te herhalen. Hierbij wordt en teller bijgehouden die gebruikt kan worden in berekeningen als dit nodig is.\n",
    "\n",
    "## Syntax\n",
    "\n",
    "De algemene syntax van een for-loop in C# ziet er als volgt uit:\n",
    "\n",
    "```csharp\n",
    "for (initialisatie; conditie; iteratie)\n",
    "{\n",
    "    // Code om uit te voeren\n",
    "}\n",
    "```\n",
    "- initialisatie  \n",
    "  Dit deel wordt één keer uitgevoerd aan het begin van de loop. Meestal wordt hier een lusvariabele gedeclareerd en geïnitialiseerd. Deze lusvariabele heet vaak i, voor index of iterator, en is meestal een integer die bij 0 begint\n",
    "- conditie:  \n",
    "  Deze expressie wordt voor elke iteratie geëvalueerd. Als de conditie true is, wordt de code binnen de lus uitgevoerd. Als de conditie false is, stopt de loop. Met de conditie kan aangegeven worden hoe vaak de lus zal uitvoeren\n",
    "- iteratie:  \n",
    "  Dit deel wordt aan het einde van elke iteratie uitgevoerd. Meestal wordt hier de lusvariabele bijgewerkt.\n",
    "\n",
    "Een voorbeeld hiervan is"
   ]
  },
  {
   "cell_type": "code",
   "execution_count": null,
   "metadata": {},
   "outputs": [],
   "source": [
    "for (int i = 0; i < 10; i++)\n",
    "{\n",
    "    Console.WriteLine(i);\n",
    "}"
   ]
  },
  {
   "cell_type": "markdown",
   "metadata": {},
   "source": [
    "Deze for-lus zal de code 10 keer uitvoeren, waarbij de i-variabele de eerste keer 0 is, en de laatste keer 9 is. Van 0 t/m 9 is dus 10 keer, let er op dat de 0 ook meetelt. Door de initialisatie, conditie en iteratie aan te passen, zijn natuurlijk ook andere lussen mogelijk"
   ]
  },
  {
   "cell_type": "code",
   "execution_count": null,
   "metadata": {},
   "outputs": [],
   "source": [
    "for(int i = 9; i >= 0; i++)\n",
    "{\n",
    "    Console.WriteLine(i);\n",
    "}"
   ]
  },
  {
   "cell_type": "markdown",
   "metadata": {},
   "source": [
    "Deze code zal ook 10 keer iets uitvoeren, maar nu loopt de i-variabele af"
   ]
  },
  {
   "cell_type": "code",
   "execution_count": null,
   "metadata": {},
   "outputs": [],
   "source": [
    "for(int i = 0; i < 20; i += 2)\n",
    "{\n",
    "    Console.WriteLine(i);\n",
    "}"
   ]
  },
  {
   "cell_type": "markdown",
   "metadata": {},
   "source": [
    "Let hierbij goed op, de for-lus kan verkeerd gemaakt worden, waarbij de for-lus 'oneindig' lang doorgaat. Dit kan verschillende oorzaken hebben\n",
    "```csharp\n",
    "for(int i = 0; i != 9; i += 2) // Hier zal i nooit 9 worden, maar wel 0, 2, 4, 6, 8, 10, 12 etc\n",
    "for(int i = 0; i < 10; i--) // verkeerde kant opgeteld\n",
    "for(int i = 0; i < 10; i-1) // de conditie past de i-variabele niet aan\n",
    "```\n",
    "\n",
    "Indien dit gebeurt crasht je applicatie, en zal je de applicatie moeten stoppen. In een notebook kan dit ook gebeuren, en kun je bovenin VS Code op een knop drukken om de uitvoer te stoppen"
   ]
  },
  {
   "cell_type": "markdown",
   "metadata": {},
   "source": [
    "## Flowcharts\n",
    "\n",
    "In flowcharts is er geen speciaal symbool voor een for-lus, maar kunnen we de for lus uitsplitsen. Hierbij gebruiken we dezelfde symbolen als bij een if-statement, maar hebben we een extra pijl die terugloopt\n",
    "\n",
    "```mermaid\n",
    "---\n",
    "config:\n",
    "    flowchart:\n",
    "        defaultRenderer: elk\n",
    "---\n",
    "\n",
    "flowchart TD\n",
    "    subgraph  \n",
    "    A[int i = 0] --> B\n",
    "    B{\"i < 10\"} --true--> C\n",
    "    C(i) --> D\n",
    "    D[i++] --> B\n",
    "    end\n",
    "    B --false--> E(\"Done\")\n",
    "```"
   ]
  },
  {
   "cell_type": "markdown",
   "metadata": {},
   "source": [
    "## Opdracht 1\n",
    "Maak een programma dat de getallen 1 t/m 100 uitprint"
   ]
  },
  {
   "cell_type": "code",
   "execution_count": null,
   "metadata": {
    "dotnet_interactive": {
     "language": "csharp"
    },
    "polyglot_notebook": {
     "kernelName": "csharp"
    }
   },
   "outputs": [],
   "source": []
  },
  {
   "cell_type": "markdown",
   "metadata": {},
   "source": [
    "## Opdracht 2\n",
    "Maak een programma dat de getallen 100 t/m 1 uitprint"
   ]
  },
  {
   "cell_type": "code",
   "execution_count": null,
   "metadata": {
    "dotnet_interactive": {
     "language": "csharp"
    },
    "polyglot_notebook": {
     "kernelName": "csharp"
    }
   },
   "outputs": [],
   "source": []
  },
  {
   "cell_type": "markdown",
   "metadata": {},
   "source": [
    "## Opdracht 3\n",
    "Maak een programma dat alle even getallen onder de 100 uitprint"
   ]
  },
  {
   "cell_type": "code",
   "execution_count": null,
   "metadata": {
    "dotnet_interactive": {
     "language": "csharp"
    },
    "polyglot_notebook": {
     "kernelName": "csharp"
    }
   },
   "outputs": [],
   "source": []
  },
  {
   "cell_type": "markdown",
   "metadata": {
    "slideshow": {
     "slide_type": "slide"
    }
   },
   "source": [
    "## Opdracht 4\n",
    "Maak een programma dat een een vierkant van 5x5 in sterretjes uitprint. Maak gebruik van een loop\n",
    "\n",
    "```\n",
    "*****\n",
    "*****\n",
    "*****\n",
    "*****\n",
    "*****\n",
    "```"
   ]
  },
  {
   "cell_type": "code",
   "execution_count": null,
   "metadata": {
    "dotnet_interactive": {
     "language": "csharp"
    },
    "polyglot_notebook": {
     "kernelName": "csharp"
    }
   },
   "outputs": [],
   "source": []
  },
  {
   "cell_type": "markdown",
   "metadata": {},
   "source": [
    "## Opdracht 5\n",
    "Bereken de som van alle getallen tussen 0 en 100"
   ]
  },
  {
   "cell_type": "code",
   "execution_count": null,
   "metadata": {
    "dotnet_interactive": {
     "language": "csharp"
    },
    "polyglot_notebook": {
     "kernelName": "csharp"
    }
   },
   "outputs": [],
   "source": []
  },
  {
   "cell_type": "markdown",
   "metadata": {},
   "source": [
    "## Opdracht 6\n",
    "Bereken en print de waarde van 10 [faculteit](https://nl.wikipedia.org/wiki/Faculteit_(wiskunde)). De faculteit is de vermenigvuldiging van de gehele getallen die groter zijn dan 0, maar kleiner of gelijk aan 10 (dus 10 faculteit is 1\\*2\\*3\\*4\\*5\\*6\\*7\\*8\\*9\\*10). Schrijf je code zo dat het gemakkelijk is om ook andere faculteiten te berekenen, zoals die van 6 of 12. Gebruik om het algoritme te ontwerpen een flowchart"
   ]
  },
  {
   "cell_type": "code",
   "execution_count": null,
   "metadata": {
    "dotnet_interactive": {
     "language": "csharp"
    },
    "polyglot_notebook": {
     "kernelName": "csharp"
    }
   },
   "outputs": [],
   "source": []
  },
  {
   "cell_type": "markdown",
   "metadata": {},
   "source": [
    "## Opdracht 7\n",
    "Print de eerste 40 getallen uit de reeks van [Fibonacci](https://nl.wikipedia.org/wiki/Rij_van_Fibonacci). In de rij van Fibonacci is ieder getal de som van de 2 vorige getallen, waarbij de eerste twee getallen 1 zijn. De krij komt dan uit op\n",
    "1) 1\n",
    "2) 1\n",
    "3) 2 (1+1)\n",
    "4) 3 (1+2)\n",
    "5) 5 (2+3)\n",
    "6) 8 (3+5)\n",
    "7) 13 (5+8)\n",
    "8) 21 (8+13)\n",
    "9) 34 (13+21)\n",
    "\n",
    "Maak een ontwerp voor dit algoritme met een flowchart, en schrijf hierna de code"
   ]
  },
  {
   "cell_type": "code",
   "execution_count": null,
   "metadata": {
    "dotnet_interactive": {
     "language": "csharp"
    },
    "polyglot_notebook": {
     "kernelName": "csharp"
    }
   },
   "outputs": [],
   "source": []
  }
 ],
 "metadata": {
  "kernelspec": {
   "display_name": ".NET (C#)",
   "language": "C#",
   "name": ".net-csharp"
  },
  "language_info": {
   "name": "polyglot-notebook"
  },
  "polyglot_notebook": {
   "kernelInfo": {
    "defaultKernelName": "csharp",
    "items": [
     {
      "aliases": [],
      "languageName": "csharp",
      "name": "csharp"
     }
    ]
   }
  }
 },
 "nbformat": 4,
 "nbformat_minor": 2
}
