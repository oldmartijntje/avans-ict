{
 "cells": [
  {
   "cell_type": "markdown",
   "metadata": {},
   "source": [
    "# Filteren en sorteren van lijst\n",
    "- Filteren op een conditie\n",
    "\n",
    "Bij het uitlezen hebben we al gezien dat je een enkele waarde kunt ophalen door lijst[index] te gebruiken.\n"
   ]
  },
  {
   "cell_type": "markdown",
   "metadata": {},
   "source": [
    "Om te kunnen filteren wordt vaak gebruik gemaakt van Lambda expressions (input-parameters => expression). Dit is een verkorte manier van een methode schrijven. \n",
    "\n",
    "Zo kunnen we uit onderstaande namenlijst zoeken naar het eerste item wat begint met een 'J', maar we kunnen ook alle items zoeken die beginnen met een 'J'.\n",
    "\n",
    "Zoals je in onderstaande voorbeelden kunt zien, haal je een enkele waarde op met 'Find' en meerdere waarden met 'FindAll'."
   ]
  },
  {
   "cell_type": "code",
   "execution_count": null,
   "metadata": {
    "dotnet_interactive": {
     "language": "csharp"
    },
    "polyglot_notebook": {
     "kernelName": "csharp"
    }
   },
   "outputs": [],
   "source": [
    "List<string> namenLijst = [\"Marc\", \"Marcel\", \"William\", \"Robin\", \"Jan\", \"Johan\", \"Erik\"];\n",
    "\n",
    "string eersteGevonden = namenLijst.Find(naam => naam.StartsWith(\"J\"));\n",
    "Console.WriteLine(eersteGevonden);\n",
    "\n",
    "List<string> selectie = namenLijst.FindAll(naam => naam.StartsWith(\"J\"));\n",
    "foreach(var naam in selectie)\n",
    "{\n",
    "   Console.WriteLine(naam);\n",
    "}\n"
   ]
  },
  {
   "cell_type": "markdown",
   "metadata": {},
   "source": [
    "Zo kunnen we ook alle namen zoeken waarin een `\"i\"` of een `\"a\"` voorkomt met de optie `Contains`. Let op: Contains is hier een methode van het `string` object. "
   ]
  },
  {
   "cell_type": "code",
   "execution_count": null,
   "metadata": {
    "dotnet_interactive": {
     "language": "csharp"
    },
    "polyglot_notebook": {
     "kernelName": "csharp"
    }
   },
   "outputs": [],
   "source": [
    "List<string> namenLijst = [\"Marc\", \"Marcel\", \"William\", \"Robin\", \"Jan\", \"Johan\", \"Erik\"];\n",
    "\n",
    "string eersteGevonden = namenLijst.Find(naam => naam.Contains(\"i\") || naam.Contains(\"a\"));\n",
    "Console.WriteLine(eersteGevonden);\n",
    "\n",
    "List<string> selectie = namenLijst.FindAll(naam => naam.Contains(\"i\") || naam.Contains(\"a\"));\n",
    "\n",
    "foreach(var naam in selectie)\n",
    "{\n",
    "   Console.WriteLine(naam);\n",
    "}\n"
   ]
  },
  {
   "cell_type": "markdown",
   "metadata": {},
   "source": [
    "Het is mogelijk om ook een exacte overeenkomst te zoeken in een lijst zonder een lambda expressie te gebruiken. Hiervoor gebruiken we de `Contains` methode van de lijst. "
   ]
  },
  {
   "cell_type": "code",
   "execution_count": null,
   "metadata": {
    "dotnet_interactive": {
     "language": "csharp"
    },
    "polyglot_notebook": {
     "kernelName": "csharp"
    }
   },
   "outputs": [],
   "source": [
    "List<string> namenLijst = [\"Marc\", \"Marcel\", \"William\", \"Robin\", \"Jan\", \"Johan\", \"Erik\"];\n",
    "\n",
    "bool zitMarcInDeLijst = namenLijst.Contains(\"Marc\");"
   ]
  },
  {
   "cell_type": "markdown",
   "metadata": {},
   "source": [
    "Nu gaan we filteren in een lijst met getallen.\n"
   ]
  },
  {
   "cell_type": "code",
   "execution_count": null,
   "metadata": {
    "dotnet_interactive": {
     "language": "csharp"
    },
    "polyglot_notebook": {
     "kernelName": "csharp"
    }
   },
   "outputs": [],
   "source": [
    "List<int> getallenLijst = [10, 4, 7, 18, 20, 60, 55, -100];\n",
    "\n",
    "int eersteGevonden = getallenLijst.Find(getal => getal > 18);\n",
    "Console.WriteLine(eersteGevonden);\n",
    "\n",
    "List<int> selectie = getallenLijst.FindAll(getal => getal > 18);\n",
    "\n",
    "foreach(var getal in selectie)\n",
    "{\n",
    "   Console.WriteLine(getal);\n",
    "}\n"
   ]
  },
  {
   "cell_type": "markdown",
   "metadata": {},
   "source": [
    "Je kunt een lijst ook sorteren.\n"
   ]
  },
  {
   "cell_type": "code",
   "execution_count": null,
   "metadata": {
    "dotnet_interactive": {
     "language": "csharp"
    },
    "polyglot_notebook": {
     "kernelName": "csharp"
    }
   },
   "outputs": [],
   "source": [
    "List<int> getallenLijst = [10, 4, 7, 18, 20, 60, 55, -100];\n",
    "\n",
    "getallenLijst.Sort();\n",
    "\n",
    "foreach(var getal in getallenLijst)\n",
    "{\n",
    "   Console.WriteLine(getal);\n",
    "}\n"
   ]
  },
  {
   "cell_type": "code",
   "execution_count": 1,
   "metadata": {
    "dotnet_interactive": {
     "language": "csharp"
    },
    "polyglot_notebook": {
     "kernelName": "csharp"
    }
   },
   "outputs": [
    {
     "name": "stdout",
     "output_type": "stream",
     "text": [
      "Erik\n",
      "Jan\n",
      "Johan\n",
      "Marc\n",
      "Marcel\n",
      "Robin\n",
      "William\n"
     ]
    }
   ],
   "source": [
    "List<string> namenLijst = [\"Marc\", \"Marcel\", \"William\", \"Robin\", \"Jan\", \"Johan\", \"Erik\"];\n",
    "\n",
    "namenLijst.Sort();\n",
    "\n",
    "foreach(var naam in namenLijst)\n",
    "{\n",
    "   Console.WriteLine(naam);\n",
    "}\n"
   ]
  },
  {
   "cell_type": "markdown",
   "metadata": {},
   "source": [
    "# Opdrachten\n",
    "\n",
    "## Opdracht 1\n",
    "Soms staat Waldo in onderstaande lijst. Ga op zoek naar `\"Waldo\"` en print of je hem gevonden hebt."
   ]
  },
  {
   "cell_type": "code",
   "execution_count": 25,
   "metadata": {
    "dotnet_interactive": {
     "language": "csharp"
    },
    "polyglot_notebook": {
     "kernelName": "csharp"
    }
   },
   "outputs": [
    {
     "name": "stdout",
     "output_type": "stream",
     "text": [
      "Waldo\n",
      "Waldo\n"
     ]
    }
   ],
   "source": [
    "List<string> namenLijst = [\"Juliette\", \"Waldorf\", \"Eren\", \"Tristan\", System.DateTime.Now.Second % 2 == 0 ? \"Waldo\" : \"Marc\" ];\n",
    "\n",
    "string waldo = namenLijst.Find(naam => naam == \"Waldo\");\n",
    "Console.WriteLine(waldo);\n",
    "Console.WriteLine(namenLijst.Contains(\"Waldo\") ? \"Waldo\" : \"Geen Waldo\");\n",
    "// Jouw code hier"
   ]
  },
  {
   "cell_type": "markdown",
   "metadata": {},
   "source": [
    "## Opdracht 2\n",
    "Je hebt een boodschappenlijstje gekregen. Jij bent echter alleen geïnteresseerd in artikelen die *niet* starten met 'Choco'. Schrijf code die een gezond boodschappenlijstje vult, sorteer deze en print deze naar de console."
   ]
  },
  {
   "cell_type": "code",
   "execution_count": 28,
   "metadata": {
    "dotnet_interactive": {
     "language": "csharp"
    },
    "polyglot_notebook": {
     "kernelName": "csharp"
    }
   },
   "outputs": [
    {
     "name": "stdout",
     "output_type": "stream",
     "text": [
      "Avocado, Broccoli, Appels, Bananen\r\n"
     ]
    }
   ],
   "source": [
    "List<string> boodschappenLijst = [\"Avocado\", \"Choco chip cookies\", \"Broccoli\", \"Appels\", \"Chocoladecake\", \"Bananen\", \"Chocolade\"];\n",
    "List<string> gezondeBoodschappen = boodschappenLijst.FindAll(item => !item.StartsWith(\"Choco\"));\n",
    "\n",
    "Console.WriteLine(string.Join(\", \", gezondeBoodschappen));\n",
    "// Jouw code hier\n"
   ]
  }
 ],
 "metadata": {
  "kernelspec": {
   "display_name": ".NET (C#)",
   "language": "C#",
   "name": ".net-csharp"
  },
  "language_info": {
   "name": "polyglot-notebook"
  },
  "polyglot_notebook": {
   "kernelInfo": {
    "defaultKernelName": "csharp",
    "items": [
     {
      "aliases": [],
      "languageName": "csharp",
      "name": "csharp"
     }
    ]
   }
  }
 },
 "nbformat": 4,
 "nbformat_minor": 2
}
