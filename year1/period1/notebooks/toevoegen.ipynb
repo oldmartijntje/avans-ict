{
 "cells": [
  {
   "cell_type": "markdown",
   "metadata": {},
   "source": [
    "# Lijsten\n",
    "Binnen C# hebben we ook een datatype dat lijsten heet. Een lijst is een verzameling van elementen die je kan toevoegen, verwijderen en aanpassen. Een lijst is een dynamische datastructuur, wat betekent dat je de grootte van de lijst niet op voorhand hoeft te  bepalen. Je kunt altijd items toevoegen en verwijderen.\n",
    "\n",
    "## Initialisatie\n",
    "Je initialiseert een lijst in C# als volgt:\n",
    "`List<T> variableName = [];`\n",
    "Hierin kan in essentie <T> elke soort datatype zijn. Voor nu houden we ons vooral bezig met string en int. Andere datatypes zijn buiten scope. \n",
    "\n",
    "Zeg dat we een lijst met int hebben die opbrengst van de zonnepanelen per min in wattuur aangeven. Dat zal als volgt eruitzien:\n",
    "`List<int> solarProfits = [10, 4, 9, 12, 90, 165];`\n",
    "\n",
    "C# geeft je vele opties om een lege lijst aan te maken. \n",
    "\n",
    "```\n",
    "var solarProfits = new List<int>();\n",
    "List<int> solarProfits = new List<int>();\n",
    "List<int> solarProfits = new();\n",
    "List<int> solarProfits = default;\n",
    "List<int> solarProfits = [];\n",
    "```\n",
    "\n",
    "De voorbeelden die wij geven gebruiken we de _collection initializer_ `[]`. Omdat wanneer je deze consistent gebruikt je later geavanceerdere manieren kunt inzetten om collecties te initialiseren. Functioneel zijn bovenstaande regels echter exact hetzelfde. \n"
   ]
  },
  {
   "cell_type": "markdown",
   "metadata": {},
   "source": [
    "## Toevoegen\n",
    "Om nieuwe opbrengsten toe te voegen aan een bestaande lijst, kunnen we gebruik maken van de `List<T>.Add(T item)` methode. Met deze methode kunnen we 1 item per keer toevoegen aan de lijst. We maken de lijst aan met data, en voegen daarna nieuwe data toe:"
   ]
  },
  {
   "cell_type": "code",
   "execution_count": null,
   "metadata": {
    "dotnet_interactive": {
     "language": "csharp"
    },
    "polyglot_notebook": {
     "kernelName": "csharp"
    }
   },
   "outputs": [],
   "source": [
    "List<int> solarProfits = [12, 54, 56, 785]; // We maken de lijst aan met vooraf ingevulde data.\n",
    "\n",
    "solarProfits.Add(100);\n",
    "solarProfits.Add(12);\n",
    "solarProfits.Add(1000);\n",
    "solarProfits.Add(29);\n"
   ]
  },
  {
   "cell_type": "code",
   "execution_count": null,
   "metadata": {
    "dotnet_interactive": {
     "language": "csharp"
    },
    "polyglot_notebook": {
     "kernelName": "csharp"
    }
   },
   "outputs": [],
   "source": [
    "List<int> solarProfits = []; // We maken een lege lijst aan\n",
    "\n",
    "solarProfits.Add(100);\n",
    "solarProfits.Add(12);\n",
    "solarProfits.Add(1000);\n",
    "solarProfits.Add(29);\n"
   ]
  },
  {
   "cell_type": "markdown",
   "metadata": {},
   "source": [
    "Zo kunnen we ook een lijst maken van variabelen met het datatype `string`."
   ]
  },
  {
   "cell_type": "code",
   "execution_count": null,
   "metadata": {
    "dotnet_interactive": {
     "language": "csharp"
    },
    "polyglot_notebook": {
     "kernelName": "csharp"
    }
   },
   "outputs": [],
   "source": [
    "List<string> statussen = []; // We maken een lege lijst aan\n",
    "\n",
    "statussen.Add(\"Begin\");\n",
    "statussen.Add(\"Bezig\");\n",
    "statussen.Add(\"Einde\");\n",
    "\n"
   ]
  },
  {
   "cell_type": "markdown",
   "metadata": {},
   "source": [
    "# Opdrachten"
   ]
  },
  {
   "cell_type": "markdown",
   "metadata": {},
   "source": [
    "## Opdracht 1\n",
    "\n",
    "Maak een programma waarin je een lege lijst van strings aanmaakt.\n",
    "Je vraagt de gebruiker een woord in te voeren en blijft dit net zolang doen tot de gebruiker 'stop' invoert. Zodra de gebruiker dit heeft gedaan laat je alle ingevoerde woorden achter elkaar zien met een spatie tussen de woorden. "
   ]
  },
  {
   "cell_type": "code",
   "execution_count": null,
   "metadata": {
    "dotnet_interactive": {
     "language": "csharp"
    },
    "polyglot_notebook": {
     "kernelName": "csharp"
    }
   },
   "outputs": [],
   "source": []
  },
  {
   "cell_type": "markdown",
   "metadata": {},
   "source": [
    "## Opdracht 2\n",
    "\n",
    "Maak twee lijsten waarin je getallen zonder decimalen kunt opslaan. Ook hier blijf je de gebruiker om getallen vragen totdat 'stop' wordt ingevoerd, in de ene lijst sla je alleen getallen op die zonder rest deelbaar zijn door 5. De overige getallen sla je op in de tweede lijst. Nadat de gebruiker stop heeft ingevoerd toon je: Onder elkaar: 'De veelvouden van vijf zijn: - de getallen naast elkaar met een spatie -' en vervolgens: 'De overige ingevoerde getallen zijn: - de getallen naast elkaar met een spatie -' "
   ]
  },
  {
   "cell_type": "code",
   "execution_count": null,
   "metadata": {
    "dotnet_interactive": {
     "language": "csharp"
    },
    "polyglot_notebook": {
     "kernelName": "csharp"
    }
   },
   "outputs": [],
   "source": []
  }
 ],
 "metadata": {
  "kernelspec": {
   "display_name": ".NET (C#)",
   "language": "C#",
   "name": ".net-csharp"
  },
  "language_info": {
   "name": "polyglot-notebook"
  },
  "polyglot_notebook": {
   "kernelInfo": {
    "defaultKernelName": "csharp",
    "items": [
     {
      "aliases": [],
      "languageName": "csharp",
      "name": "csharp"
     }
    ]
   }
  }
 },
 "nbformat": 4,
 "nbformat_minor": 2
}
