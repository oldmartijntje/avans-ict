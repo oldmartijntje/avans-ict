{
 "cells": [
  {
   "cell_type": "markdown",
   "metadata": {},
   "source": [
    "# Datatypes\n",
    "\n",
    "Om verschillende soorten data op te slaan zijn er verschillende datatypes. Deze datatypes hebben allemaal hun eigen mogelijkheden, geheugengebruik en een eigen doel.\n",
    "\n",
    "## Numerieke Datatypes\n",
    "In een numerieke variabele kan 'een getal' opgeslagen worden. Er zijn echter 2 soorten getallen waar we mee kunnen werken, decimale getallen en gehele getallen(zonder komma). Hier zijn dus ook verschillende datatypes voor.\n",
    "\n",
    "### Gehele getallen\n",
    "Om een geheel getal op te slaan kunnen we verschillende datatypes gebruiken. Hierbij bepaalt het datatype of er ook negatieve getallen in opgeslagen kunnen worden of alleen positieve getallen en hoeveel geheugen de variabele gebruikt. Deze twee factoren bepalen het bereik van de waarden die in de variabele opgeslagen kunnen worden. Het kunnen opslaan van negatieve waarden wordt 'signedness' genoemd. Een variabele kan signed (kan negatieve waarden bevatten) of unsigned (kan geen negatieve waarden bevatten) zijn. Over het algemeen wordt standaard het datatype `int` gebruikt voor getallen.\n",
    "\n",
    "| type naam | geheugengrootte  | signedness | bereik                                       |\n",
    "|-----------|------------------|------------|----------------------------------------------|\n",
    "| sbyte     | 1 byte / 8 bit   | signed     | -128 t/m 127                                 |\n",
    "| byte      | 1 byte / 8 bit   | unsigned   | 0 t/m 255                                    |\n",
    "| short     | 2 bytes / 16 bit | signed     | -32768 t/m 32767                             |\n",
    "| ushort    | 2 bytes / 16 bit | unsigned   | 0 t/m 65535                                  |\n",
    "| int       | 4 bytes / 32 bit | signed     | -2147483648 t/m 2147483647                   |\n",
    "| uint      | 4 bytes / 32 bit | unsigned   | 0 t/m 4294967295                             |\n",
    "| long      | 8 bytes / 64 bit | signed     | -9223372036854775808 t/m 9223372036854775807 |\n",
    "| ulong     | 8 bytes / 64 bit | unsigned   | 0 t/m 18446744073709551615                   |\n",
    "\n",
    "Bij het afwegen wat voor datatype je gebruikt om een geheel getal op te slaan is het dus belangrijk te weten hoe groot de nummers zijn die je er in wilt opslaan.\n",
    "\n",
    "### Decimale getallen\n",
    "Naast gehele getallen kunnen ook decimale getallen opgeslagen worden. Hier kunnen floating point types voor gebruikt worden, of het decimal datatype. Er zijn 2 floating point datatypes, `float` en `double`, waarbij een float 32 bit is, en een double 64 bits is. Een floating point slaat in het geheugen de waarde op in een soort wetenschappelijke notatie, en verliest nauwkeurigheid bij hoge waardes. Door deze onnauwkeurigheid kunnen er kleine afwijkingen ontstaan bij berekeningen [zie wikipedia](https://nl.wikipedia.org/wiki/Zwevendekommagetal). \n",
    "\n",
    "Daarnaast heeft C# het `Decimal` datatype voor decimale getallen. Dit datatype is vooral bedoeld voor financiele en geld-waarden en gebruikt 128 bit.\n",
    "\n",
    "Over het algemeen zie je voor decimale getallen meestal `float` gebruikt worden, maar voor geldbedragen de `Decimal`.\n",
    "\n",
    "## Tekst\n",
    "Het datatype `string` wordt gebruikt om tekst op te slaan. \n",
    "<iframe width=\"560\" height=\"315\" src=\"https://www.youtube.com/embed/lXheKhL6dDA?si=njnNH2OnEHzWRYR3\" title=\"YouTube video player\" frameborder=\"0\" allow=\"accelerometer; autoplay; clipboard-write; encrypted-media; gyroscope; picture-in-picture; web-share\" referrerpolicy=\"strict-origin-when-cross-origin\" allowfullscreen></iframe>  \n",
    "\n",
    "Om meer te leren over het bewerken van strings, kijk in het onderdeel [expressies - strings](expressies-strings)\n",
    "\n",
    "## Booleans\n",
    "Bij het ontwikkelen van software zul je ook vaak een waarheidswaarde moeten opslaan, `true` of `false`. Deze waardes zou je kunnen opslaan in een `int` als 0 en 1, maar C# heeft hier een eigen datatype voor, de `bool`. Een `bool` waarde kan alleen `true` of `false` bevatten en gebruikt 1 byte aan geheugen (hoewel maar 1 bit nodig is). \n",
    "\n",
    "## Literals\n",
    "Om deze datatypes een waarde te geven, moeten deze waardes ook in C# getypt kunnen worden. Een waarde die letterlijk in de code staat heet een literal, en is bijvoorbeeld `1000`. Om de types in de code te laten matchen, is het af en toe nodig om aan te geven aan C# wat voor type een literal is, bijvoorbeeld het verschil tussen een `float` en een `double`. Om het type van een literal te forceren kun je de volgende karakters in/achter het getal zetten:\n",
    "\n",
    "| suffix | voorbeeld | getal                 |\n",
    "|--------|-----------|-----------------------|\n",
    "| U      | 10U       | unsigned int of long  |\n",
    "| L      | 10L       | long of unsigned long |\n",
    "| UL     | 10UL      | unsigned long         |\n",
    "| .      | 10.5      | double                |\n",
    "| . f    | 10.5f     | float                 |\n",
    "| . M    | 10.0M     | Decimal               |\n",
    "\n",
    "De U en L mogen ook kleine letters zijn (u/l), maar voor leesbaarheid (de l lijkt op een 1) is het aan te raden een hoofdletter te gebruiken. Om grote getallen duidelijker te beschrijven, mag je ook een _ gebruiken in een getal, dit karakter zal genegeerd worden, maar kun je gebruiken om een splitsing te geven in 1000-tallen\n",
    "```cs\n",
    "int miljoen = 1_000_000;\n",
    "```\n",
    "Het is ook mogelijk om op andere manieren getallen te noteren (binair, octaal, hexadecimaal), maar dit valt buiten de scope van dit onderwerp\n",
    "\n",
    "## Standaardwaarden\n",
    "Als er geen initiële waarde aan een variabele gegeven wordt, zal deze een standaardwaarde (default value) krijgen.\n",
    "- Voor gehele getallen is dit 0\n",
    "- Voor decimale getallen is dit 0.0\n",
    "- Voor booleans is dit false\n",
    "\n",
    "## Overflows\n",
    "In C# (en andere programmeertalen) heeft elke variabele een bepaald bereik aan waarden die het kan opslaan. Als in een variabele een waarde wordt opgeslagen die te groot of te klein is, dus buiten het bereik van de variabele valt, heet dit een overflow. Dit zorgt er voor dat de waarde die je uit een variabele haalt, ineens niet meer correct is.\n"
   ]
  },
  {
   "cell_type": "code",
   "execution_count": 1,
   "metadata": {
    "dotnet_interactive": {
     "language": "csharp"
    },
    "polyglot_notebook": {
     "kernelName": "csharp"
    }
   },
   "outputs": [
    {
     "name": "stdout",
     "output_type": "stream",
     "text": [
      "10000\n",
      "-27008\n"
     ]
    }
   ],
   "source": [
    "short waarde = 10000;\n",
    "Console.WriteLine(waarde);\n",
    "waarde = (short)(waarde * 1000);\n",
    "Console.WriteLine(waarde);"
   ]
  },
  {
   "cell_type": "markdown",
   "metadata": {},
   "source": [
    "Bij een overflow kunnen waarden ook van positieve getallen naar negatieve getallen schieten. Wees hierop bedacht, dit kan issues geven in je code"
   ]
  },
  {
   "cell_type": "markdown",
   "metadata": {},
   "source": [
    "\n",
    "## Var\n",
    "\n",
    "Het var keyword kan gebruikt worden om de compiler automatisch het variabeletype te laten bepalen. Het variabeletype wordt bepaald aan de hand van wat er na het = teken staat, en kan hierna dus ook niet veranderen, het is dus niet een variabel variabeletype. Dit wordt vooral gebruikt in een latere fase van de opleiding, waarbij variabeletypes met langere namen gebruikt gaan worden. In deze periode kun je het misschien tegenkomen in voorbeeldcode, maar probeer zelf de expliciete variabeletypes te gebruiken. Bij het gebruik van var is het soms lastig af te lezen wat het type van een variabele is, wat de code ook minder leesbaar kan maken.\n",
    "\n",
    "```csharp\n",
    "var getal = 10;\n",
    "var tekst = \"hallo\";\n",
    "var decimaal = 10.5;\n",
    "```\n",
    "In bovenstaande code is getal van het type `int`, tekst van het type `string`, en decimaal van het type `double`."
   ]
  },
  {
   "cell_type": "markdown",
   "metadata": {},
   "source": [
    "## Voor meer info\n",
    "- [C# documentatie - Integers](https://learn.microsoft.com/en-us/dotnet/csharp/language-reference/builtin-types/integral-numeric-types)\n",
    "- [C# documentatie - literals](https://learn.microsoft.com/en-us/dotnet/csharp/language-reference/builtin-types/integral-numeric-types#integer-literals)\n",
    "- [C# documentatie - Alle datatypes](https://learn.microsoft.com/en-us/dotnet/csharp/language-reference/builtin-types/built-in-types)"
   ]
  },
  {
   "cell_type": "markdown",
   "metadata": {},
   "source": [
    "## Opdrachten"
   ]
  },
  {
   "cell_type": "markdown",
   "metadata": {},
   "source": [
    "### Opdracht 1\n",
    "\n",
    "Wat gebeurt er als je in een unsigned variabele een overflow krijgt? Schrijf code die dit demonstreert"
   ]
  },
  {
   "cell_type": "code",
   "execution_count": 4,
   "metadata": {
    "dotnet_interactive": {
     "language": "csharp"
    },
    "polyglot_notebook": {
     "kernelName": "csharp"
    }
   },
   "outputs": [
    {
     "name": "stdout",
     "output_type": "stream",
     "text": [
      "32767\n",
      "-32768\n"
     ]
    }
   ],
   "source": [
    "short waarde = 32767;\n",
    "Console.WriteLine(waarde);\n",
    "waarde = (short)(waarde +1);\n",
    "Console.WriteLine(waarde);"
   ]
  },
  {
   "cell_type": "markdown",
   "metadata": {},
   "source": [
    "### Opdracht 2\n",
    "Wat zijn de volgende datatypes?"
   ]
  },
  {
   "cell_type": "code",
   "execution_count": 5,
   "metadata": {
    "dotnet_interactive": {
     "language": "csharp"
    },
    "polyglot_notebook": {
     "kernelName": "csharp"
    }
   },
   "outputs": [],
   "source": [
    "var a = 10;\n",
    "var b = 10u;\n",
    "var c = 10ul;\n",
    "var d = 10.0;\n",
    "var e = 10.0f;\n",
    "var f = 10.0d;\n",
    "var g = 10_000;"
   ]
  },
  {
   "cell_type": "markdown",
   "metadata": {},
   "source": [
    "### Opdracht 3\n",
    "\n",
    "Wat gebeurt er als je negatieve getallen in unsigned variabelen stopt? Schrijf code die dit demonstreert"
   ]
  },
  {
   "cell_type": "code",
   "execution_count": 7,
   "metadata": {
    "dotnet_interactive": {
     "language": "csharp"
    },
    "polyglot_notebook": {
     "kernelName": "csharp"
    }
   },
   "outputs": [
    {
     "name": "stdout",
     "output_type": "stream",
     "text": [
      "32769\n",
      "-32767\n"
     ]
    }
   ],
   "source": [
    "ushort unsignedWaarde = 32767;\n",
    "short waarde = 32767;\n",
    "unsignedWaarde = (ushort)(unsignedWaarde * -1);\n",
    "waarde = (short)(waarde * -1);\n",
    "Console.WriteLine(unsignedWaarde);\n",
    "Console.WriteLine(waarde);"
   ]
  }
 ],
 "metadata": {
  "kernelspec": {
   "display_name": ".NET (C#)",
   "language": "C#",
   "name": ".net-csharp"
  },
  "language_info": {
   "name": "polyglot-notebook"
  },
  "polyglot_notebook": {
   "kernelInfo": {
    "defaultKernelName": "csharp",
    "items": [
     {
      "aliases": [],
      "languageName": "csharp",
      "name": "csharp"
     }
    ]
   }
  }
 },
 "nbformat": 4,
 "nbformat_minor": 2
}
