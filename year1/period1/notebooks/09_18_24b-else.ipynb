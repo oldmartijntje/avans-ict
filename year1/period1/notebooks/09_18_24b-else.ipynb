{
 "cells": [
  {
   "cell_type": "markdown",
   "metadata": {},
   "source": [
    "# Else\n",
    "\n",
    "Bij veel keuzes in een if-statement, is het ook mogelijk om een stuk code uit te voeren als de conditie niet waar is. Dit kan met het else-statement gedaan worden. De code onder het else-statement wordt uitgevoerd zodra de conditie in de if niet waar is.  \n",
    "\n",
    "In een flowchart kan dit aangegeven worden door een blok code weg te zetten bij de false-tak van het if-blok\n",
    "```mermaid\n",
    "flowchart LR\n",
    "  A[double verbruik = 12.5] --> AA[zonnepaneelOpbrengst = 10.2]\n",
    "  AA --> B{verbruik < zonnepaneelOpbrengst}\n",
    "  B --true--> C([\"#quot;Er zijn voldoende zonnepanelen#quot;\"])\n",
    "  B --false--> D([\"#quot;Je kunt meer zonnepanelen gebruiken#quot;\"])\n",
    "  C --> E[end]\n",
    "  D --> E[end]\n",
    "```\n",
    "In code ziet dit er als volgt uit\n",
    "```csharp\n",
    "double verbruik = 12.5;\n",
    "double zonnepaneelOpbrengst = 10.2;\n",
    "if(verbruik < zonnePaneelOpbrengst)\n",
    "{\n",
    "    Console.WriteLine(\"Er zijn voldoende zonnepanelen\");\n",
    "}\n",
    "else\n",
    "{\n",
    "  Console.WriteLine(\"Je kunt meer zonnepanelen gebruiken\");\n",
    "}\n",
    "```\n"
   ]
  },
  {
   "cell_type": "markdown",
   "metadata": {},
   "source": [
    "## Opdracht 1\n",
    "Geef aan of het vriest. Als het niet vriest, geef dan aan dat het niet vriest"
   ]
  },
  {
   "cell_type": "code",
   "execution_count": 3,
   "metadata": {
    "dotnet_interactive": {
     "language": "csharp"
    },
    "polyglot_notebook": {
     "kernelName": "csharp"
    }
   },
   "outputs": [
    {
     "name": "stdout",
     "output_type": "stream",
     "text": [
      "Het zonnetje schijnt, de lucht is blauw, teletubbies kom maar gauw\n",
      "AUB verzin n andere opdracht, ik heb dit nu al 3 keer moeten maken lmao.\n",
      "\n",
      "Het vriest\n"
     ]
    }
   ],
   "source": [
    "float temperatuur = 12.5f;\n",
    "Console.WriteLine(temperatuur < 0 ? \"Het vriest\" : \"Het zonnetje schijnt, de lucht is blauw, teletubbies kom maar gauw\\nAUB verzin n andere opdracht, ik heb dit nu al 3 keer moeten maken lmao.\\n\");\n",
    "temperatuur = -12.5f;\n",
    "Console.WriteLine(temperatuur < 0 ? \"Het vriest\" : \"Het zonnetje schijnt, de lucht is blauw, teletubbies kom maar gauw.\");"
   ]
  }
 ],
 "metadata": {
  "kernelspec": {
   "display_name": ".NET (C#)",
   "language": "C#",
   "name": ".net-csharp"
  },
  "language_info": {
   "name": "polyglot-notebook"
  },
  "polyglot_notebook": {
   "kernelInfo": {
    "defaultKernelName": "csharp",
    "items": [
     {
      "aliases": [],
      "languageName": "csharp",
      "name": "csharp"
     }
    ]
   }
  }
 },
 "nbformat": 4,
 "nbformat_minor": 2
}
