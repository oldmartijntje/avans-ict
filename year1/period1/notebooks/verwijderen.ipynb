{
 "cells": [
  {
   "cell_type": "markdown",
   "metadata": {},
   "source": [
    "## Verwijderen \n",
    "Als we items kunnen toevoegen moeten we ook items kunnen verwijderen. Dit kunnen we met de methoden `List<T>.Remove(T item)`. Deze methode verwijdert het *eerste* item in de lijst die overeenkomt met wat je meegeeft als parameter. De return waarde van de methode is een boolean. Die aangeeft of verwijderen is geslaagd(true) of niet(false).\n",
    "Een voorbeeld aan de hand van SolarProfits:"
   ]
  },
  {
   "cell_type": "code",
   "execution_count": null,
   "metadata": {
    "dotnet_interactive": {
     "language": "csharp"
    },
    "polyglot_notebook": {
     "kernelName": "csharp"
    }
   },
   "outputs": [],
   "source": [
    "List<int> solarProfits = [ 10, 4, 9, 12, 90, 165 ];\n",
    "\n",
    "solarProfits.Remove(10);"
   ]
  },
  {
   "cell_type": "markdown",
   "metadata": {},
   "source": [
    "Als we meerdere dubbele getallen/strings hebben. Dan moeten we meerdere keren `Remove()` aanroepen. Maar als we een specifiek item uit de lijst willen verwijderen kunnen we `List<T>.RemoveAt(int index)` gebruiken. \n",
    "### Wat is een index? \n",
    "Elk item in de lijst bevind zich op een bepaalde plek in de lijst. Het eerste item in de lijst krijgt de plek 0. Deze plekken worden ook wel indexen genoemd en zijn oplopend(0,1,2,3,4,..,1000, etc). Er kunnen geen negatieve indexen voorkomen in een lijst. Dus in geval van SolarProfits is het dan:\n",
    "| index         | item     |\n",
    "|--------------|-----------|\n",
    "| 0            | 10        |\n",
    "| 1            | 4         |\n",
    "| 2            | 9         |\n",
    "| 3            | 12        | \n",
    "| 4            | 90        |\n",
    "| 5            | 165       | \n",
    "\n",
    "We gooien het item 90 weg door index 4 mee te geven als parameter aan `RemoveAt`:"
   ]
  },
  {
   "cell_type": "markdown",
   "metadata": {},
   "source": [
    "## Opdracht 1\n",
    "Er blijken wat foutieve waarden in een lijst met profits gekomen te zijn. Verwijder alle getallen die groter zijn dan 25 en print daarna het gemiddelde van de lijst. Tip: wellicht moet je iets kopiëren of een nieuwe lijst maken!\n"
   ]
  },
  {
   "cell_type": "code",
   "execution_count": null,
   "metadata": {
    "dotnet_interactive": {
     "language": "csharp"
    },
    "polyglot_notebook": {
     "kernelName": "csharp"
    }
   },
   "outputs": [],
   "source": [
    "List<int> solarProfits = [ 10, 7, 255, 12, 17, 69, 28, 14, 4, 9, 12, 15, 27, 2];\n",
    "\n",
    "//List<int> copySolarProfits = new List<int>(solarProfits);\n",
    "\n",
    "// Jouw code."
   ]
  },
  {
   "cell_type": "markdown",
   "metadata": {},
   "source": [
    "## Opdracht 2\n",
    "Verwijder alle getallen waarvan de waarde overeenkomt met de index. Houd bij welke je hebt verwijderd. Meld na opschonen het volgende in de console: Er zijn x getallen verwijderd uit de lijst en print de verwijderde getallen en de bijgewerkte originele lijst. Hint: wellicht moet je juist dat wat je niet wilt weggooien ook veilig stellen!\n"
   ]
  },
  {
   "cell_type": "code",
   "execution_count": null,
   "metadata": {
    "dotnet_interactive": {
     "language": "csharp"
    },
    "polyglot_notebook": {
     "kernelName": "csharp"
    }
   },
   "outputs": [],
   "source": [
    "List<int> solarProfitsWeek = [10, 7, 2, 12, 17, 5, 28, 14, 8, 9, 12, 15, 27, 2, 14, 17, 16, 21];\n"
   ]
  }
 ],
 "metadata": {
  "kernelspec": {
   "display_name": ".NET (C#)",
   "language": "C#",
   "name": ".net-csharp"
  },
  "language_info": {
   "name": "polyglot-notebook"
  },
  "polyglot_notebook": {
   "kernelInfo": {
    "defaultKernelName": "csharp",
    "items": [
     {
      "aliases": [],
      "languageName": "csharp",
      "name": "csharp"
     }
    ]
   }
  }
 },
 "nbformat": 4,
 "nbformat_minor": 2
}
