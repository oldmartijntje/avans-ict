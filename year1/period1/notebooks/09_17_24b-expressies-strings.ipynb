{
 "cells": [
  {
   "cell_type": "markdown",
   "metadata": {},
   "source": [
    "# Expressies met strings\n",
    "\n",
    "Om tekst op te slaan in c# worden `string`s gebruikt. Een string is dus het type voor een tekst. Deze komt in code altijd tussen aanhalingstekens (`\"`) te staan. Tussen de aanhalingstekens kun je jouw tekst typen\n",
    "\n",
    "```csharp\n",
    "string school = \"Avans\";\n",
    "```\n",
    "## Speciale karakters\n",
    "\n",
    "Sommige karakters kun je niet zomaar in een string gebruiken. Zo kun je niet gewoon een nieuwe regel in een string zetten, maar ook een `\"` kan niet niet zo in een string gebruikt worden (dan krijg je de string `\"\"\"`).  In C# worden escape characters gebruikt om speciale tekens binnen strings op te nemen. Ze beginnen altijd met een backslash (\\\\\\) gevolgd door een teken dat aangeeft welk speciaal teken bedoeld is. Hier is een overzicht van de belangrijkste escape characters in C#:\n",
    "\n",
    "- Nieuwe regel (\\n):\n",
    "  Wordt gebruikt om naar een nieuwe regel te springen.\n",
    "  Voorbeeld: `\"Hello\\nWorld\"` resulteert in:\n",
    "  ```\n",
    "  Hello\n",
    "  World\n",
    "  ```\n",
    "- Tab (\\t):\n",
    "  Voegt een horizontale tab in.\n",
    "  Voorbeeld: `\"Hello\\tWorld\"` resulteert in: `Hello World`.\n",
    "- Backslash (\\\\\\\\):\n",
    "  Gebruikt om een enkele backslash in de string op te nemen.\n",
    "  Voorbeeld: `\"C:\\\\Program Files\\\\MyApp\"` resulteert in `C:\\Program Files\\MyApp`.\n",
    "- Dubbele aanhalingstekens (\\\\\\\"):\n",
    "  Gebruikt om dubbele aanhalingstekens in een string op te nemen.\n",
    "  Voorbeeld: `\"He said, \\\"Hello!\\\"\"` resulteert in: He said, `\"Hello!\"`.\n",
    "- Enkele aanhalingstekens (\\\\\\'):\n",
    "  Gebruikt om enkele aanhalingstekens in een string op te nemen.\n",
    "  Voorbeeld: `\"It\\'s a sunny day\"` resulteert in: `It's a sunny day`."
   ]
  },
  {
   "cell_type": "markdown",
   "metadata": {},
   "source": [
    "## Strings in code\n",
    "\n",
    "Het is naast de standaard string, met escape characters, ook mogelijk om strings op andere manieren te definieren. \n",
    "- Verbatim strings\n",
    "  C# biedt ook zogenaamde verbatim strings, aangeduid door een @-teken voor de openingsaanhalingstekens. In verbatim strings worden escape characters genegeerd, behalve dubbele aanhalingstekens die door twee achtereenvolgende dubbele aanhalingstekens worden gerepresenteerd.\n",
    "  ```csharp\n",
    "  string path = @\"C:\\Program Files\\MyApp\";\n",
    "  string quote = @\"He said, \"\"Hello!\"\"\";\n",
    "  ```\n",
    "- Raw strings\n",
    "  Raw strings in C# maken het mogelijk om tekst letterlijk op te nemen, inclusief speciale tekens zoals backslashes en aanhalingstekens, zonder dat deze ontsnapt hoeven te worden. Dit wordt gedaan door het gebruik van drie dubbele aanhalingstekens (\"\"\") aan het begin en het einde van de string.\n",
    "  ```csharp\n",
    "  string rawString = \"\"\"\n",
    "  This is a raw string.\n",
    "  It can contain \"quotes\" and backslashes \\ without escaping.\n",
    "  It can also span multiple lines.\n",
    "  \"\"\";\n",
    "  ```\n",
    "- Interpolated  strings\n",
    "  Interpolated strings in C# worden aangeduid met een dollarteken ($) voor de openingsaanhalingstekens van de string. Binnen deze strings kun je variabelen en expressies opnemen door ze tussen accolades ({}) te plaatsen.\n",
    "  ```csharp\n",
    "  string name = \"John\";\n",
    "  int age = 30;\n",
    "  string greeting = $\"Hello, my name is {name} and I am {age} years old.\";\n",
    "  Console.WriteLine(greeting);\n",
    "  ```\n",
    "\n"
   ]
  },
  {
   "cell_type": "markdown",
   "metadata": {},
   "source": [
    "## Stringmanipulatie\n",
    "\n",
    "Door gebruik te maken van verschillende acties op een string is het mogelijk om strings aan te passen en te combineren tot nieuwe strings. Zo kunnen strings opgeknipt worden, hoofdletters aangepast en kunnen ze doorzocht worden.\n",
    "\n",
    "### Concateneren (aan elkaar plakken)\n",
    "\n",
    "Met de + operator is het mogelijk om strings achter elkaar te plakken."
   ]
  },
  {
   "cell_type": "code",
   "execution_count": 1,
   "metadata": {
    "dotnet_interactive": {
     "language": "csharp"
    },
    "polyglot_notebook": {
     "kernelName": "csharp"
    }
   },
   "outputs": [
    {
     "name": "stdout",
     "output_type": "stream",
     "text": [
      "Avans ATIx\r\n"
     ]
    }
   ],
   "source": [
    "string school = \"Avans\";\n",
    "string academie = \"ATIx\";\n",
    "string totaal = school + academie;\n",
    "string totaal2 = school + \" \" + academie;\n",
    "Console.WriteLine(totaal2);"
   ]
  },
  {
   "cell_type": "markdown",
   "metadata": {},
   "source": [
    "### Length\n",
    "\n",
    "Met de length-eigenschap is het mogelijk om de lengte van een tekst te bepalen."
   ]
  },
  {
   "cell_type": "code",
   "execution_count": null,
   "metadata": {
    "dotnet_interactive": {
     "language": "csharp"
    },
    "polyglot_notebook": {
     "kernelName": "csharp"
    }
   },
   "outputs": [],
   "source": [
    "string school = \"Avans\";\n",
    "Console.WriteLine(\"De lengte van \" + school + \" is \" + school.Length);"
   ]
  },
  {
   "cell_type": "markdown",
   "metadata": {},
   "source": [
    "### Substring\n",
    "\n",
    "De Substring-methode in C# biedt een manier om een deel van een string te extraheren. Deze methode is handig wanneer je slechts een deel van een string nodig hebt voor verdere verwerking.\n",
    "\n",
    "Syntax:\n",
    "\n",
    "Er zijn twee hoofdversies van de Substring-methode:\n",
    "\n",
    "- Substring(startIndex): Deze versie retourneert het deel van de string vanaf de opgegeven startIndex tot het einde van de string. Parameters: startIndex (int): De nulgebaseerde startpositie waar de substring begint.\n",
    "\n",
    "- Substring(startIndex, length): Deze versie retourneert het deel van de string dat begint bij de opgegeven startIndex en eindigt na de opgegeven length tekens. Parameters: startIndex (int): De nulgebaseerde startpositie waar de substring begint. length (int): Het aantal tekens in de substring.\n",
    "\n",
    "Voorbeelden:\n",
    "\n",
    "Voorbeeld 1: Substring(startIndex)"
   ]
  },
  {
   "cell_type": "code",
   "execution_count": null,
   "metadata": {
    "dotnet_interactive": {
     "language": "csharp"
    },
    "polyglot_notebook": {
     "kernelName": "csharp"
    }
   },
   "outputs": [],
   "source": [
    "string text = \"Hello, World!\";\n",
    "string result = text.Substring(7);\n",
    "Console.WriteLine(result); // Uitvoer: \"World!\""
   ]
  },
  {
   "cell_type": "markdown",
   "metadata": {},
   "source": [
    "In dit voorbeeld begint de substring bij index 7 en gaat door tot het einde van de string.\n",
    "\n",
    "Voorbeeld 2: Substring(startIndex, length)"
   ]
  },
  {
   "cell_type": "code",
   "execution_count": null,
   "metadata": {
    "dotnet_interactive": {
     "language": "csharp"
    },
    "polyglot_notebook": {
     "kernelName": "csharp"
    }
   },
   "outputs": [],
   "source": [
    "string text = \"Hello, World!\";\n",
    "string result = text.Substring(7, 5);\n",
    "Console.WriteLine(result); // Uitvoer: \"World\""
   ]
  },
  {
   "cell_type": "markdown",
   "metadata": {},
   "source": [
    "In dit voorbeeld begint de substring bij index 7 en heeft een lengte van 5 tekens.\n",
    "\n",
    "**Let op**:\n",
    "\n",
    "Zorg ervoor dat de opgegeven startIndex niet buiten het bereik van de string valt, en dat de length niet resulteert in een index buiten bereik, anders zal deze methode een foutmelding geven."
   ]
  },
  {
   "cell_type": "code",
   "execution_count": 9,
   "metadata": {
    "dotnet_interactive": {
     "language": "csharp"
    },
    "polyglot_notebook": {
     "kernelName": "csharp"
    }
   },
   "outputs": [
    {
     "ename": "Error",
     "evalue": "System.ArgumentOutOfRangeException: Index and length must refer to a location within the string. (Parameter 'length')\r\n   at System.String.ThrowSubstringArgumentOutOfRange(Int32 startIndex, Int32 length)\r\n   at System.String.Substring(Int32 startIndex, Int32 length)\r\n   at Submission#10.<<Initialize>>d__0.MoveNext()\r\n--- End of stack trace from previous location ---\r\n   at Microsoft.CodeAnalysis.Scripting.ScriptExecutionState.RunSubmissionsAsync[TResult](ImmutableArray`1 precedingExecutors, Func`2 currentExecutor, StrongBox`1 exceptionHolderOpt, Func`2 catchExceptionOpt, CancellationToken cancellationToken)",
     "output_type": "error",
     "traceback": [
      "System.ArgumentOutOfRangeException: Index and length must refer to a location within the string. (Parameter 'length')\r\n",
      "   at System.String.ThrowSubstringArgumentOutOfRange(Int32 startIndex, Int32 length)\r\n",
      "   at System.String.Substring(Int32 startIndex, Int32 length)\r\n",
      "   at Submission#10.<<Initialize>>d__0.MoveNext()\r\n",
      "--- End of stack trace from previous location ---\r\n",
      "   at Microsoft.CodeAnalysis.Scripting.ScriptExecutionState.RunSubmissionsAsync[TResult](ImmutableArray`1 precedingExecutors, Func`2 currentExecutor, StrongBox`1 exceptionHolderOpt, Func`2 catchExceptionOpt, CancellationToken cancellationToken)"
     ]
    }
   ],
   "source": [
    "string text = \"Hello, World!\";\n",
    "Console.WriteLine(text.Substring(1,100));\n",
    "Console.WriteLine(text.Substring(100,1));"
   ]
  },
  {
   "cell_type": "markdown",
   "metadata": {},
   "source": [
    "### PadLeft/PadRight\n",
    "\n",
    "In C# bieden de methoden PadLeft en PadRight een handige manier om een string aan te vullen met specifieke tekens aan de linker- of rechterkant, zodat de uiteindelijke string een bepaalde minimale lengte heeft. Op deze manier kunnen teksten gemakkelijk onder elkaar uitgelijnd worden\n",
    "\n",
    "De PadLeft-methode voegt een opgegeven teken toe aan de linkerkant van de string totdat de string de opgegeven totalWidth bereikt. Als de string al langer is dan totalWidth, wordt de string ongewijzigd geretourneerd.  \n",
    "De PadRight-methode voegt een opgegeven teken toe aan de rechterkant van de string totdat de string de opgegeven totalWidth bereikt. Als de string al langer is dan totalWidth, wordt de string ongewijzigd geretourneerd.\n",
    "\n",
    "Deze methoden hebben 2 parameters, de `totalWidth` en de `paddingChar`\n",
    "- totalWidth (int): De gewenste totale breedte van de resulterende string.\n",
    "- paddingChar (char): Het teken dat moet worden toegevoegd aan de linkerkant van de string."
   ]
  },
  {
   "cell_type": "code",
   "execution_count": 7,
   "metadata": {
    "dotnet_interactive": {
     "language": "csharp"
    },
    "polyglot_notebook": {
     "kernelName": "csharp"
    }
   },
   "outputs": [
    {
     "name": "stdout",
     "output_type": "stream",
     "text": [
      "00123\r\n"
     ]
    }
   ],
   "source": [
    "string input = \"123\";\n",
    "string padded = input.PadLeft(5, '0');\n",
    "Console.WriteLine(padded); // Uitvoer: \"00123\""
   ]
  },
  {
   "cell_type": "markdown",
   "metadata": {},
   "source": [
    "### Contains\n",
    "\n",
    "De Contains-methode in C# wordt gebruikt om te controleren of een bepaalde substring voorkomt in een string. Het retourneert true als de substring wordt gevonden, anders retourneert het false."
   ]
  },
  {
   "cell_type": "code",
   "execution_count": null,
   "metadata": {
    "dotnet_interactive": {
     "language": "csharp"
    },
    "polyglot_notebook": {
     "kernelName": "csharp"
    }
   },
   "outputs": [],
   "source": [
    "string mainString = \"Hello, World!\";\n",
    "bool containsHello = mainString.Contains(\"Hello\");\n",
    "Console.WriteLine(containsHello); // Uitvoer: true\n",
    "\n",
    "bool containsGoodbye = mainString.Contains(\"Goodbye\");\n",
    "Console.WriteLine(containsGoodbye); // Uitvoer: false"
   ]
  },
  {
   "cell_type": "markdown",
   "metadata": {},
   "source": [
    "In dit voorbeeld wordt gecontroleerd of de string \"Hello, World!\" de substring \"Hello\" bevat. Het retourneert true omdat de substring wordt gevonden. Vervolgens wordt gecontroleerd of de string \"Goodbye\" wordt gevonden, wat false retourneert omdat het niet in de hoofdstring voorkomt."
   ]
  },
  {
   "cell_type": "markdown",
   "metadata": {},
   "source": [
    "### ToLower / ToUpper\n",
    "\n",
    "In C# bieden de ToUpper- en ToLower-methoden een manier om alle letters in een string respectievelijk naar hoofdletters of kleine letters te converteren. De ToUpper-methode converteert alle letters in een string naar hoofdletters en retourneert een nieuwe string met deze wijzigingen. De ToLower-methode converteert alle letters in een string naar kleine letters en retourneert een nieuwe string met deze wijzigingen."
   ]
  },
  {
   "cell_type": "code",
   "execution_count": null,
   "metadata": {
    "dotnet_interactive": {
     "language": "csharp"
    },
    "polyglot_notebook": {
     "kernelName": "csharp"
    }
   },
   "outputs": [],
   "source": [
    "string originalString = \"Hello, World!\";\n",
    "Console.WriteLine(originalString.ToUpper()); // Uitvoer: \"HELLO, WORLD!\"\n",
    "Console.WriteLine(originalString.ToLower()); // Uitvoer: \"hello, world!\""
   ]
  },
  {
   "cell_type": "markdown",
   "metadata": {},
   "source": [
    "Door gebruik te maken van deze methodes is het mogelijk om te vergelijken zonder dat hoofdletters uitmaken"
   ]
  },
  {
   "cell_type": "code",
   "execution_count": null,
   "metadata": {
    "dotnet_interactive": {
     "language": "csharp"
    },
    "polyglot_notebook": {
     "kernelName": "csharp"
    }
   },
   "outputs": [],
   "source": [
    "string tekst1 = \"Hello\";\n",
    "string tekst2 = \"HELLO\";\n",
    "\n",
    "if(tekst1.ToLower() == tekst2.ToLower())\n",
    "{\n",
    "    Console.WriteLine(\"Teksten zijn gelijk\");\n",
    "}"
   ]
  },
  {
   "cell_type": "markdown",
   "metadata": {},
   "source": [
    "### Replace\n",
    "In C# biedt de Replace-methode een manier om alle exemplaren van een bepaalde substring in een string te vervangen door een andere substring. Hierbij worden alle substrings in de string vervangen door een andere string"
   ]
  },
  {
   "cell_type": "code",
   "execution_count": null,
   "metadata": {
    "dotnet_interactive": {
     "language": "csharp"
    },
    "polyglot_notebook": {
     "kernelName": "csharp"
    }
   },
   "outputs": [],
   "source": [
    "string originalString = \"Hello, World!\";\n",
    "string replacedString = originalString.Replace(\"Hello\", \"Hi\");\n",
    "Console.WriteLine(replacedString); // Uitvoer: \"Hi, World!\""
   ]
  },
  {
   "cell_type": "markdown",
   "metadata": {},
   "source": [
    "### Trim\n",
    "\n",
    "De trim-methode haalt alle witruimte vooraan en achteraan in een string weg. Hierbij tellen spaties en tabs als witruimte"
   ]
  },
  {
   "cell_type": "code",
   "execution_count": null,
   "metadata": {
    "dotnet_interactive": {
     "language": "csharp"
    },
    "polyglot_notebook": {
     "kernelName": "csharp"
    }
   },
   "outputs": [],
   "source": [
    "string originalString = \"   Hello, World!   \";\n",
    "string trimmedString = originalString.Trim();\n",
    "Console.WriteLine(trimmedString); // Uitvoer: \"Hello, World!\""
   ]
  },
  {
   "cell_type": "markdown",
   "metadata": {},
   "source": [
    "### IndexOf / lastIndexOf\n",
    "\n",
    "De IndexOf en LastIndexOf methoden geven de positie van een substring in een string terug. Hiermee kan dus gezocht worden of een bepaalde substring voorkomt in een andere string, en kan de positie ervan bepaald worden. De IndexOf geeft de positie van de eerste gevonden substring terug, en de LastIndexOf geeft de laatste index terug. Ook kan optioneel een parameter meegegeven worden om aan te geven vanaf waar gezocht moet worden "
   ]
  },
  {
   "cell_type": "code",
   "execution_count": null,
   "metadata": {
    "dotnet_interactive": {
     "language": "csharp"
    },
    "polyglot_notebook": {
     "kernelName": "csharp"
    }
   },
   "outputs": [],
   "source": [
    "string text = \"Hello world and the rest of the universe\";\n",
    "Console.WriteLine(text.IndexOf(\" \"));\n",
    "Console.WriteLine(text.LastIndexOf(\" \"));\n",
    "\n",
    "Console.WriteLine(text.IndexOf(\" \", 10));"
   ]
  },
  {
   "cell_type": "markdown",
   "metadata": {},
   "source": [
    "### []\n",
    "\n",
    "Met de [] operator is het mogelijk om een enkel karakter uit een string op te vragen. Dit karakter wordt opgeslagen in een char datatype, dus niet in een string. Een char kan maar een enkel character opslaan"
   ]
  },
  {
   "cell_type": "code",
   "execution_count": null,
   "metadata": {
    "dotnet_interactive": {
     "language": "csharp"
    },
    "polyglot_notebook": {
     "kernelName": "csharp"
    }
   },
   "outputs": [],
   "source": [
    "string text = \"Avans\";\n",
    "for(int i = 0; i < text.Length; i++)\n",
    "{\n",
    "    Console.WriteLine(text[i]);\n",
    "}"
   ]
  },
  {
   "cell_type": "markdown",
   "metadata": {},
   "source": [
    "## Opdracht 1\n",
    "\n",
    "Maak een programma dat de lengte van je naam teruggeeft:\n",
    "\n",
    "```\n",
    "Voer je naam in:\n",
    "De naam 'Ruud' is 4 letters lang\n",
    "```"
   ]
  },
  {
   "cell_type": "markdown",
   "metadata": {},
   "source": [
    "## Opdracht 2\n",
    "\n",
    "Maak een programma dat de lengte van een stuk tekst teruggeeft, waarbij spaties niet meegerekend zijn."
   ]
  },
  {
   "cell_type": "code",
   "execution_count": 10,
   "metadata": {
    "dotnet_interactive": {
     "language": "csharp"
    },
    "polyglot_notebook": {
     "kernelName": "csharp"
    }
   },
   "outputs": [
    {
     "name": "stdout",
     "output_type": "stream",
     "text": [
      "De lengte van \"Lorem ipsum dolor sit amet, consectetur adipiscing elit. Mauris eleifend, eros nec hendrerit vulputate, nisl eros mollis mauris, sed bibendum tortor mauris ac nunc.\" is 141 zonder, en 164 met spaties.\r\n"
     ]
    }
   ],
   "source": [
    "\n",
    "string tekst = \"Lorem ipsum dolor sit amet, consectetur adipiscing elit. Mauris eleifend, eros nec hendrerit vulputate, nisl eros mollis mauris, sed bibendum tortor mauris ac nunc.\";\n",
    "int lengte = 0;\n",
    "foreach (string woord in tekst.Split(' '))\n",
    "{\n",
    "    lengte += woord.Length;\n",
    "}\n",
    "Console.WriteLine($\"De lengte van \\\"{tekst}\\\" is {lengte} zonder, en {tekst.Length} met spaties.\")\n",
    "\n",
    "//de lengte van de tekst is XXX"
   ]
  },
  {
   "cell_type": "markdown",
   "metadata": {},
   "source": [
    "## Opdracht 3\n",
    "Gegeven is de volgende data:\n",
    "- datum\n",
    "- meterstand\n",
    "- gasstand\n",
    "- teruglevering\n",
    "\n",
    "Gebruik een interpolated string om de deze variabelen netjes af te drukken.\n",
    " \n",
    "`\"Op [datum] was de meterstand [meterstand]kWh, was er [gasstand]m³ aan gas verbruikt en is er [terugleverling]kWh teruggeleverd\"`"
   ]
  },
  {
   "cell_type": "markdown",
   "metadata": {},
   "source": []
  },
  {
   "cell_type": "code",
   "execution_count": 12,
   "metadata": {
    "dotnet_interactive": {
     "language": "csharp"
    },
    "polyglot_notebook": {
     "kernelName": "csharp"
    }
   },
   "outputs": [
    {
     "name": "stdout",
     "output_type": "stream",
     "text": [
      "Op 17/09/2024 was de meterstand 123kWh, was er 45m³ aan gas verbruikt en is er 67kWh teruggeleverd\r\n"
     ]
    }
   ],
   "source": [
    "var dateTime = DateTime.Now;\n",
    "string datum = $\"{dateTime.Day}/{$\"{dateTime.Month}\".PadLeft(2, '0')}/{dateTime.Year}\";\n",
    "int meterstand = 123;\n",
    "int gasstand = 45;\n",
    "int terugleverling = 67;\n",
    "\n",
    "Console.WriteLine($\"Op {datum} was de meterstand {meterstand}kWh, was er {gasstand}m³ aan gas verbruikt en is er {terugleverling}kWh teruggeleverd\")\n"
   ]
  },
  {
   "cell_type": "markdown",
   "metadata": {},
   "source": [
    "## Opdracht 4\n",
    "Schrijf een programma dat de eerste en de laatste letter van ieder woord in een zin omdraait.\n",
    "\n",
    "\"Ik studeer bij Avans\" wordt dan bijvoorbeeld: \"kI rtudees jib svanA\"\n",
    "\n",
    "\n",
    "Je krijgt al een klein aanzetje, gebruik deze eventueel om de code te schrijven. \n",
    "\n",
    "\n",
    "Wil je het jezelf iets lastiger maken? Houd dan rekening met leestekens en sla deze over!"
   ]
  },
  {
   "cell_type": "code",
   "execution_count": 14,
   "metadata": {
    "dotnet_interactive": {
     "language": "csharp"
    },
    "polyglot_notebook": {
     "kernelName": "csharp"
    }
   },
   "outputs": [
    {
     "name": "stdout",
     "output_type": "stream",
     "text": [
      "kI rtudees jib svana "
     ]
    }
   ],
   "source": [
    "string husselTekst = \"Ik studeer bij avans\";\n",
    "\n",
    "foreach (string woord in husselTekst.Split(' '))\n",
    "{\n",
    "    string newWoord = woord;\n",
    "    char first = woord[0];\n",
    "    char last = woord[woord.Length - 1];\n",
    "    char[] newWoordArray = newWoord.ToCharArray();\n",
    "    newWoordArray[0] = last;\n",
    "    newWoordArray[newWoordArray.Length-1] = first;\n",
    "    Console.Write(new string(newWoordArray) + \" \");\n",
    "    \n",
    "}"
   ]
  }
 ],
 "metadata": {
  "kernelspec": {
   "display_name": ".NET (C#)",
   "language": "C#",
   "name": ".net-csharp"
  },
  "language_info": {
   "name": "polyglot-notebook"
  },
  "polyglot_notebook": {
   "kernelInfo": {
    "defaultKernelName": "csharp",
    "items": [
     {
      "aliases": [],
      "languageName": "csharp",
      "name": "csharp"
     }
    ]
   }
  }
 },
 "nbformat": 4,
 "nbformat_minor": 2
}
