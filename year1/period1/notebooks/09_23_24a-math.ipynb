{
 "cells": [
  {
   "cell_type": "markdown",
   "metadata": {},
   "source": [
    "# Math\n",
    "De Math klasse bevat een aantal handige wiskundige functies die we kunnen gebruiken. "
   ]
  },
  {
   "cell_type": "markdown",
   "metadata": {},
   "source": [
    "## Power en Log\n",
    "Voor machtsverheffing en logaritmes kunnen we respectievelijk de functies Math.Pow en Math.Log gebruiken.\n",
    "\n",
    "Even ter opfrissing: $2^3 = 2 * 2 * 2 = 8$. \n",
    "\n",
    "De berekening $2^3$ kunnen we in C# doen op onderstaande manier.\n",
    "\n",
    "```csharp\n",
    "Math.Pow(2, 3)\n",
    "```\n",
    "\n",
    "Ook ter opfrissing: $\\log{_2}{(8)} = 3$. De formule $\\log{_2}{(8)}$ betekent: Tot welke macht moeten we 2 verheffen om 8 als resultaat te krijgen? \n",
    "\n",
    "De berekening kunnen we in C# doen op onderstaande manier.\n",
    "\n",
    "```csharp\n",
    "Math.Log2(8)\n",
    "```\n",
    "\n",
    "Eveneens is Math.Log10() ter beschikking voor logaritmes van 10 en Math.Log() voor logaritmes van het natuurlijke getal $e$.\n",
    "\n",
    "```csharp\n",
    "Math.Log10(200)\n",
    "Math.Log(5)\n",
    "```"
   ]
  },
  {
   "cell_type": "markdown",
   "metadata": {},
   "source": [
    "## Opdracht 1\n",
    "Schrijf een algoritme dat gebruik maakt van Math.Pow() om de volgende berekening te maken:  $2^8$"
   ]
  },
  {
   "cell_type": "code",
   "execution_count": 2,
   "metadata": {
    "dotnet_interactive": {
     "language": "csharp"
    },
    "polyglot_notebook": {
     "kernelName": "csharp"
    }
   },
   "outputs": [
    {
     "name": "stdout",
     "output_type": "stream",
     "text": [
      "256\r\n"
     ]
    }
   ],
   "source": [
    "Console.WriteLine(Math.Pow(2, 8));"
   ]
  },
  {
   "cell_type": "markdown",
   "metadata": {},
   "source": [
    "## Opdracht 2\n",
    "Schrijf een algoritme dat gebruik maakt van Math.Log2() om de volgende berekening te maken:  $\\log{_2}{(64)}$"
   ]
  },
  {
   "cell_type": "code",
   "execution_count": 3,
   "metadata": {
    "dotnet_interactive": {
     "language": "csharp"
    },
    "polyglot_notebook": {
     "kernelName": "csharp"
    }
   },
   "outputs": [
    {
     "name": "stdout",
     "output_type": "stream",
     "text": [
      "6\r\n"
     ]
    }
   ],
   "source": [
    "Console.WriteLine(Math.Log2(64));"
   ]
  },
  {
   "cell_type": "markdown",
   "metadata": {},
   "source": [
    "## Geometrische functies\n",
    "In C# kunnen we algoritmes schrijven die gebruik maken van de geometrische functies: Sinus, cosinus en tangens:\n",
    "\n",
    "![geometrische functies.](https://www.math10.com/algimages/trig-en.gif)\n",
    "\n",
    "```csharp\n",
    "double angleInRadians = Math.PI;\n",
    "double sinAngle = Math.Sin(angleInRadians);\n",
    "double cosAngle = Math.Cos(angleInRadians);\n",
    "double tanAngle = Math.Tan(angleInRadians);\n",
    "```\n",
    "Merk op dat de input van de methode in radialen is en niet in graden.\n"
   ]
  },
  {
   "cell_type": "code",
   "execution_count": 7,
   "metadata": {
    "dotnet_interactive": {
     "language": "csharp"
    },
    "polyglot_notebook": {
     "kernelName": "csharp"
    }
   },
   "outputs": [],
   "source": []
  },
  {
   "cell_type": "markdown",
   "metadata": {},
   "source": [
    "## Opdracht 3\n",
    "Schrijf een algoritme dat de sinus, cosinus en tangens berekent voor een hoek met $\\pi / 2$ radialen en deze waarden in de console print."
   ]
  },
  {
   "cell_type": "code",
   "execution_count": 4,
   "metadata": {
    "dotnet_interactive": {
     "language": "csharp"
    },
    "polyglot_notebook": {
     "kernelName": "csharp"
    }
   },
   "outputs": [
    {
     "name": "stdout",
     "output_type": "stream",
     "text": [
      "Sinus van π/2: 1\n",
      "Cosinus van π/2: 6.123233995736766E-17\n",
      "Tangens van π/2: 16331239353195370\n"
     ]
    }
   ],
   "source": [
    "\n",
    "double angle = Math.PI / 2;\n",
    "\n",
    "double sinValue = Math.Sin(angle);\n",
    "double cosValue = Math.Cos(angle);\n",
    "double tanValue = Math.Tan(angle);\n",
    "\n",
    "Console.WriteLine($\"Sinus van π/2: {sinValue}\");\n",
    "Console.WriteLine($\"Cosinus van π/2: {cosValue}\");\n",
    "Console.WriteLine($\"Tangens van π/2: {tanValue}\");"
   ]
  },
  {
   "cell_type": "markdown",
   "metadata": {},
   "source": [
    "## Min/Max/Clamp\n",
    "Soms moeten we een algoritme schrijven waarbij we de laagste of hoogste waarden nemen uit twee (of meer) mogelijke waarden. \n",
    "In C# kan dit op onderstaande manier.\n",
    "\n",
    "```csharp\n",
    "int value1 = 7;\n",
    "int value2 = 12;\n",
    "int minValue = Math.Min(value1, value2);\n",
    "int maxValue = Math.Max(value1, value2);\n",
    "```\n",
    "\n",
    "De methoden Math.Min en Math.Max kunnen ook gebruikt worden bij decimale waarden.\n",
    "\n",
    "```csharp\n",
    "double value1 = 0.7;\n",
    "double value2 = 0.12;\n",
    "double minValue = Math.Min(value1, value2);\n",
    "double maxValue = Math.Max(value1, value2);\n",
    "```\n",
    "\n",
    "Deze methoden zijn heel handig indien je een minimum of maximale waarde wilt opleggen aan een variabele. Denk bijvoorbeeld aan een meeting die hebt ontvangen van een sensor en je wilt dat deze waarde minstens 0 is.\n",
    "\n",
    "```csharp\n",
    "double sensorValue1 = 29.17;\n",
    "double sensorValue2 = -3.25;\n",
    "double adjustedSensorValue1 = Math.Max(sensorValue1, 0); // 29.17\n",
    "double adjustedSensorValue2 = Math.Max(sensorValue2, 0); // 0.0\n",
    "```\n",
    "\n",
    "We kunnen dus een minimum waarde opleggen aan een waarde gebruik te maken van Math.Max(value, minValue) of een maximum opleggen door gebruik te maken van Math.Min(value, maxValue). Merk op dat het verwarrend kan zijn dat je Math.Max gebruikt om een minimumwaarde op te leggen en Math.Min om een maximum waarde op te leggen. \n",
    "\n",
    "Indien we zowel een minimum als een maximale waarden worden opleggen dan kan dit met de methode Math.Clamp. Bijvoorbeeld indien we willen dat een sensorwaarde wordt aangepast zodat deze minimum 0 is en maximum 100.\n",
    "\n",
    "```csharp\n",
    "double sensorValue = 175.25;\n",
    "double adjustedSensorValue = Math.Clamp(sensorValue, 0, 100); // 100\n",
    "```"
   ]
  },
  {
   "cell_type": "markdown",
   "metadata": {},
   "source": [
    "## Opdracht 4\n",
    "Schrijf een algoritme dat de laagste waarde berekent van -5 en -6."
   ]
  },
  {
   "cell_type": "code",
   "execution_count": 8,
   "metadata": {
    "dotnet_interactive": {
     "language": "csharp"
    },
    "polyglot_notebook": {
     "kernelName": "csharp"
    }
   },
   "outputs": [
    {
     "name": "stdout",
     "output_type": "stream",
     "text": [
      "-6\r\n"
     ]
    }
   ],
   "source": [
    "int number1 = -6;\n",
    "int number2 = -5;\n",
    "\n",
    "Console.WriteLine(Math.Min(number1, number2))"
   ]
  },
  {
   "cell_type": "markdown",
   "metadata": {},
   "source": [
    "## Opdracht 5\n",
    "Schrijf een algoritme dat de hoogste waarde berekent van -5 en -6."
   ]
  },
  {
   "cell_type": "code",
   "execution_count": null,
   "metadata": {
    "dotnet_interactive": {
     "language": "csharp"
    },
    "polyglot_notebook": {
     "kernelName": "csharp"
    }
   },
   "outputs": [],
   "source": [
    "int number1 = -6;\n",
    "int number2 = -5;\n",
    "\n",
    "Console.WriteLine(Math.Max(number1, number2))"
   ]
  },
  {
   "cell_type": "markdown",
   "metadata": {},
   "source": [
    "## Round/Ceil/Floor\n",
    "Soms wil je een decimale waarden afronden tot een geheel getal. Dit kan op 3 manieren:\n",
    "\n",
    "* Afronden naar beneden met Math.Floor().\n",
    "* Afronden naar boven met Math.Ceiling().\n",
    "* Afronden naar het dichtstbijzijnde geheel getal met Math.Round().\n",
    "\n",
    "```csharp\n",
    "double value = 2.75;\n",
    "double floorValue = Math.Floor(value); // 2\n",
    "double ceilValue = Math.Ceiling(value); // 3\n",
    "double roundValue = Math.Round(value); // 3\n",
    "```\n",
    "Merk op dat de output van de methode nog steeds een double is en geen int. Indien je de waarde vervolgens wilt veranderen naar een int dan is dit mogelijk. Zie hiervoor het materiaal over omzetten van datatypen (Casting). "
   ]
  },
  {
   "cell_type": "markdown",
   "metadata": {},
   "source": [
    "## Opdracht 5\n",
    "Schrijf een algoritme dat het decimale getal 12.5 afrondt naar beneden, afrondt naar boven, afrondt naar het dichtstbijzijnde gehele cijfer en vervolgens deze 3 resulaten p"
   ]
  },
  {
   "cell_type": "code",
   "execution_count": 9,
   "metadata": {
    "dotnet_interactive": {
     "language": "csharp"
    },
    "polyglot_notebook": {
     "kernelName": "csharp"
    }
   },
   "outputs": [
    {
     "name": "stdout",
     "output_type": "stream",
     "text": [
      "12\n",
      "13\n",
      "12\r\n"
     ]
    }
   ],
   "source": [
    "Console.WriteLine($\"{Math.Floor(12.5)}\\n{Math.Ceiling(12.5)}\\n{Math.Round(12.5)}\")"
   ]
  },
  {
   "cell_type": "code",
   "execution_count": null,
   "metadata": {
    "dotnet_interactive": {
     "language": "csharp"
    },
    "polyglot_notebook": {
     "kernelName": "csharp"
    }
   },
   "outputs": [],
   "source": []
  }
 ],
 "metadata": {
  "kernelspec": {
   "display_name": ".NET (C#)",
   "language": "C#",
   "name": ".net-csharp"
  },
  "language_info": {
   "name": "polyglot-notebook"
  },
  "polyglot_notebook": {
   "kernelInfo": {
    "defaultKernelName": "csharp",
    "items": [
     {
      "aliases": [],
      "languageName": "csharp",
      "name": "csharp"
     }
    ]
   }
  }
 },
 "nbformat": 4,
 "nbformat_minor": 2
}
