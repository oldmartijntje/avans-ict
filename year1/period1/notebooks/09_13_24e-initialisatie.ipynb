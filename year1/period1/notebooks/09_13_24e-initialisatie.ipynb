{
 "cells": [
  {
   "cell_type": "markdown",
   "metadata": {},
   "source": [
    "# Wat zijn variabelen?\n",
    "\n",
    "In de volgende kennisclip wordt uitgelegd wat variabelen zijn en waarom we die in algoritmen nodig hebben.\n",
    "\n",
    "<iframe id=\"kaltura_player\" type=\"text/javascript\"  src='https://api.de.kaltura.com/p/10066/embedPlaykitJs/uiconf_id/23452529?iframeembed=true&entry_id=0_wj1d9f1k&config[provider]={\"widgetId\":\"0_j9icvpmu\"}'  style=\"width: 608px;height: 402px;border: 0;\" allowfullscreen webkitallowfullscreen mozAllowFullScreen allow=\"autoplay *; fullscreen *; encrypted-media *\" sandbox=\"allow-forms allow-same-origin allow-scripts allow-top-navigation allow-pointer-lock allow-popups allow-modals allow-orientation-lock allow-popups-to-escape-sandbox allow-presentation allow-top-navigation-by-user-activation\" title=\"Kaltura Player\"></iframe>\n",
    "\n",
    "Variabelen zijn benoemde geheugenlocaties in een computerprogramma die worden gebruikt om data op te slaan. Benoemd betekent hier dat ze een naam hebben, zodat je er gemakkelijk naar kunt refereren en kunt aangeven wat er in de variabele opgeslagen is. Je kunt ze zien als laatjes in een ladenkast met een labeltje erop waarin je verschillende soorten informatie kunt bewaren.\n",
    "\n",
    "Naast een naam heeft een variabele ook een datatype. Dit datatype geeft aan wat voor soort informatie opgeslagen wordt in deze variabele zoals een getal of een stukje tekst. Ieder datatype gebruikt een andere hoeveelheid RAM-geheugen in je computer, en dit type kun je dus niet zomaar veranderen. De hoeveelheid variabelen die je kunt gebruiken is begrenst door je RAM-geheugen. Als dit geheugen vol zit, zal je programma een fout geven bij het maken van nieuwe variabelen. De datatypes die je veel gaat zien zijn `int` om een geheel getal op te slaan, `string` om een stukje tekst op te slaan en `double` om een komma-getal in op te slaan. Voor een volledig overzicht van datatypes kun je in het onderdeel [datatypes](datatypes) kijken\n",
    "\n",
    "Een variabele heeft altijd een waarde en moet daarom dus ook een  initiële waarde hebben. Deze initiële waarde is optioneel bij het maken van een variabele, als je deze niet opgeeft zal je programma de standaardwaarde voor dit datatype gebruiken, maar het is een goede gewoonte om **altijd** een initiële waarde op te geven. Een variabeledefinitie ziet er dus als volgt uit:\n",
    "\n",
    "```\n",
    "datatype variabelenaam = standaardwaarde;\n",
    "```\n",
    "\n",
    "of concreet\n",
    "\n",
    "```cs\n",
    "int mooiGetal = 42;\n",
    "```\n",
    "\n",
    "Deze code zal dus een stukje geheugen reserveren om een getal op te slaan en hier meteen de waarde 42 in zetten. De naam van de variabele is mooiGetal, en de initiële waarde is 42"
   ]
  },
  {
   "cell_type": "markdown",
   "metadata": {},
   "source": [
    "## Naamgeving\n",
    "\n",
    "Het is belangrijk om variabelen een goede, beschrijvende naam te geven. Hier zijn een aantal regels voor\n",
    "- Een variabele moet met een letter beginnen\n",
    "  Je kunt een variabele niet met een cijfer laten beginnen. Dit is een regel binnen C#.\n",
    "  ```csharp\n",
    "  int 5getallen = 5; //mag niet\n",
    "  ```\n",
    "- Een variabele heeft een beschrijvende naam\n",
    "  Gebruik als dat mogelijk is een beschrijvende naam voor wat er in de variabele zit. gebruik dus bijvoorbeeld de naam `som` en niet `s`.\n",
    "  ```csharp\n",
    "  int s = 5; // dit is niet duidelijk\n",
    "  int som = 5; // dit is wel duidelijk\n",
    "  int somVanAlleGetallenOnderDe10 = 5; // dit is te lang\n",
    "  ```\n",
    "- Een variabelenaam in C# zetten we in camelCase, waarbij de eerste letter een kleine letter is.\n",
    "  Dit is een standaard en hoef je niet te doen, maar het wordt wel sterk aanbevolen. camelCase betekent dat als je variabelenaam uit meerdere woorden achter elkaar bestaat, de eerste letter van ieder woord een hoofdletter is.\n",
    "  ```csharp\n",
    "  int aantalWoorden = 10;\n",
    "  string voorbeeldCode = \"hallo\";\n",
    "  ```\n",
    "- In C# is de naamgeving van variabelen hoofdlettergevoelig. Dit betekent dat `avans`, `Avans`, en `AVANS` ieder verschillende variabelen zijn.\n",
    "   ```csharp\n",
    "  string avans = \"Hogeschool\";\n",
    "  string Avans = \"Breda\";\n",
    "\n",
    "  Console.WriteLine(avans); // Print: Hogeschool\n",
    "  Console.WriteLine(Avans); // Print: Breda\n",
    "  ```\n",
    "  "
   ]
  },
  {
   "cell_type": "markdown",
   "metadata": {},
   "source": [
    "### Meer informatie:\n",
    "\n",
    "- [C# referentie over variabele-declaraties](https://learn.microsoft.com/en-us/dotnet/csharp/language-reference/statements/declarations)\n",
    "- [C# referentie over variabelen](https://learn.microsoft.com/en-us/dotnet/csharp/language-reference/language-specification/variables)\n",
    "- [w3schools](https://www.w3schools.com/cs/cs_variables.php)\n",
    "- [C# variable naming conventions](https://learn.microsoft.com/en-us/dotnet/csharp/fundamentals/coding-style/identifier-names)"
   ]
  },
  {
   "cell_type": "markdown",
   "metadata": {},
   "source": [
    "## Opdracht 1\n",
    "Schrijf een stuk code waarin je de variabele naam initialiseert op je naam, de variabele leeftijd op jouw leeftijd. Schrijf hierna je naam en leeftijd naar de console"
   ]
  },
  {
   "cell_type": "code",
   "execution_count": 1,
   "metadata": {
    "dotnet_interactive": {
     "language": "csharp"
    },
    "polyglot_notebook": {
     "kernelName": "csharp"
    }
   },
   "outputs": [
    {
     "name": "stdout",
     "output_type": "stream",
     "text": [
      "oldma is 19 years old.\r\n"
     ]
    }
   ],
   "source": [
    "using Microsoft.DotNet.Interactive;\n",
    "string userName = Environment.UserName;\n",
    "var year = DateTime.Now.Year;\n",
    "Console.WriteLine(userName +\" is \" + (year-2005) + \" years old.\")"
   ]
  },
  {
   "cell_type": "markdown",
   "metadata": {},
   "source": [
    "## Opdracht 2\n",
    "Gegeven is het volgende programma dat het volgende print\n",
    "```output\n",
    "CPU:\n",
    "i9\n",
    "Cores:\n",
    "24\n",
    "Snelheid\n",
    "6.0\n",
    "\n",
    "samengevat\n",
    "i9\n",
    "24\n",
    "6.0\n",
    "```\n",
    "\n",
    "Verander het programma zodat het de volgende output geeft, waarbij je zo min mogelijk aan de code verandert. Hoe kun je dit eenvoudig aanpakken?\n",
    "\n",
    "```output\n",
    "CPU:\n",
    "i7\n",
    "Cores:\n",
    "12\n",
    "Snelheid\n",
    "4.0\n",
    "\n",
    "samengevat\n",
    "i7\n",
    "12\n",
    "4.0\n",
    "```"
   ]
  },
  {
   "cell_type": "code",
   "execution_count": 1,
   "metadata": {
    "dotnet_interactive": {
     "language": "csharp"
    },
    "polyglot_notebook": {
     "kernelName": "csharp"
    },
    "tags": [
     "opdracht"
    ]
   },
   "outputs": [
    {
     "name": "stdout",
     "output_type": "stream",
     "text": [
      "CPU:\n",
      "i7\n",
      "Cores:\n",
      "12\n",
      "Snelheid:\n",
      "4\n",
      "\n",
      "samengevat\n",
      "i7\n",
      "12\n",
      "4\n"
     ]
    }
   ],
   "source": [
    "string cpu = \"i7\";\n",
    "int cores = 12;\n",
    "double snelheid = 4.0;\n",
    "\n",
    "Console.WriteLine(\"CPU:\");\n",
    "Console.WriteLine(cpu);\n",
    "Console.WriteLine(\"Cores:\");\n",
    "Console.WriteLine(cores);\n",
    "Console.WriteLine(\"Snelheid:\");\n",
    "Console.WriteLine(snelheid);\n",
    "\n",
    "Console.WriteLine();\n",
    "Console.WriteLine(\"samengevat\");\n",
    "Console.WriteLine(cpu);\n",
    "Console.WriteLine(cores);\n",
    "Console.WriteLine(snelheid);"
   ]
  },
  {
   "cell_type": "markdown",
   "metadata": {},
   "source": [
    "## Opdracht 3\n",
    "A. Bedenk een goede variabelenaam voor de volgende zaken:\n",
    "- De totale kosten\n",
    "- De gemiddelde temperatuur\n",
    "- Het aantal uren waarin een recept bereid wordt.\n",
    "\n",
    "B. Initialiseer de drie verschillende variabelen met passende variabelnaam en variabeltypen (`int`, `string`, `double`). Schrijf deze waarden vervolgens naar de console met `Console.WriteLine(variabelNaam);`"
   ]
  },
  {
   "cell_type": "code",
   "execution_count": 2,
   "metadata": {
    "dotnet_interactive": {
     "language": "csharp"
    },
    "polyglot_notebook": {
     "kernelName": "csharp"
    }
   },
   "outputs": [
    {
     "name": "stdout",
     "output_type": "stream",
     "text": [
      "$36.99\n",
      "23\n",
      "3.15\n"
     ]
    }
   ],
   "source": [
    "string totalCost = \"$36.99\";\n",
    "int averageTemprature = 23;\n",
    "double totalTime = 3.15d;\n",
    "Console.WriteLine(totalCost);\n",
    "Console.WriteLine(averageTemprature);\n",
    "Console.WriteLine(totalTime);\n"
   ]
  }
 ],
 "metadata": {
  "kernelspec": {
   "display_name": ".NET (C#)",
   "language": "C#",
   "name": ".net-csharp"
  },
  "language_info": {
   "name": "polyglot-notebook"
  },
  "polyglot_notebook": {
   "kernelInfo": {
    "defaultKernelName": "csharp",
    "items": [
     {
      "aliases": [],
      "languageName": "csharp",
      "name": "csharp"
     }
    ]
   }
  }
 },
 "nbformat": 4,
 "nbformat_minor": 2
}
