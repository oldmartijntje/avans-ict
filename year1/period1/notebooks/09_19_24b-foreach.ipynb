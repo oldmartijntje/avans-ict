{
 "cells": [
  {
   "cell_type": "markdown",
   "metadata": {},
   "source": [
    "# foreach herhalingen\n",
    "De foreach-loop is een loop die gebruikt wordt om een block code te herhalen voor elk element in een lijst, zoals een array of een list (meer over lijsten in week 6). Dit kun je ook bereiken door gebruik te maken van een for-loop of een while-loop, maar een foreach-loop is makkelijker en meer leesbaar. Een verschil met een for-loop en while-loop is dat je niet kunt schrijven naar de elementen in de lijst. Dit is een bewuste keuze van de makers van C# om de code veiliger te maken.\n",
    "\n",
    "## Syntax\n",
    "De algemene syntax van een foreach-loop is als volgt:\n",
    "```csharp\n",
    "foreach (elementType elementNaam in lijstNaam) \n",
    "{\n",
    "  // Code om te herhalen\n",
    "}\n",
    "```\n",
    "\n",
    "- `elementType` is het type van de elementen in de lijst.\n",
    "- `elementNaam` is de naam van de variabele die je gebruikt om het huidige element in de lijst aan te duiden. Iedere keer als de loop naar het volgende element in de lijst gaat, wordt de waarde van `elementNaam` aangepast naar dit volgende element in de lijst.\n",
    "- `lijstNaam` is de naam van de lijst waar je doorheen wilt loopen.\n",
    "\n",
    "Een voorbeeld van een foreach-loop is als volgt:"
   ]
  },
  {
   "cell_type": "code",
   "execution_count": null,
   "metadata": {
    "dotnet_interactive": {
     "language": "csharp"
    },
    "polyglot_notebook": {
     "kernelName": "csharp"
    }
   },
   "outputs": [],
   "source": [
    "//Maak een lijst met getallen aan.\n",
    "List<int> numbers = new List<int> { 1, 2, 3, 4, 5 };\n",
    "\n",
    "// Loop door de lijst heen en print elk getal.\n",
    "foreach (int number in numbers)\n",
    "{\n",
    "    Console.WriteLine(number);\n",
    "}"
   ]
  },
  {
   "cell_type": "markdown",
   "metadata": {},
   "source": [
    "De bovenstaande code zal door alle elementen in de lijst `numbers` lopen en voor elk element de waarde printen. In dit geval zullen de waarden 1, 2, 3, 4 en 5 geprint worden.\n",
    "\n",
    "Let op: je kunt de waarde van `elementNaam` niet aanpassen in de loop. Als je dit probeert, krijg je een compileerfout."
   ]
  },
  {
   "cell_type": "markdown",
   "metadata": {},
   "source": [
    "## Flowcharts\n",
    "Ook voor een foreach-loop heb je in flowcharts niet één specifiek symbool. Om een foreach-loop in een flowchart te laten zien gebruik je meerdere symbolen. Hieronder zie je een voorbeeld van een foreach-loop in een flowchart.\n",
    "\n",
    "```mermaid\n",
    "---\n",
    "config:\n",
    "    flowchart:\n",
    "        defaultRenderer: elk\n",
    "---\n",
    "\n",
    "flowchart TD\n",
    "    subgraph  \n",
    "    S[\"Start\"] --> A\n",
    "    A{\"Zijn er nog elementen in de lijst?\"} --true--> B\n",
    "    B[\"Wijs het volgende element in de lijst toe aan de variable\"] --> C \n",
    "    C[\"Voer de code in de loop uit\"] --> A\n",
    "    end\n",
    "    A --false--> D[\"Verlaat de foach-loop\"]\n",
    "```"
   ]
  },
  {
   "cell_type": "markdown",
   "metadata": {},
   "source": [
    "## Opdracht 1\n",
    "Print alle elementen in de lijst `numbers` met behulp van een foreach-loop."
   ]
  },
  {
   "cell_type": "code",
   "execution_count": 1,
   "metadata": {
    "dotnet_interactive": {
     "language": "csharp"
    },
    "polyglot_notebook": {
     "kernelName": "csharp"
    }
   },
   "outputs": [
    {
     "name": "stdout",
     "output_type": "stream",
     "text": [
      "12345678910"
     ]
    }
   ],
   "source": [
    "List<int> numbers = new List<int> { 1, 2, 3, 4, 5, 6, 7, 8, 9, 10 };\n",
    "foreach (int number in numbers) {\n",
    "    Console.Write(number);\n",
    "}"
   ]
  },
  {
   "cell_type": "markdown",
   "metadata": {},
   "source": [
    "## Opdracht 2\n",
    "Bereken de totale hoeveelheid opgewekte energie (kWh) door de zonnenpanelen. De lijst `energiePerDag` bevat de hoeveelheid energie die per dag is opgewekt. Print de totale hoeveelheid opgewekte energie. Gebruik hiervoor een foreach-loop."
   ]
  },
  {
   "cell_type": "code",
   "execution_count": 2,
   "metadata": {
    "dotnet_interactive": {
     "language": "csharp"
    },
    "polyglot_notebook": {
     "kernelName": "csharp"
    }
   },
   "outputs": [
    {
     "name": "stdout",
     "output_type": "stream",
     "text": [
      "141\r\n"
     ]
    }
   ],
   "source": [
    "List<double> energiePerDag = new List<double> { 20.1, 18.4, 23.4, 16.5, 19.2, 21.3, 22.1};\n",
    "double total = 0;\n",
    "foreach (double energieGebruik in energiePerDag) {\n",
    "    total += energieGebruik;\n",
    "}\n",
    "Console.WriteLine(total)"
   ]
  },
  {
   "cell_type": "markdown",
   "metadata": {},
   "source": [
    "## Opdracht 3\n",
    "Bepaal het hoogste getal uit de lijst `numbers` en print dit getal. Gebruik hiervoor een foreach-loop."
   ]
  },
  {
   "cell_type": "code",
   "execution_count": 4,
   "metadata": {
    "dotnet_interactive": {
     "language": "csharp"
    },
    "polyglot_notebook": {
     "kernelName": "csharp"
    }
   },
   "outputs": [
    {
     "name": "stdout",
     "output_type": "stream",
     "text": [
      "100\r\n"
     ]
    }
   ],
   "source": [
    "List<int> numbers = new List<int>\n",
    "{\n",
    "    32, 99, 7, 58, 95, 100, 63, 57, 33, 39, 24, 87, 38, 25, 48,\n",
    "    54, 63, 71, 9, 9, 32, 13, 1, 55, 29, 31, 77, 93, 30, 34\n",
    "};\n",
    "int hoogste = 0;\n",
    "foreach (int getal in numbers) {\n",
    "    hoogste = getal > hoogste ? getal : hoogste;\n",
    "}\n",
    "Console.WriteLine(hoogste)"
   ]
  },
  {
   "cell_type": "code",
   "execution_count": null,
   "metadata": {
    "dotnet_interactive": {
     "language": "csharp"
    },
    "polyglot_notebook": {
     "kernelName": "csharp"
    }
   },
   "outputs": [],
   "source": []
  }
 ],
 "metadata": {
  "kernelspec": {
   "display_name": ".NET (C#)",
   "language": "C#",
   "name": ".net-csharp"
  },
  "language_info": {
   "name": "polyglot-notebook"
  },
  "polyglot_notebook": {
   "kernelInfo": {
    "defaultKernelName": "csharp",
    "items": [
     {
      "aliases": [],
      "languageName": "csharp",
      "name": "csharp"
     }
    ]
   }
  }
 },
 "nbformat": 4,
 "nbformat_minor": 2
}
