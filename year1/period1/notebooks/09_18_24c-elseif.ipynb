{
 "cells": [
  {
   "cell_type": "markdown",
   "metadata": {},
   "source": [
    "# Het concept elseif\n",
    "Bij veel keuzes in een if-statement, is het ook mogelijk om een stuk code uit te voeren als de conditie niet waar is. Dit kan met het else-statement gedaan worden. \n",
    "Soms wil je aan deze else ook een conditie toevoegen daarvoor is het elseif statement. \n",
    "De code onder het elseif-statement word uitgevoerd zodra de conditie in de if niet waar is én de conditie voor het elseif wel waar is.\n",
    "\n",
    "In een flowchart kan dit aangegeven worden door een blok code weg te zetten bij de true-tak van het elseif-blok"
   ]
  },
  {
   "cell_type": "markdown",
   "metadata": {},
   "source": [
    "## Flowchart\n",
    "```mermaid\n",
    "flowchart TD\n",
    "    IC{If Condition}\n",
    "    IB([If Body])\n",
    "    EIC{Else if Condition}\n",
    "    EIB([Else if Body])\n",
    "    END[End]\n",
    "\n",
    "    IC --> |true| IB\n",
    "    IC -.-> |false| EIC\n",
    "    EIC --> |true| EIB\n",
    "    EIC -.-> |false| END\n",
    "    IB & EIB --> END\n",
    "```"
   ]
  },
  {
   "cell_type": "markdown",
   "metadata": {},
   "source": [
    "## Enkele else if\n",
    "Wanneer in je meterkast (https://nl.wikipedia.org/wiki/Meterkast) twee type meters aanwezig zijn en het type meter wilt bepalen kun je hiervoor een elseif statement gebruiken"
   ]
  },
  {
   "cell_type": "code",
   "execution_count": null,
   "metadata": {
    "dotnet_interactive": {
     "language": "csharp"
    },
    "polyglot_notebook": {
     "kernelName": "csharp"
    }
   },
   "outputs": [],
   "source": [
    "// C# code\n",
    "string meter = \"Water\";\n",
    "\n",
    "if (\"Elektriciteit\" == meter) \n",
    "{\n",
    "  Console.WriteLine(\"Elektriciteitsmeter\");\n",
    "}\n",
    "else if (\"Water\" == meter)\n",
    "{\n",
    "  Console.WriteLine(\"Watermeter\");\n",
    "}"
   ]
  },
  {
   "cell_type": "markdown",
   "metadata": {},
   "source": [
    "## Meerdere else ifs\n",
    "Wanneer in je meterkast drie type meters aanwezig zijn en het type meter wilt bepalen kun je hiervoor meerdere elseif statements gebruiken"
   ]
  },
  {
   "cell_type": "code",
   "execution_count": null,
   "metadata": {
    "dotnet_interactive": {
     "language": "csharp"
    },
    "polyglot_notebook": {
     "kernelName": "csharp"
    }
   },
   "outputs": [],
   "source": [
    "// C# code\n",
    "string meter = \"Gas\";\n",
    "\n",
    "if (\"Elektriciteit\" == meter)  \n",
    "{\n",
    "  Console.WriteLine(\"Elektriciteitsmeter\");\n",
    "}\n",
    "else if (\"Water\" == meter)\n",
    "{\n",
    "  Console.WriteLine(\"Watermeter\");\n",
    "}\n",
    "else if (\"Gas\" == meter)  \n",
    "{\n",
    "  Console.WriteLine(\"Gasmeter\");\n",
    "}"
   ]
  },
  {
   "cell_type": "markdown",
   "metadata": {},
   "source": [
    "## Het else statement\n",
    "Wanneer in je meterkast drie type meters aanwezig zijn en het type meter wilt bepalen kun je hiervoor meerdere elseif statements gebruiken. \n",
    "Een else statement kan gebruikt worden als 'default' omdat deze geen conditie bevat.\n",
    "In het onderstaande voorbeeld bevat de meterkast geen waterstof meter wat wordt afgehandeld door het else statement. "
   ]
  },
  {
   "cell_type": "code",
   "execution_count": null,
   "metadata": {
    "dotnet_interactive": {
     "language": "csharp"
    },
    "polyglot_notebook": {
     "kernelName": "csharp"
    }
   },
   "outputs": [],
   "source": [
    "// C# code\n",
    "string meter = \"Waterstof\";\n",
    "\n",
    "if (\"Elektriciteit\" == meter) \n",
    "{\n",
    "  Console.WriteLine(\"Elektriciteitsmeter\");\n",
    "}\n",
    "else if (\"Water\" == meter)\n",
    "{\n",
    "  Console.WriteLine(\"Watermeter\");\n",
    "}\n",
    "else if (\"Gas\" == meter)  \n",
    "{\n",
    "  Console.WriteLine(\"Gasmeter\");\n",
    "}\n",
    "else\n",
    "{\n",
    "  // default alle bovenstaande if / else if statements false\n",
    "  Console.WriteLine(\"onbekende meter\");  \n",
    "}"
   ]
  },
  {
   "cell_type": "markdown",
   "metadata": {},
   "source": [
    "## nested ifs\n",
    "Wanneer in je meterkast drie type meters aanwezig zijn en het type meter wilt bepalen kun je hiervoor meerdere elseif statements gebruiken. \n",
    "Als je het type meter hebt bepaald en vervolgens het tarief wilt bepalen kun je hiervoor een nested if gebruiken \n",
    "In het het onderstaande voorbeeld wordt het tarief bepaald voor een elektriciteitsmeter aan de hand van een nesterd if"
   ]
  },
  {
   "cell_type": "code",
   "execution_count": null,
   "metadata": {
    "dotnet_interactive": {
     "language": "csharp"
    },
    "polyglot_notebook": {
     "kernelName": "csharp"
    }
   },
   "outputs": [],
   "source": [
    "// C# code\n",
    "string meter = \"Elektriciteit\";\n",
    "string tarief = \"Dynamisch\";\n",
    "\n",
    "if (\"Elektriciteit\" == meter)  \n",
    "{\n",
    "  Console.WriteLine(\"Elektriciteitsmeter\");\n",
    "  if (\"Piek\" == tarief)\n",
    "  {\n",
    "    Console.WriteLine(\"Piek tarief\");\n",
    "  }\n",
    "  else if (\"Dal\" == tarief)\n",
    "  {\n",
    "    Console.WriteLine(\"Dal Tarief\");\n",
    "  }\n",
    "  else\n",
    "  {\n",
    "    Console.WriteLine(\"Dynamisch Tarief\");\n",
    "  }\n",
    "}\n",
    "else if (\"Water\" == meter)\n",
    "{\n",
    "  Console.WriteLine(\"Watermeter\");\n",
    "}\n",
    "else if (\"Gas\" == meter) \n",
    "{\n",
    "  Console.WriteLine(\"Gasmeter\");\n",
    "}\n",
    "else\n",
    "{\n",
    "  Console.WriteLine(\"onbekende meter\");  \n",
    "}"
   ]
  },
  {
   "cell_type": "markdown",
   "metadata": {},
   "source": [
    "## Opdracht 1\n",
    "Cijfer bepalen\n",
    "\n",
    "Op een toets zijn 60 punten te behalen. De beoordeling is echter in letters (A is beste, F is slechtste). \n",
    "| punten | beoordeling |\n",
    "|--------|-------------|\n",
    "| 0-29   | F           |\n",
    "| 30-34  | E           |\n",
    "| 35-39  | D           |\n",
    "| 40-50  | C           |\n",
    "| 51-55  | B           |\n",
    "| 56-60  | A           |\n",
    "\n",
    "Schrijf een programma dat op basis van het aantal punten, de juiste beoordeling uitprint"
   ]
  },
  {
   "cell_type": "code",
   "execution_count": 5,
   "metadata": {
    "dotnet_interactive": {
     "language": "csharp"
    },
    "polyglot_notebook": {
     "kernelName": "csharp"
    }
   },
   "outputs": [
    {
     "name": "stdout",
     "output_type": "stream",
     "text": [
      "Je beoordeling is A\n",
      "Je beoordeling is A\n",
      "Je beoordeling is B\n",
      "Je beoordeling is B\n",
      "Je beoordeling is B\n",
      "Je beoordeling is D\n",
      "Je beoordeling is D\n",
      "Je beoordeling is E\n",
      "Je beoordeling is F\n",
      "Je beoordeling is F\n",
      "Je beoordeling is ඞ Impossible ඞ\n",
      "Je beoordeling is ඞ Impossible ඞ\n"
     ]
    }
   ],
   "source": [
    "string calculateGrade(int grade) {\n",
    "    if (grade < 0 || grade > 60) {\n",
    "        return \"ඞ Impossible ඞ\";\n",
    "    } else if (grade <= 29) {\n",
    "        return \"F\";\n",
    "    } else if (grade <= 34) {\n",
    "        return \"E\";\n",
    "    } else if (grade <= 39) {\n",
    "        return \"D\";\n",
    "    } else if (grade <= 40) {\n",
    "        return \"D\";\n",
    "    } else if (grade <= 55) {\n",
    "        return \"B\";\n",
    "    } else if (grade <= 60) {\n",
    "        return \"A\";\n",
    "    } else {\n",
    "        return \"The code will never get here\";\n",
    "    }\n",
    "}\n",
    "\n",
    "Console.WriteLine($\"Je beoordeling is {calculateGrade(60)}\");\n",
    "Console.WriteLine($\"Je beoordeling is {calculateGrade(59)}\");\n",
    "Console.WriteLine($\"Je beoordeling is {calculateGrade(55)}\");\n",
    "Console.WriteLine($\"Je beoordeling is {calculateGrade(50)}\");\n",
    "Console.WriteLine($\"Je beoordeling is {calculateGrade(45)}\");\n",
    "Console.WriteLine($\"Je beoordeling is {calculateGrade(40)}\");\n",
    "Console.WriteLine($\"Je beoordeling is {calculateGrade(35)}\");\n",
    "Console.WriteLine($\"Je beoordeling is {calculateGrade(30)}\");\n",
    "Console.WriteLine($\"Je beoordeling is {calculateGrade(25)}\");\n",
    "Console.WriteLine($\"Je beoordeling is {calculateGrade(0)}\");\n",
    "Console.WriteLine($\"Je beoordeling is {calculateGrade(69)}\");\n",
    "Console.WriteLine($\"Je beoordeling is {calculateGrade(-1)}\");"
   ]
  },
  {
   "cell_type": "markdown",
   "metadata": {},
   "source": [
    "## Opdracht 2\n",
    "[fizz buzz](https://en.wikipedia.org/wiki/Fizz_buzz) is een spelletje om kinderen te leren delen. Schrijf een programma om voor een getal, volgens de regels van fizz buzz, de juiste term weer te geven. Herschrijf de opdracht uit het kopje if om de else te gebruiken"
   ]
  },
  {
   "cell_type": "code",
   "execution_count": 9,
   "metadata": {
    "dotnet_interactive": {
     "language": "csharp"
    },
    "polyglot_notebook": {
     "kernelName": "csharp"
    }
   },
   "outputs": [
    {
     "name": "stdout",
     "output_type": "stream",
     "text": [
      "1 2 Fizz 4 Buzz Fizz 7 8 Fizz Buzz \n",
      "11 Fizz 13 14 FizzBuzz 16 17 Fizz 19 Buzz \n",
      "Fizz 22 23 Fizz Buzz 26 Fizz 28 29 FizzBuzz \n",
      "31 32 Fizz 34 Buzz Fizz 37 38 Fizz Buzz \n",
      "41 Fizz 43 44 FizzBuzz 46 47 Fizz 49 Buzz \n",
      "Fizz 52 53 Fizz Buzz 56 Fizz 58 59 FizzBuzz \n",
      "61 62 Fizz 64 Buzz Fizz 67 68 Fizz Buzz \n",
      "71 Fizz 73 74 FizzBuzz 76 77 Fizz 79 Buzz \n",
      "Fizz 82 83 Fizz Buzz 86 Fizz 88 89 FizzBuzz \n",
      "91 92 Fizz 94 Buzz Fizz 97 98 Fizz Buzz \n",
      "101 Fizz 103 104 FizzBuzz 106 107 Fizz 109 Buzz \n",
      "Fizz 112 113 Fizz Buzz 116 Fizz 118 119 FizzBuzz \n",
      "121 122 Fizz 124 Buzz Fizz 127 128 Fizz Buzz \n",
      "131 Fizz 133 134 FizzBuzz 136 137 Fizz 139 Buzz \n",
      "Fizz 142 143 Fizz Buzz 146 Fizz 148 149 FizzBuzz \n",
      "151 152 Fizz 154 Buzz Fizz 157 158 Fizz Buzz \n",
      "161 Fizz 163 164 FizzBuzz 166 167 Fizz 169 Buzz \n",
      "Fizz 172 173 Fizz Buzz 176 Fizz 178 179 FizzBuzz \n",
      "181 182 Fizz 184 Buzz Fizz 187 188 Fizz Buzz \n",
      "191 Fizz 193 194 FizzBuzz 196 197 Fizz 199 Buzz \n",
      "Fizz 202 203 Fizz Buzz 206 Fizz 208 209 FizzBuzz \n",
      "211 212 Fizz 214 Buzz Fizz 217 218 Fizz Buzz \n",
      "221 Fizz 223 224 FizzBuzz 226 227 Fizz 229 Buzz \n",
      "Fizz 232 233 Fizz Buzz 236 Fizz 238 239 FizzBuzz \n",
      "241 242 Fizz 244 Buzz Fizz 247 248 Fizz Buzz \n",
      "251 Fizz 253 254 FizzBuzz 256 257 Fizz 259 Buzz \n",
      "Fizz 262 263 Fizz Buzz 266 Fizz 268 269 FizzBuzz \n",
      "271 272 Fizz 274 Buzz Fizz 277 278 Fizz Buzz \n",
      "281 Fizz 283 284 FizzBuzz 286 287 Fizz 289 Buzz \n",
      "Fizz 292 293 Fizz Buzz 296 Fizz 298 299 FizzBuzz \n",
      "301 302 Fizz 304 Buzz Fizz 307 308 Fizz Buzz \n",
      "311 Fizz 313 314 FizzBuzz 316 317 Fizz 319 Buzz \n",
      "Fizz 322 323 Fizz Buzz 326 Fizz 328 329 FizzBuzz \n",
      "331 332 Fizz 334 Buzz Fizz 337 338 Fizz Buzz \n",
      "341 Fizz 343 344 FizzBuzz 346 347 Fizz 349 Buzz \n",
      "Fizz 352 353 Fizz Buzz 356 Fizz 358 359 FizzBuzz \n",
      "361 362 Fizz 364 Buzz "
     ]
    }
   ],
   "source": [
    "int getal = 0;//Todo: vraag de gebruiker (cast) en maak af;\n",
    "int loops = 365;\n",
    "for (int index = 1; index <= loops; index++) {\n",
    "    string returnValue = \"\";\n",
    "    returnValue += index % 3 == 0 ? \"Fizz\" : \"\";\n",
    "    returnValue += index % 5 == 0 ? \"Buzz\" : \"\";\n",
    "    returnValue += returnValue == \"\" ? index : \"\";\n",
    "    returnValue += \" \";\n",
    "    Console.Write(returnValue);\n",
    "    if (index % 10 == 0) {\n",
    "        Console.WriteLine();\n",
    "    }\n",
    "}"
   ]
  },
  {
   "cell_type": "markdown",
   "metadata": {},
   "source": [
    "# Opdracht extra-1\n",
    "Geef aan of een jaar een schrikkeljaar is of niet. Let op de uitzonderingen en zo."
   ]
  },
  {
   "cell_type": "code",
   "execution_count": 11,
   "metadata": {
    "dotnet_interactive": {
     "language": "csharp"
    },
    "polyglot_notebook": {
     "kernelName": "csharp"
    }
   },
   "outputs": [
    {
     "name": "stdout",
     "output_type": "stream",
     "text": [
      "2000 = True\n",
      "2024 = True\n",
      "2020 = True\n",
      "4000 = True\n",
      "1900 = True\n",
      "2005 = False\n"
     ]
    }
   ],
   "source": [
    "// Bro dit zijn letterlijk de zelfde opdrachten als in `if`\n",
    "\n",
    "int jaar = 2024;\n",
    "\n",
    "bool isSchrikkelJaar(int jaar) {\n",
    "    return (jaar % 400 == 0 && jaar % 4000 != 0) || jaar % 4 == 0;\n",
    "}\n",
    "\n",
    "Console.WriteLine($\"{2000} = {isSchrikkelJaar(2000)}\");\n",
    "Console.WriteLine($\"{2024} = {isSchrikkelJaar(2024)}\");\n",
    "Console.WriteLine($\"{2020} = {isSchrikkelJaar(2020)}\");\n",
    "Console.WriteLine($\"{4000} = {isSchrikkelJaar(4000)}\");\n",
    "Console.WriteLine($\"{1900} = {isSchrikkelJaar(1900)}\");\n",
    "Console.WriteLine($\"{2005} = {isSchrikkelJaar(2005)}\");"
   ]
  },
  {
   "cell_type": "code",
   "execution_count": 12,
   "metadata": {
    "dotnet_interactive": {
     "language": "csharp"
    },
    "polyglot_notebook": {
     "kernelName": "csharp"
    }
   },
   "outputs": [],
   "source": []
  },
  {
   "cell_type": "code",
   "execution_count": 13,
   "metadata": {
    "dotnet_interactive": {
     "language": "csharp"
    },
    "polyglot_notebook": {
     "kernelName": "csharp"
    }
   },
   "outputs": [],
   "source": []
  }
 ],
 "metadata": {
  "kernelspec": {
   "display_name": ".NET (C#)",
   "language": "C#",
   "name": ".net-csharp"
  },
  "language_info": {
   "name": "polyglot-notebook"
  },
  "polyglot_notebook": {
   "kernelInfo": {
    "defaultKernelName": "csharp",
    "items": [
     {
      "aliases": [],
      "languageName": "csharp",
      "name": "csharp"
     }
    ]
   }
  }
 },
 "nbformat": 4,
 "nbformat_minor": 2
}
