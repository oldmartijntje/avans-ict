{
 "cells": [
  {
   "cell_type": "markdown",
   "metadata": {},
   "source": [
    "# Algoritmes met herhalingen\n"
   ]
  },
  {
   "cell_type": "markdown",
   "metadata": {},
   "source": [
    "Als je een stap in een algoritme meerdere keren wilt laten uitvoeren zou je dat kunnen aangeven door meerdere kopieën achter elkaar te zetten in je flowchart. Bijvoorbeeld, voor een algoritme dat het gemiddelde van 5 niet-negatieve getallen bepaalt, op deze wijze:\n",
    "\n",
    "```mermaid\n",
    "---\n",
    "title: Flowchart - Gemiddelde van vijf niet-negatieve getallen\n",
    "---\n",
    "%%{ init: { 'flowchart': { 'curve': 'stepAfter' }}}%%\n",
    "flowchart TB\n",
    "Start([START]) --> A\n",
    "A[som = 0] --> B\n",
    "B[aantal = 0] --> Q\n",
    "Q[/\"Voer vijf getallen in: a, b, c, d, e\"/] --> Iter1\n",
    "Iter1{a >= 0}\n",
    "Iter1 -- False --> Iter2\n",
    "Iter1 -- True --> Iter1A\n",
    "Iter1A[som = som + a] --> Iter1B\n",
    "Iter1B[aantal = aantal + 1] --> Iter2\n",
    "Iter2{b >= 0}\n",
    "Iter2 -- False --> Iter3\n",
    "Iter2 -- True --> Iter2A\n",
    "Iter2A[som = som + b] --> Iter2B\n",
    "Iter2B[aantal = aantal + 1] --> Iter3\n",
    "Iter3{c >= 0}\n",
    "Iter3 -- False --> Iter4\n",
    "Iter3 -- True --> Iter3A\n",
    "Iter3A[som = som + c] --> Iter3B\n",
    "Iter3B[aantal = aantal + 1] --> Iter4\n",
    "Iter4{d >= 0}\n",
    "Iter4 -- \"enzovoort\\nvoor de rest\\nvan het algoritme\" --> End\n",
    "End([END])\n",
    "```\n"
   ]
  },
  {
   "cell_type": "markdown",
   "metadata": {},
   "source": [
    "Er is een veel slimmere, kortere en krachtigere manier om dit te doen: met een *lus* (in het Engels: een *loop*). Daarmee hoef je dat wat herhaald moet worden nog maar eenmaal in je flowchart (of in je C# source code) op te nemen. Bovendien kan je het aantal herhalingen tijdens runtime bepalen in plaats van vooraf (tijdens het maken van de flowchart). Dus of er 5 herhalingen zijn of 500, de flowchart ziet er hetzelfde uit.\n",
    "\n",
    "Heel veel algoritmen werken op basis van zulke lussen. We noemen dat **iteratieve** algoritmen. Itereren betekent herhalen. Een iteratie is het eenmaal doorlopen van de lus. Het aantal iteraties is dus het aantal keren dat de lus wordt doorlopen.\n",
    "\n",
    "Het voorbeeld van hierboven wordt dan:\n",
    "\n",
    "```mermaid\n",
    "---\n",
    "title: Flowchart - Gemiddelde van vijf niet-negatieve getallen als lus\n",
    "---\n",
    "%%{ init: { 'flowchart': { 'curve': 'linear' }}}%%\n",
    "flowchart TB\n",
    "Start([START]) --> A\n",
    "A[som = 0] --> B\n",
    "B[aantal = 0] --> \n",
    "C[resterende_getallen = 5] --> Q\n",
    "Q[/\"WRITE Voer een getal in:\"/] --> Read\n",
    "Read[/\"READ getal\"/] --> Cond\n",
    "Cond{getal >= 0}\n",
    "Cond -- False --> Decr\n",
    "Cond -- True --> Iter1\n",
    "Iter1[som = som + getal] --> Iter2\n",
    "Iter2[aantal = aantal + 1] --> Decr\n",
    "Decr[resterende_getallen = resterende_getallen - 1] --> Loop\n",
    "Loop{{resterende_getallen = 0}}\n",
    "Loop -- False --> Q\n",
    "Loop -- True --> Avg\n",
    "Avg[/\"WRITE Gemiddelde is: som / aantal\"/] --> End\n",
    "End([END])\n",
    "```\n",
    "\n",
    "Je ziet: het aantal iteraties in deze lus, dus het aantal getallen dat wordt ingelezen, kan eenvoudig worden veranderd door de variabele `resterende_getallen` een andere beginwaarde te geven, zonder de flowchart te wijzigen.\n",
    "\n"
   ]
  },
  {
   "cell_type": "markdown",
   "metadata": {},
   "source": [
    "Een lus herhaalt alle stappen totdat een *eindconditie* is vervuld en stopt pas dan met herhalen. Zo'n eindconditie moet een boolean waarde opleveren, net zoals in een keuzestructuur (een if-statement), dus hij moet true of false zijn. De check of de eindconditie is vervuld wordt slechts eenmaal per iteratie uitgevoerd, naar keuze aan het begin van de lus of aan het eind. Het is essentieel dat de eindconditie van de lus uiteindelijk *altijd* true zal worden, want anders hebben we een *oneindige* lus waar we nooit meer uitkomen!\n",
    "\n",
    "> Ga bij elke lus die je maakt voor jezelf na dat de eindconditie die je opstelt voor de lus ooit vervuld zal worden zodat je zeker weet dat de lus verlaten zal worden.\n",
    "\n",
    "\n",
    "In een flowchart herken je een lus aan een speciale symboolvorm die de conditie bevat. Vanuit dat symbool zijn er twee pijlen, eentje met `True` als de conditie vervuld is, de ander met `False` als de conditie niet vervuld is. Dat ziet er bijvoorbeeld zo uit:\n",
    "\n",
    "```mermaid\n",
    "%%{init: {'flowchart': {'curve': 'linear'}}}%%\n",
    "flowchart TB\n",
    "Ervoor[Dit komt voor de lus] --> Loop\n",
    "subgraph Body [Dit is de lus zelf]\n",
    "Loop{{Hier staat een conditie die true of false moet zijn}} -- True --> Repeat\n",
    "Repeat[De body van de lus, dit deel wordt herhaald in elke iteratie] --> Loop\n",
    "end\n",
    "Loop -- False --> Verder\n",
    "Verder[Dit komt na de lus]\n",
    "```\n",
    "\n",
    "\n",
    "> Let op, een lus heeft in een flowchart een andere vorm dan de keuze (if-statement). Een lus gebruikt een *zeshoek*, een if-statement een *ruit*.\n"
   ]
  },
  {
   "cell_type": "markdown",
   "metadata": {},
   "source": [
    "## Kennisclips\n",
    "\n",
    "In de eerste kennisclip worden lussen (Engels: loops) geïntroduceerd en uitgelegd aan de hand van een voorbeeld. Er zitten ook wat quizvragen in om te kijken of je de uitleg goed hebt begrepen.\n",
    "\n",
    "In de tweede kennisclip gaan we dieper in op eindeloze lussen en hoe je die kunt vinden en voorkomen. \n",
    "\n",
    "<iframe id=\"kaltura_player\" type=\"text/javascript\"  src='https://api.de.kaltura.com/p/10066/embedPlaykitJs/uiconf_id/23452529?iframeembed=true&entry_id=0_c1hjp2r7&config[provider]={\"widgetId\":\"0_j4s8d56k\"}'  style=\"width: 608px;height: 402px;border: 0;\" allowfullscreen webkitallowfullscreen mozAllowFullScreen allow=\"autoplay *; fullscreen *; encrypted-media *\" sandbox=\"allow-forms allow-same-origin allow-scripts allow-top-navigation allow-pointer-lock allow-popups allow-modals allow-orientation-lock allow-popups-to-escape-sandbox allow-presentation allow-top-navigation-by-user-activation\" title=\"Kaltura Player\"></iframe>\n",
    "\n",
    "\n",
    "<iframe id=\"kaltura_player\" type=\"text/javascript\"  src='https://api.de.kaltura.com/p/10066/embedPlaykitJs/uiconf_id/23452529?iframeembed=true&entry_id=0_wlj1fgvt&config[provider]={\"widgetId\":\"0_qg8oz0rl\"}'  style=\"width: 608px;height: 402px;border: 0;\" allowfullscreen webkitallowfullscreen mozAllowFullScreen allow=\"autoplay *; fullscreen *; encrypted-media *\" sandbox=\"allow-forms allow-same-origin allow-scripts allow-top-navigation allow-pointer-lock allow-popups allow-modals allow-orientation-lock allow-popups-to-escape-sandbox allow-presentation allow-top-navigation-by-user-activation\" title=\"Kaltura Player\"></iframe>\n"
   ]
  },
  {
   "cell_type": "markdown",
   "metadata": {},
   "source": [
    "## Soorten lussen: while, repeat-until, for\n",
    "\n",
    "Als je een lus gaat maken moet je meestal twee keuzen maken:\n",
    "- Test je de eindconditie aan het **begin** van de lus of aan het **eind**?\n",
    "- Weet je vooraf het aantal iteraties door de lus, of hangt dat af van wat er in de lus gebeurt?\n",
    "\n",
    "Er zijn twee basisvormen voor lussen in een flowchart.\n",
    "\n",
    "- **While** lus: in deze vorm wordt de conditie aan het begin van de lus gecontroleerd:\n",
    "![while lus](images/while_loop.png \"WHILE loop\")\n",
    "\n",
    "- **Repeat-until** lus: in deze vorm wordt de conditie aan het eind van de lus gecontroleerd:\n",
    "![repeat lus](images/repeat_loop.png \"REPEAT loop\")\n",
    "\n",
    "De **while**-lus controleert de conditie aan het begin van de lus, de **repeat-until**-lus doet dat aan het eind. Een repeat-until-lus wordt daardoor altijd minstens eenmaal doorlopen, zelfs al de conditie false is. Een while-lus checkt eerst de conditie dus als die false is wordt de lus overgeslagen. Dat is dus een belangrijk verschil tussen deze beide vormen van lussen. Een ander verschil is dat de while lus wordt verlaten zodra de conditie false wordt, terwijl de repeat-until lus juist wordt verlaten zodra de conditie true wordt. Zie de flowcharts hierboven.\n",
    "\n",
    "**Tip:** kies de vorm die van nature past bij het algoritme dat je aan het maken bent.\n",
    "\n",
    "Als je vooraf weet hoe vaak de lus moet worden doorlopen, dan is het gebruikelijk om een tellervariabele te maken waarmee je het aantal iteraties telt, bijvoorbeeld van 5 terug naar 0 of van 0 omhoog naar 5 als er 5 iteraties nodig zijn. Dat kan prima in een while lus maar er is een gespecialiseerde vorm van lus voor gemaakt omdat dit zo vaak voorkomt in de praktijk. We noemen dat een **for**-lus. Een for-lus test de conditie aan het begin, net als een while-lus.\n",
    "\n",
    "> Merk op: alles wat met een for-lus kan is ook mogelijk met een while-lus plus een tellervariabele. Een for-lus is slechts een andere, compactere notatie.\n",
    "\n",
    "> Let op: er is in C# ook een **foreach**-lus. Die is wel functioneel anders dan een for-lus of while-lus.\n",
    "\n",
    "### Notatie in C# (beknopt)\n",
    "\n",
    "Elders in het lesmateriaal vind je een uitgebreide beschrijving hoe je lussen in C# moet programmeren. We laten hier alvast de keywords zien.\n",
    "\n",
    "- De notatie voor een while-lus in C# is:\n",
    "    ``` csharp\n",
    "    while ( ... )\n",
    "    { ... }\n",
    "    ```\n",
    "- De notatie voor een repeat-until-lus in C# is:\n",
    "    ``` csharp\n",
    "    do\n",
    "    { ... }\n",
    "    while ( ... )\n",
    "    ```\n",
    "- De notatie voor een for-lus in C# is:\n",
    "    ``` csharp\n",
    "    for ( ... ; ... ; ... )\n",
    "    { ... }\n",
    "    ```\n",
    "\n",
    "> De naam *repeat-until* wordt in C# (en in sommige andere programmeertalen) dus niet gebruikt, deze lus gebruikt het keyword `do` in plaats van `repeat`. Let op dat een repeat-until lus pas wordt verlaten als de conditie true is (herhaal totdat de conditie is vervuld) terwijl een do-while lus juist wordt verlaten als de conditie false is (herhaal zolang de conditie is vervuld).\n",
    "\n",
    "Tussen de haakjes ( ) staat de conditie en tussen de akkolades { } datgene dat herhaald wordt. Bij de for-lus staat tussen de haakjes ook nog de initialisatie van de tellervariabele en de verhoging (of verlaging) van de tellervariabele na elke iteratie door de lus.\n",
    "\n",
    "### Tip\n",
    "\n",
    "Je zult merken dat je bij het programmeren vaak in de verleiding komt om een stuk source code te kopiëren en een paar keer in je programma te plakken (met kleine aanpassingen). Dat is een quick-and-dirty oplossing die werkt, maar het is niet de juiste aanpak. Zodra je merkt dat je bijna exact dezelfde code meermaals in je programma hebt staan is dat een signaal om die code om te schrijven naar een lus. Daar wordt je code niet alleen compacter en beter leesbaar van, maar ook de kans op fouten neemt af, want veel fouten ontstaan doordat een bepaalde wijziging niet op elke plek waar dat nodig is wordt gedaan in de code. Als zo'n wijziging maar op één plek in de code nodig is kan die fout niet gemaakt worden."
   ]
  },
  {
   "cell_type": "markdown",
   "metadata": {},
   "source": [
    "# Opdrachten"
   ]
  },
  {
   "cell_type": "markdown",
   "metadata": {},
   "source": [
    "## Opdracht 1 - DIN papierformaten berekenen\n",
    "\n",
    "We starten met de afmetingen van een vel A0 papier: 1189 x 841 mm (lengte x breedte).\n",
    "Ieder nieuw (kleiner) formaat A<sub>x+1</sub> wordt bepaald uit de afmetingen van het vorige (grotere) formaat A<sub>x</sub> op de volgende wijze:\n",
    "- De lengte van A<sub>x+1</sub> is gelijk aan de breedte van A<sub>x</sub>.\n",
    "- De breedte van A<sub>x+1</sub> is gelijk aan de helft van de lengte van A<sub>x</sub> (we ronden omlaag af naar hele millimeters).\n",
    "- De oppervlakte van A<sub>x+1</sub> is daardoor de helft van de oppervlakte van A<sub>x</sub>.\n",
    "\n",
    "Dus:\n",
    "- A1 = 841 mm x 1189 * 1/2 mm = 841 mm x 594 mm\n",
    "- A2 = 594 mm x 841 * 1/2 mm = 594 mm x 420 mm\n",
    "- A3 = ... etc.\n",
    "\n",
    "Maak een algoritme om deze DIN papierformaten te berekenen.\n",
    "1. Maak eerst een schets van de flowchart met de hand op papier.\n",
    "2. Werk de flowchart netjes uit zodat hij ook voor anderen duidelijk is.\n",
    "3. Maak duidelijk welke variabelen er zijn, wat hun datatype is en wat hun functie is in het algoritme, dus wat ze voorstellen tijdens de uitvoering van het algoritme. Noteer dat bijvoorbeeld met opmerkingen naast de flowchart, of in een aparte tabel.\n",
    "4. Zorg dat je algoritme de afmetingen van A0 t/m A10 berekent.\n",
    "5. Laat je algoritme die afmetingen in kolommen afdrukken:\n",
    "\n",
    "|DIN formaat|Lengte (mm)|Breedte (mm)|Oppervlakte (mm<sup>2</sup>)|\n",
    "|-----------|-----------|------------|-----------------|\n",
    "|A0|1189|841|999949|\n",
    "|A1|841|594|499554|\n",
    "|A2|594|420| ? |\n",
    "|A3|420 | ? | ? |\n",
    "|A4| ? | ? | ? |\n",
    "|etc.| | | |\n",
    "\n",
    "**Vraag:** Welk DIN formaat heeft een oppervlakte < 100 mm<sup>2</sup>?\n",
    "Voer je algoritme uit, met de hand en een rekenmachine of met b.v. Flowgorithm op je laptop, en reken zo uit vanaf welk DIN formaat de oppervlakte van het papier kleiner is dan 100 mm<sup>2</sup>. Leg voor jezelf en aan je medestudenten uit hoe je op dit antwoord bent gekomen. Er zijn meerdere goede manieren om op het juiste antwoord uit te komen.\n",
    "\n",
    "> Een zoekmachine of chatbot op internet meteen naar het antwoord vragen is **niet** de juiste manier want daar leer je niets van. Je kunt wel zo je zelf gevonden antwoord controleren.\n"
   ]
  },
  {
   "cell_type": "markdown",
   "metadata": {},
   "source": [
    "## Opdracht 2 - Klinkers in een zin tellen\n",
    "\n",
    "Bedenk een algoritme dat het aantal klinkers telt in een gegeven zin. Een zin is hier een reeks van letters, cijfers en speciale symbolen zoals leestekens. Zowel hoofdletters als kleine letters kunnen voorkomen.\n",
    "Natuurlijk gebruikt je algoritme een lus.\n",
    "\n",
    "Een voorbeeld:\n",
    "\n",
    "|Invoer|Uitvoer (aantal klinkers)|\n",
    "|--|--|\n",
    "|Dit is een testzin|6|\n",
    "|Grrblmfz&%#$@|0|\n",
    "|294|0|\n",
    "|Een nieuwe zin|7|\n",
    "\n",
    "Stappen:\n",
    "\n",
    "- Maak een flowchart van je algoritme. Test het eerst op papier, zet het daarna om in een uitvoerbare versie op je laptop met b.v. Flowgorithm.\n",
    "- Breid de flowchart uit zodat die de gebruiker een zin laat invoeren, het aantal klinkers daarin telt, en daarna dat aantal afdrukt.\n",
    "- Maak een tabel van testzinnen waarmee je je algoritme test. Noteer ook de resultaten in de tabel. Daarin staat dus telkens een ingevoerde testzin en het gevonden aantal klinkers, en dat voor alle testzinnen.\n",
    "- Vergelijk jouw flowchart met die van medestudenten en bespreek de overeenkomsten en verschillen.\n",
    "- Test de flowchart van een medestudent met jouw testzinnen en laat jouw flowchart testen met de testzinnen van een medestudent. Vind je nieuwe bugs in je algoritme?\n"
   ]
  },
  {
   "cell_type": "markdown",
   "metadata": {},
   "source": [
    "> Je merkt dat we veel nadruk leggen op **testen** van algoritmen. Dat doen we omdat we meteen vanaf het begin jouw kritische blik op je eigen werk en het werk van anderen (ook dat van docenten) willen stimuleren. Immers, een algoritme dat foute antwoorden geeft is niet echt nuttig. En een algoritme dat foute antwoorden geeft die eruit zien als goede antwoorden is zelfs ronduit gevaarlijk. In de wereld van de computersoftware is elk detail belangrijk, dus werk zorgvuldig en blijf alert."
   ]
  }
 ],
 "metadata": {
  "kernelspec": {
   "display_name": ".NET (C#)",
   "language": "C#",
   "name": ".net-csharp"
  },
  "language_info": {
   "name": "polyglot-notebook"
  },
  "polyglot_notebook": {
   "kernelInfo": {
    "defaultKernelName": "csharp",
    "items": [
     {
      "aliases": [],
      "languageName": "csharp",
      "name": "csharp"
     }
    ]
   }
  }
 },
 "nbformat": 4,
 "nbformat_minor": 2
}
