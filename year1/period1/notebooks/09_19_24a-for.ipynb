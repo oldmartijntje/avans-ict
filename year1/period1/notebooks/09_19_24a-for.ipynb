{
 "cells": [
  {
   "cell_type": "markdown",
   "metadata": {},
   "source": [
    "# For loop\n",
    "\n",
    "De for-loop wordt gebruikt om een blok code een bepaald aantal keren uit te voeren. De for-loop is vooral handig wanneer je weet hoeveel herhalingen je wilt uitvoeren, dus om een stuk code bijvoorbeeld 10 keer te herhalen. Hierbij wordt en teller bijgehouden die gebruikt kan worden in berekeningen als dit nodig is.\n",
    "\n",
    "## Syntax\n",
    "\n",
    "De algemene syntax van een for-loop in C# ziet er als volgt uit:\n",
    "\n",
    "```csharp\n",
    "for (initialisatie; conditie; iteratie)\n",
    "{\n",
    "    // Code om uit te voeren\n",
    "}\n",
    "```\n",
    "- initialisatie  \n",
    "  Dit deel wordt één keer uitgevoerd aan het begin van de loop. Meestal wordt hier een lusvariabele gedeclareerd en geïnitialiseerd. Deze lusvariabele heet vaak i, voor index of iterator, en is meestal een integer die bij 0 begint\n",
    "- conditie:  \n",
    "  Deze expressie wordt voor elke iteratie geëvalueerd. Als de conditie true is, wordt de code binnen de lus uitgevoerd. Als de conditie false is, stopt de loop. Met de conditie kan aangegeven worden hoe vaak de lus zal uitvoeren\n",
    "- iteratie:  \n",
    "  Dit deel wordt aan het einde van elke iteratie uitgevoerd. Meestal wordt hier de lusvariabele bijgewerkt.\n",
    "\n",
    "Een voorbeeld hiervan is"
   ]
  },
  {
   "cell_type": "code",
   "execution_count": null,
   "metadata": {
    "dotnet_interactive": {
     "language": "csharp"
    },
    "polyglot_notebook": {
     "kernelName": "csharp"
    }
   },
   "outputs": [],
   "source": [
    "for (int i = 0; i < 10; i++)\n",
    "{\n",
    "    Console.WriteLine(i);\n",
    "}"
   ]
  },
  {
   "cell_type": "markdown",
   "metadata": {},
   "source": [
    "Deze for-lus zal de code 10 keer uitvoeren, waarbij de i-variabele de eerste keer 0 is, en de laatste keer 9 is. Van 0 t/m 9 is dus 10 keer, let er op dat de 0 ook meetelt. Door de initialisatie, conditie en iteratie aan te passen, zijn natuurlijk ook andere lussen mogelijk"
   ]
  },
  {
   "cell_type": "code",
   "execution_count": null,
   "metadata": {
    "dotnet_interactive": {
     "language": "csharp"
    },
    "polyglot_notebook": {
     "kernelName": "csharp"
    }
   },
   "outputs": [],
   "source": [
    "for(int i = 9; i >= 0; i++)\n",
    "{\n",
    "    Console.WriteLine(i);\n",
    "}"
   ]
  },
  {
   "cell_type": "markdown",
   "metadata": {},
   "source": [
    "Deze code zal ook 10 keer iets uitvoeren, maar nu loopt de i-variabele af"
   ]
  },
  {
   "cell_type": "code",
   "execution_count": null,
   "metadata": {
    "dotnet_interactive": {
     "language": "csharp"
    },
    "polyglot_notebook": {
     "kernelName": "csharp"
    }
   },
   "outputs": [],
   "source": [
    "for(int i = 0; i < 20; i += 2)\n",
    "{\n",
    "    Console.WriteLine(i);\n",
    "}"
   ]
  },
  {
   "cell_type": "markdown",
   "metadata": {},
   "source": [
    "Let hierbij goed op, de for-lus kan verkeerd gemaakt worden, waarbij de for-lus 'oneindig' lang doorgaat. Dit kan verschillende oorzaken hebben\n",
    "```csharp\n",
    "for(int i = 0; i != 9; i += 2) // Hier zal i nooit 9 worden, maar wel 0, 2, 4, 6, 8, 10, 12 etc\n",
    "for(int i = 0; i < 10; i--) // verkeerde kant opgeteld\n",
    "for(int i = 0; i < 10; i-1) // de conditie past de i-variabele niet aan\n",
    "```\n",
    "\n",
    "Indien dit gebeurt crasht je applicatie, en zal je de applicatie moeten stoppen. In een notebook kan dit ook gebeuren, en kun je bovenin VS Code op een knop drukken om de uitvoer te stoppen"
   ]
  },
  {
   "cell_type": "markdown",
   "metadata": {},
   "source": [
    "## Flowcharts\n",
    "\n",
    "In flowcharts is er geen speciaal symbool voor een for-lus, maar kunnen we de for lus uitsplitsen. Hierbij gebruiken we dezelfde symbolen als bij een if-statement, maar hebben we een extra pijl die terugloopt\n",
    "\n",
    "```mermaid\n",
    "---\n",
    "config:\n",
    "    flowchart:\n",
    "        defaultRenderer: elk\n",
    "---\n",
    "\n",
    "flowchart TD\n",
    "    subgraph  \n",
    "    A[int i = 0] --> B\n",
    "    B{\"i < 10\"} --true--> C\n",
    "    C(i) --> D\n",
    "    D[i++] --> B\n",
    "    end\n",
    "    B --false--> E(\"Done\")\n",
    "```"
   ]
  },
  {
   "cell_type": "markdown",
   "metadata": {},
   "source": [
    "## Opdracht 1\n",
    "Maak een programma dat de getallen 1 t/m 100 uitprint"
   ]
  },
  {
   "cell_type": "code",
   "execution_count": 1,
   "metadata": {
    "dotnet_interactive": {
     "language": "csharp"
    },
    "polyglot_notebook": {
     "kernelName": "csharp"
    }
   },
   "outputs": [
    {
     "name": "stdout",
     "output_type": "stream",
     "text": [
      "1\n",
      "2\n",
      "3\n",
      "4\n",
      "5\n",
      "6\n",
      "7\n",
      "8\n",
      "9\n",
      "10\n",
      "11\n",
      "12\n",
      "13\n",
      "14\n",
      "15\n",
      "16\n",
      "17\n",
      "18\n",
      "19\n",
      "20\n",
      "21\n",
      "22\n",
      "23\n",
      "24\n",
      "25\n",
      "26\n",
      "27\n",
      "28\n",
      "29\n",
      "30\n",
      "31\n",
      "32\n",
      "33\n",
      "34\n",
      "35\n",
      "36\n",
      "37\n",
      "38\n",
      "39\n",
      "40\n",
      "41\n",
      "42\n",
      "43\n",
      "44\n",
      "45\n",
      "46\n",
      "47\n",
      "48\n",
      "49\n",
      "50\n",
      "51\n",
      "52\n",
      "53\n",
      "54\n",
      "55\n",
      "56\n",
      "57\n",
      "58\n",
      "59\n",
      "60\n",
      "61\n",
      "62\n",
      "63\n",
      "64\n",
      "65\n",
      "66\n",
      "67\n",
      "68\n",
      "69\n",
      "70\n",
      "71\n",
      "72\n",
      "73\n",
      "74\n",
      "75\n",
      "76\n",
      "77\n",
      "78\n",
      "79\n",
      "80\n",
      "81\n",
      "82\n",
      "83\n",
      "84\n",
      "85\n",
      "86\n",
      "87\n",
      "88\n",
      "89\n",
      "90\n",
      "91\n",
      "92\n",
      "93\n",
      "94\n",
      "95\n",
      "96\n",
      "97\n",
      "98\n",
      "99\n",
      "100\n"
     ]
    }
   ],
   "source": [
    "for (int x = 1; x < 101; x++) {\n",
    "    Console.WriteLine(x);\n",
    "}"
   ]
  },
  {
   "cell_type": "markdown",
   "metadata": {},
   "source": [
    "## Opdracht 2\n",
    "Maak een programma dat de getallen 100 t/m 1 uitprint"
   ]
  },
  {
   "cell_type": "code",
   "execution_count": 2,
   "metadata": {
    "dotnet_interactive": {
     "language": "csharp"
    },
    "polyglot_notebook": {
     "kernelName": "csharp"
    }
   },
   "outputs": [
    {
     "name": "stdout",
     "output_type": "stream",
     "text": [
      "100\n",
      "99\n",
      "98\n",
      "97\n",
      "96\n",
      "95\n",
      "94\n",
      "93\n",
      "92\n",
      "91\n",
      "90\n",
      "89\n",
      "88\n",
      "87\n",
      "86\n",
      "85\n",
      "84\n",
      "83\n",
      "82\n",
      "81\n",
      "80\n",
      "79\n",
      "78\n",
      "77\n",
      "76\n",
      "75\n",
      "74\n",
      "73\n",
      "72\n",
      "71\n",
      "70\n",
      "69\n",
      "68\n",
      "67\n",
      "66\n",
      "65\n",
      "64\n",
      "63\n",
      "62\n",
      "61\n",
      "60\n",
      "59\n",
      "58\n",
      "57\n",
      "56\n",
      "55\n",
      "54\n",
      "53\n",
      "52\n",
      "51\n",
      "50\n",
      "49\n",
      "48\n",
      "47\n",
      "46\n",
      "45\n",
      "44\n",
      "43\n",
      "42\n",
      "41\n",
      "40\n",
      "39\n",
      "38\n",
      "37\n",
      "36\n",
      "35\n",
      "34\n",
      "33\n",
      "32\n",
      "31\n",
      "30\n",
      "29\n",
      "28\n",
      "27\n",
      "26\n",
      "25\n",
      "24\n",
      "23\n",
      "22\n",
      "21\n",
      "20\n",
      "19\n",
      "18\n",
      "17\n",
      "16\n",
      "15\n",
      "14\n",
      "13\n",
      "12\n",
      "11\n",
      "10\n",
      "9\n",
      "8\n",
      "7\n",
      "6\n",
      "5\n",
      "4\n",
      "3\n",
      "2\n",
      "1\n"
     ]
    }
   ],
   "source": [
    "for (int x = 100; x > 0; x--) {\n",
    "    Console.WriteLine(x);\n",
    "}"
   ]
  },
  {
   "cell_type": "markdown",
   "metadata": {},
   "source": [
    "## Opdracht 3\n",
    "Maak een programma dat alle even getallen onder de 100 uitprint"
   ]
  },
  {
   "cell_type": "code",
   "execution_count": 3,
   "metadata": {
    "dotnet_interactive": {
     "language": "csharp"
    },
    "polyglot_notebook": {
     "kernelName": "csharp"
    }
   },
   "outputs": [
    {
     "name": "stdout",
     "output_type": "stream",
     "text": [
      "2\n",
      "4\n",
      "6\n",
      "8\n",
      "10\n",
      "12\n",
      "14\n",
      "16\n",
      "18\n",
      "20\n",
      "22\n",
      "24\n",
      "26\n",
      "28\n",
      "30\n",
      "32\n",
      "34\n",
      "36\n",
      "38\n",
      "40\n",
      "42\n",
      "44\n",
      "46\n",
      "48\n",
      "50\n",
      "52\n",
      "54\n",
      "56\n",
      "58\n",
      "60\n",
      "62\n",
      "64\n",
      "66\n",
      "68\n",
      "70\n",
      "72\n",
      "74\n",
      "76\n",
      "78\n",
      "80\n",
      "82\n",
      "84\n",
      "86\n",
      "88\n",
      "90\n",
      "92\n",
      "94\n",
      "96\n",
      "98\n"
     ]
    }
   ],
   "source": [
    "for (int x = 1; x < 100; x++) {\n",
    "    if (x % 2 == 0) {\n",
    "        Console.WriteLine(x);\n",
    "    }\n",
    "}"
   ]
  },
  {
   "cell_type": "markdown",
   "metadata": {
    "slideshow": {
     "slide_type": "slide"
    }
   },
   "source": [
    "## Opdracht 4\n",
    "Maak een programma dat een een vierkant van 5x5 in sterretjes uitprint. Maak gebruik van een loop\n",
    "\n",
    "```\n",
    "*****\n",
    "*****\n",
    "*****\n",
    "*****\n",
    "*****\n",
    "```"
   ]
  },
  {
   "cell_type": "code",
   "execution_count": 4,
   "metadata": {
    "dotnet_interactive": {
     "language": "csharp"
    },
    "polyglot_notebook": {
     "kernelName": "csharp"
    }
   },
   "outputs": [
    {
     "name": "stdout",
     "output_type": "stream",
     "text": [
      "*****\n",
      "*****\n",
      "*****\n",
      "*****\n",
      "*****\n"
     ]
    }
   ],
   "source": [
    "for (int index = 0; index < 5; index++ ) {\n",
    "    Console.WriteLine(\"*****\");\n",
    "}"
   ]
  },
  {
   "cell_type": "markdown",
   "metadata": {},
   "source": [
    "## Opdracht 5\n",
    "Bereken de som van alle getallen tussen 0 en 100"
   ]
  },
  {
   "cell_type": "code",
   "execution_count": 5,
   "metadata": {
    "dotnet_interactive": {
     "language": "csharp"
    },
    "polyglot_notebook": {
     "kernelName": "csharp"
    }
   },
   "outputs": [
    {
     "name": "stdout",
     "output_type": "stream",
     "text": [
      "4950\r\n"
     ]
    }
   ],
   "source": [
    "int total = 0;\n",
    "for (int i = 1; i < 100; i++) {\n",
    "    total += i;\n",
    "}\n",
    "Console.WriteLine(total);"
   ]
  },
  {
   "cell_type": "markdown",
   "metadata": {},
   "source": [
    "## Opdracht 6\n",
    "Bereken en print de waarde van 10 [faculteit](https://nl.wikipedia.org/wiki/Faculteit_(wiskunde)). De faculteit is de vermenigvuldiging van de gehele getallen die groter zijn dan 0, maar kleiner of gelijk aan 10 (dus 10 faculteit is 1\\*2\\*3\\*4\\*5\\*6\\*7\\*8\\*9\\*10). Schrijf je code zo dat het gemakkelijk is om ook andere faculteiten te berekenen, zoals die van 6 of 12. Gebruik om het algoritme te ontwerpen een flowchart"
   ]
  },
  {
   "cell_type": "code",
   "execution_count": 6,
   "metadata": {
    "dotnet_interactive": {
     "language": "csharp"
    },
    "polyglot_notebook": {
     "kernelName": "csharp"
    }
   },
   "outputs": [
    {
     "name": "stdout",
     "output_type": "stream",
     "text": [
      "3628800\n",
      "720\n",
      "479001600\n"
     ]
    }
   ],
   "source": [
    "\n",
    "facultyCalculation(10);\n",
    "facultyCalculation(6);\n",
    "facultyCalculation(12);\n",
    "\n",
    "\n",
    "int facultyCalculation(int amount) {\n",
    "    int total = 1;\n",
    "    for (int index = 1; index <= amount; index++) {\n",
    "        total *= index;\n",
    "    }\n",
    "    Console.WriteLine(total);\n",
    "    return total;\n",
    "}"
   ]
  },
  {
   "cell_type": "markdown",
   "metadata": {},
   "source": [
    "## Opdracht 7\n",
    "Print de eerste 40 getallen uit de reeks van [Fibonacci](https://nl.wikipedia.org/wiki/Rij_van_Fibonacci). In de rij van Fibonacci is ieder getal de som van de 2 vorige getallen, waarbij de eerste twee getallen 1 zijn. De krij komt dan uit op\n",
    "1) 1\n",
    "2) 1\n",
    "3) 2 (1+1)\n",
    "4) 3 (1+2)\n",
    "5) 5 (2+3)\n",
    "6) 8 (3+5)\n",
    "7) 13 (5+8)\n",
    "8) 21 (8+13)\n",
    "9) 34 (13+21)\n",
    "\n",
    "Maak een ontwerp voor dit algoritme met een flowchart, en schrijf hierna de code"
   ]
  },
  {
   "cell_type": "code",
   "execution_count": 8,
   "metadata": {
    "dotnet_interactive": {
     "language": "csharp"
    },
    "polyglot_notebook": {
     "kernelName": "csharp"
    }
   },
   "outputs": [
    {
     "name": "stdout",
     "output_type": "stream",
     "text": [
      "1. 1\n",
      "2. 1\n",
      "3. 2\n",
      "4. 3\n",
      "5. 5\n",
      "6. 8\n",
      "7. 13\n",
      "8. 21\n",
      "9. 34\n",
      "10. 55\n",
      "11. 89\n",
      "12. 144\n",
      "13. 233\n",
      "14. 377\n",
      "15. 610\n",
      "16. 987\n",
      "17. 1597\n",
      "18. 2584\n",
      "19. 4181\n",
      "20. 6765\n",
      "21. 10946\n",
      "22. 17711\n",
      "23. 28657\n",
      "24. 46368\n",
      "25. 75025\n",
      "26. 121393\n",
      "27. 196418\n",
      "28. 317811\n",
      "29. 514229\n",
      "30. 832040\n",
      "31. 1346269\n",
      "32. 2178309\n",
      "33. 3524578\n",
      "34. 5702887\n",
      "35. 9227465\n",
      "36. 14930352\n",
      "37. 24157817\n",
      "38. 39088169\n",
      "39. 63245986\n",
      "40. 102334155\n"
     ]
    }
   ],
   "source": [
    "int amount = 40;\n",
    "int last = 0;\n",
    "int secondLast = 0;\n",
    "for (int index = 1; index <= amount; index++) {\n",
    "    if (index < 3) {\n",
    "        secondLast = last;\n",
    "        last = 1;\n",
    "        Console.WriteLine($\"{index}. 1\");\n",
    "    } else {\n",
    "        int total = secondLast + last;\n",
    "        secondLast = last;\n",
    "        last = total;\n",
    "        Console.WriteLine($\"{index}. {total}\");\n",
    "    }\n",
    "}"
   ]
  }
 ],
 "metadata": {
  "kernelspec": {
   "display_name": ".NET (C#)",
   "language": "C#",
   "name": ".net-csharp"
  },
  "language_info": {
   "name": "polyglot-notebook"
  },
  "polyglot_notebook": {
   "kernelInfo": {
    "defaultKernelName": "csharp",
    "items": [
     {
      "aliases": [],
      "languageName": "csharp",
      "name": "csharp"
     }
    ]
   }
  }
 },
 "nbformat": 4,
 "nbformat_minor": 2
}
