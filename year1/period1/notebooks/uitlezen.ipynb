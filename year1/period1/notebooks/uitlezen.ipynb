{
 "cells": [
  {
   "cell_type": "markdown",
   "metadata": {},
   "source": [
    "## Uitlezen\n",
    "Soms krijg je een lijst binnen van een extern systeem (bijvoorbeeld een database of API). Deze lijst wil je uitlezen en weergeven. Een lijst met items kan uitgelezen worden middels een [for-loop](/herhalingsstructuren/for.ipynb) en [foreach](/herhalingsstructuren/foreach.ipynb). Een while-loop is ook een mogelijkheid,maar wordt alleen toegepast bij lijsten waarvan de grootte nog onbekend is.\n",
    "Een voorbeeld van een for-loop implementatie is:  "
   ]
  },
  {
   "cell_type": "code",
   "execution_count": null,
   "metadata": {
    "dotnet_interactive": {
     "language": "csharp"
    },
    "polyglot_notebook": {
     "kernelName": "csharp"
    }
   },
   "outputs": [],
   "source": [
    "List<int> solarProfits = [10, 4, 9, 12, 90, 165];\n",
    "\n",
    "for (int i = 0; i < solarProfits.Count; i++)\n",
    "{\n",
    "    Console.WriteLine(solarProfits[i]);\n",
    "}"
   ]
  },
  {
   "cell_type": "markdown",
   "metadata": {},
   "source": [
    "Hierboven zetten we i op 0 zodat de for-loop begint bij het eerste item. We willen dat `i` doorloopt zolang hij kleiner is dan `solarProfits.Count`. Hier geeft count het aantal items in de lijst aan. Omdat de lijst altijd begint bij index 0, gaat de index  maar tot `solarProfits.Count - 1`. Met `solarProfits[i]` geven we aan welk item uit de lijst we willen. Deze wordt in dit voorbeeld naar de Console geschreven.  \n",
    "\n",
    "De foreach-loop implementatie is als volgt:"
   ]
  },
  {
   "cell_type": "code",
   "execution_count": null,
   "metadata": {
    "dotnet_interactive": {
     "language": "csharp"
    },
    "polyglot_notebook": {
     "kernelName": "csharp"
    }
   },
   "outputs": [],
   "source": [
    "List<int> solarProfits = [10, 4, 9, 12, 90, 165];\n",
    "\n",
    "foreach(int profit in solarProfits)\n",
    "{\n",
    "    Console.WriteLine(profit);\n",
    "}"
   ]
  },
  {
   "cell_type": "markdown",
   "metadata": {},
   "source": [
    "Hier lopen we door elk item heen in `solarProfits` en schrijven we de waarde naar de Console.\n",
    "Indien we een lossen waarde ergens in de lijst willen ophalen (bijv. het derde item in de lijst met antwoord 9), dan doen we dat als volgt:"
   ]
  },
  {
   "cell_type": "code",
   "execution_count": null,
   "metadata": {
    "dotnet_interactive": {
     "language": "csharp"
    },
    "polyglot_notebook": {
     "kernelName": "csharp"
    }
   },
   "outputs": [],
   "source": [
    "List<int> solarProfits = [10, 4, 9, 12, 90, 165];\n",
    "\n",
    "Console.WriteLine(solarProfits[2]); // index 2 is het derde item in de list\n"
   ]
  },
  {
   "cell_type": "markdown",
   "metadata": {},
   "source": [
    "# Opdrachten"
   ]
  },
  {
   "cell_type": "markdown",
   "metadata": {},
   "source": [
    "## Opdracht 1\n",
    "Wat heb ik totaal opgewekt? Maak onderstaande code af:"
   ]
  },
  {
   "cell_type": "code",
   "execution_count": null,
   "metadata": {
    "dotnet_interactive": {
     "language": "csharp"
    },
    "polyglot_notebook": {
     "kernelName": "csharp"
    }
   },
   "outputs": [],
   "source": [
    "List<int> solarProfits = [10, 4, 9, 12, 90, 165];\n",
    "int totalProfit;\n",
    "\n",
    "// Jouw code om de totale profit te berekenen.\n",
    "\n",
    "Console.WriteLine($\"De totale profit is: {totalProfit}\");"
   ]
  },
  {
   "cell_type": "markdown",
   "metadata": {},
   "source": [
    "## Opdracht 2\n",
    "Wat wek ik gemiddeld per week op?\n",
    "\n",
    "Je mag er vanuit gaan dat de lijst met `solarProfits` altijd een veelvoud van 7 profits heeft. De eerste 7 profits horen bij week 1, de volgende 7 bij week 2 etc.. Stel we krijgen een lijst met 7 dagwaarden, dan bevat de lijst averageSolarProfits (na uitvoeren van jouw code) 1 waarde die het gemiddelde van de 7 is.\n",
    "\n",
    "Schrijf de code die de lijst `solarProfits` uitleest, het gemiddelde per 7 dagen berekent en de lijst averageSolarProfits vult.\n",
    "Om je te helpen is er al een stukje (pseudo)code weggegeven."
   ]
  },
  {
   "cell_type": "code",
   "execution_count": 3,
   "metadata": {
    "dotnet_interactive": {
     "language": "csharp"
    },
    "polyglot_notebook": {
     "kernelName": "csharp"
    }
   },
   "outputs": [],
   "source": [
    "List<int> solarProfits = \n",
    "[\n",
    "    3, 15, 7, 12, 9, 20, 8, 14, 6, 18, 11, 5, 22, 10, 17, 4,\n",
    "    13, 19, 16, 21, 7, 9, 2, 29, 8, 33, 32, 15, 1, 17, 12, 11,\n",
    "    2, 4, 5, 3, 17, 17, 17, 12, 10, 12, 11, 10, 11, 11, 12, 22,\n",
    "    2, 4, 5, 2, 5, 6, 2, 7\n",
    "];\n",
    "\n",
    "List<int> averageSolarProfitWeek = [];\n",
    "\n",
    "int weeklyTotal = 0;\n",
    "\n",
    "for (int i = 0; i < solarProfits.Count; i++)\n",
    "{\n",
    "    // hint:\n",
    "    // als ik in de gaten heb dat ik 7 dagen heb gehad\n",
    "        // sla weeklyTotal op in averageSolarProfitWeek\n",
    "        // reset weeklyTotal\n",
    "\n",
    "    weeklyTotal += solarProfits[i];\n",
    "}\n",
    "\n",
    "// Ter controle:\n",
    "// Aan het einde is de lijst solarProfits.Count / 7 lang.\n",
    "// Lukt het je ook de weektotalen naar de console te schrijven?"
   ]
  }
 ],
 "metadata": {
  "kernelspec": {
   "display_name": ".NET (C#)",
   "language": "C#",
   "name": ".net-csharp"
  },
  "language_info": {
   "name": "polyglot-notebook"
  },
  "polyglot_notebook": {
   "kernelInfo": {
    "defaultKernelName": "csharp",
    "items": [
     {
      "aliases": [],
      "languageName": "csharp",
      "name": "csharp"
     }
    ]
   }
  }
 },
 "nbformat": 4,
 "nbformat_minor": 2
}
