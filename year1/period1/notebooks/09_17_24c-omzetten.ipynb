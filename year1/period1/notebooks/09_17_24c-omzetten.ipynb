{
 "cells": [
  {
   "cell_type": "markdown",
   "metadata": {},
   "source": [
    "# Omzetten van datatypen\n",
    "\n",
    "## Casting\n",
    "\n",
    "Om getallen op te slaan zijn er verschillende datatypes beschikbaar, zoals een int en een short. Standaard kan een variabele van een groter datatype niet in een kleiner datatype opgeslagen worden. Een int kan bijvoorbeeld het getal 1000000 opslaan, maar dit past niet in een short. Daarom moet je als programmeur expliciet opgeven dat je deze omzetting wilt doen. Dit noemen we casting\n",
    "\n",
    "```csharp\n",
    "int intValue = 10;\n",
    "short shortValue = (short)intValue;\n",
    "```\n",
    "\n",
    "Dit werkt natuurlijk alleen goed als je zeker weet dat de waarde die je cast ook in doeltype past, je moet niet 1000000 naar een short casten. Als je dit wel doet, krijg je een overflow en zul je niet de waarde krijgen die je verwacht"
   ]
  },
  {
   "cell_type": "code",
   "execution_count": 1,
   "metadata": {
    "dotnet_interactive": {
     "language": "csharp"
    },
    "polyglot_notebook": {
     "kernelName": "csharp"
    }
   },
   "outputs": [
    {
     "name": "stdout",
     "output_type": "stream",
     "text": [
      "16960\r\n"
     ]
    }
   ],
   "source": [
    "int intValue = 1000000;\n",
    "short shortValue = (short)intValue;\n",
    "Console.WriteLine(shortValue);"
   ]
  },
  {
   "cell_type": "markdown",
   "metadata": {},
   "source": [
    "## Strings en getallen\n",
    "\n",
    "Vaak krijg je data als een stuk tekst in een variabele in je applicatie. Dit kan bijvoorbeeld uit een invoerveld van de gebruiker zijn of uit een bestand uitgelezen worden. Deze worden dan opgeslagen in een variabele van het type `string`. Strings kunnen echter niet gebruikt worden om mee te rekenen, en zullen dus omgezet moeten worden. \n",
    "\n",
    "### Van string naar getal\n",
    "\n",
    "Om een string om te zetten naar een getal kun je de methoden gebruiken in de `Convert` klasse. Hiermee kun je een string omzetten naar ieder numeriek datatype"
   ]
  },
  {
   "cell_type": "code",
   "execution_count": 5,
   "metadata": {
    "dotnet_interactive": {
     "language": "csharp"
    },
    "polyglot_notebook": {
     "kernelName": "csharp"
    }
   },
   "outputs": [],
   "source": [
    "string input = \"1337\";\n",
    "int getal = Convert.ToInt32(input);\n",
    "\n",
    "input = \"42.24\";\n",
    "double doubleGetal = Convert.ToDouble(input);"
   ]
  },
  {
   "cell_type": "markdown",
   "metadata": {},
   "source": [
    "Een andere optie die je kunt gebruiken zijn de methoden die in het datatype zelf zitten. Zo kun je `int.ParseInt` gebruiken om een getal om te zetten naar een integer of `double.ParseDouble()` om een getal om te zetten naar een double. Deze methoden (de `int.ParseInt` en de `Convert.ToInt32`) geven een foutmelding op het moment dat er iets fout gaat, en stoppen daarmee de uitvoer van je applicatie. Als je dit niet wilt en je wilt controleren of de string ook daadwerkelijk omgezet kan worden naar een getal, kunnen de `int.TryParse` of vergelijkbare methodes gebruikt worden. Deze methoden zijn echter buiten de lesstof van dit hoofdstuk"
   ]
  },
  {
   "cell_type": "markdown",
   "metadata": {},
   "source": [
    "## Van getal naar string\n",
    "\n",
    "Om tekst uit te voeren kan het soms ook nodig zijn om een getal om te zetten naar string. Dit kan op verschillende manieren, maar de manier die we deze periode gaan gebruiken is door het getal met een lege string achter elkaar te plakken met de +"
   ]
  },
  {
   "cell_type": "code",
   "execution_count": 6,
   "metadata": {
    "dotnet_interactive": {
     "language": "csharp"
    },
    "polyglot_notebook": {
     "kernelName": "csharp"
    }
   },
   "outputs": [],
   "source": [
    "int getal = 12345;\n",
    "string tekst = getal + \"\";"
   ]
  },
  {
   "cell_type": "markdown",
   "metadata": {},
   "source": [
    "## Waarschuwing bij het omzetten\n",
    "\n",
    "Het omzetten van een string naar een getal is relatief inefficient. Een tekst is opgeslagen om uit te printen en niet om naar een getal om te zetten. Probeer in je algoritmes altijd te voorkomen om een getal 2 keer om te zetten. Ga dus niet een getal omzetten naar string, deze opknippen, en deze stukken weer terug omzetten naar integers. Er zijn algoritmes om een getal op te knippen (gebruik de modulo en deel operators)"
   ]
  },
  {
   "cell_type": "code",
   "execution_count": 7,
   "metadata": {
    "dotnet_interactive": {
     "language": "csharp"
    },
    "polyglot_notebook": {
     "kernelName": "csharp"
    }
   },
   "outputs": [
    {
     "name": "stdout",
     "output_type": "stream",
     "text": [
      "2\n",
      "4\n"
     ]
    }
   ],
   "source": [
    "int getal = 42;\n",
    "while(getal > 0)\n",
    "{\n",
    "    Console.WriteLine(getal % 10);\n",
    "    getal /= 10;\n",
    "}"
   ]
  },
  {
   "cell_type": "markdown",
   "metadata": {},
   "source": [
    "## Opdracht 1\n",
    "\n",
    "Schrijf een programma dat 2 getallen als input vraagt en deze bij elkaar optelt"
   ]
  },
  {
   "cell_type": "code",
   "execution_count": null,
   "metadata": {
    "dotnet_interactive": {
     "language": "csharp"
    },
    "polyglot_notebook": {
     "kernelName": "csharp"
    }
   },
   "outputs": [],
   "source": [
    "using Microsoft.DotNet.Interactive;\n",
    "string number1 = await Kernel.GetInputAsync(\"Enter a number:\");\n",
    "string number2 = await Kernel.GetInputAsync(\"Enter a number:\");\n",
    "int convertedInt1 = Convert.ToInt32(number1);\n",
    "int convertedInt2 = Convert.ToInt32(number2);\n",
    "Console.WriteLine($\"{convertedInt1} + {convertedInt2} = {convertedInt1 + convertedInt2}\");"
   ]
  },
  {
   "cell_type": "markdown",
   "metadata": {},
   "source": [
    "## Opdracht 2\n",
    "Wat doet Convert met negatief naar unsigned?"
   ]
  }
 ],
 "metadata": {
  "kernelspec": {
   "display_name": ".NET (C#)",
   "language": "C#",
   "name": ".net-csharp"
  },
  "language_info": {
   "name": "polyglot-notebook"
  },
  "polyglot_notebook": {
   "kernelInfo": {
    "defaultKernelName": "csharp",
    "items": [
     {
      "aliases": [],
      "languageName": "csharp",
      "name": "csharp"
     }
    ]
   }
  }
 },
 "nbformat": 4,
 "nbformat_minor": 2
}
