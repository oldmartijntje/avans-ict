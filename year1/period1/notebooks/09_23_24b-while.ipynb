{
 "cells": [
  {
   "cell_type": "markdown",
   "metadata": {},
   "source": [
    "# While lussen\n",
    "\n",
    "De while-lus is een herhalingsstructuur die een stuk code blijft herhalen zolang een conditie waar is. De while-constructie is generieker dan een for-lus, en kan ook gebruikt worden om een for-lus na te maken, maar het is gemakkelijker om met een while-lus perongeluk een eindeloze lus te maken. Probeer daarom als vantevoren vast staat hoe vaak iets herhaald moet worden een for-lus te gebruiken.\n",
    "\n",
    "De while lus heeft de volgende syntax\n",
    "\n",
    "```code\n",
    "while(conditie)\n",
    "{\n",
    "    // Code om uit te voeren\n",
    "}\n",
    "```\n",
    "De conditie hierin is net zoals bij de for lus een boolean expressie. Zolang deze expressie waar is, blijft de code uitgevoerd worden. Deze expressie wordt aan het begin van de lus getest. Dit betekent dat als de expressie voor de lus false is, de code in de lus helemaal niet uitgevoerd wordt. Een voorbeeld van het gebruik van de while lus is bijvoorbeeld de onderstaande code."
   ]
  },
  {
   "cell_type": "code",
   "execution_count": null,
   "metadata": {
    "dotnet_interactive": {
     "language": "csharp"
    },
    "polyglot_notebook": {
     "kernelName": "csharp"
    }
   },
   "outputs": [],
   "source": [
    "int getal = 1337;\n",
    "while (getal > 0)\n",
    "{\n",
    "    Console.WriteLine(getal);\n",
    "    getal = getal / 10;\n",
    "}"
   ]
  },
  {
   "cell_type": "markdown",
   "metadata": {},
   "source": [
    "De while zal hierbij doorlopen totdat het getal 0 wordt, en zal dus 4 stappen doen."
   ]
  },
  {
   "cell_type": "markdown",
   "metadata": {},
   "source": [
    "## Flowchart\n",
    "\n",
    "Om de while in een flowchart voor te stellen, gebruiken we een soorgelijk symbool als de if, maar dan ook met een pijl die terug gaat (zie ook de for-lus).\n",
    "\n",
    "```mermaid\n",
    "---\n",
    "config:\n",
    "    flowchart:\n",
    "        defaultRenderer: elk\n",
    "---\n",
    "\n",
    "flowchart TD\n",
    "    subgraph  \n",
    "    A[int getal = 1337] --> B\n",
    "    B{{\"getal > 0\"}} --true--> C\n",
    "    C(getal) --> D\n",
    "    D[getal = getal / 10] --> B\n",
    "    end\n",
    "    B --false--> E(\"Done\")\n",
    "```\n"
   ]
  },
  {
   "cell_type": "markdown",
   "metadata": {},
   "source": [
    "## Eindeloze lussen\n",
    "\n",
    "Het is met een while lus gemakkelijk om een eindeloze lus te maken. Let er op dat de variabelen die in de conditie van de while staan, ook in de code van de lus aangepast worden. Als de variabelen van de conditie niet in de lus aangepast worden, zal de lusconditie altijd hetzelfde blijven, en blijft de lus dus eindeloos lang uitvoeren"
   ]
  },
  {
   "cell_type": "markdown",
   "metadata": {},
   "source": [
    "## Opdracht 1\n",
    "\n",
    "Schrijf een algoritme om het aantal stappen dat nodig is om het [vermoeden van collatz](https://nl.wikipedia.org/wiki/Vermoeden_van_Collatz) van een getal uit te printen. Het vermoeden van collatz bestaat uit 2 regels die op een getal toegepast kunnen wordne\n",
    "- Als n even is, deel het door 2\n",
    "- Als n oneven is, vermenigvuldig het met 3 en tel er 1 bij op\n",
    "Het vermoeden van Collatz is dat ieder getal n, waarbij n een geheel getal is groter dan 1, bij herhaling van deze stappen op 1 uitkomt. \n",
    "\n",
    "Schrijf een algoritme dat berekend hoeveel stappen er nodig zijn om naar 1 te komen vanaf het getal 27"
   ]
  },
  {
   "cell_type": "code",
   "execution_count": 12,
   "metadata": {
    "dotnet_interactive": {
     "language": "csharp"
    },
    "polyglot_notebook": {
     "kernelName": "csharp"
    }
   },
   "outputs": [
    {
     "name": "stdout",
     "output_type": "stream",
     "text": [
      "It took 111 times to reach 1.\r\n"
     ]
    }
   ],
   "source": [
    "// lol, dit heb ik al n keer gemaakt, alleen dan als een gok spelletje.\n",
    "\n",
    "int n = 27;\n",
    "int rotations = 0;\n",
    "\n",
    "while (n > 1) {\n",
    "    if (n % 2 == 0) {\n",
    "        n = n / 2;\n",
    "    } else {\n",
    "        n = n * 3 + 1;\n",
    "    }\n",
    "    rotations ++;\n",
    "}\n",
    "Console.WriteLine($\"It took {rotations} times to reach 1.\")"
   ]
  },
  {
   "cell_type": "markdown",
   "metadata": {},
   "source": [
    "## Opdracht 2\n",
    "\n",
    "Voor 2 getallen kan de grootste gemeenschappelijke deler (ggd) berekend worden. De ggd is het grootste getal waar deze twee getallen door gedeeld kunnen worden.\n",
    "- De ggd van 15 en 20 is 5\n",
    "- De ggd van 10 en 3 is 1\n",
    "- De ggd van 100 en 20 is 20\n",
    "\n",
    "Om de ggd te berekenen kun je het [Algoritme van Euclides](https://nl.wikipedia.org/wiki/Algoritme_van_Euclides) gebruiken\n",
    "\n",
    "Ontwerp een algoritme in een flowchart en maak de code voor dit algoritme"
   ]
  },
  {
   "cell_type": "markdown",
   "metadata": {},
   "source": []
  },
  {
   "cell_type": "code",
   "execution_count": 7,
   "metadata": {
    "dotnet_interactive": {
     "language": "csharp"
    },
    "polyglot_notebook": {
     "kernelName": "csharp"
    }
   },
   "outputs": [
    {
     "name": "stdout",
     "output_type": "stream",
     "text": [
      "De grootste gemeenschappelijke deler van 100 en 20 is: 20\r\n"
     ]
    }
   ],
   "source": [
    "int a = 100;\n",
    "int b = 20;\n",
    "int ggd = BerekenGgd(a, b);\n",
    "\n",
    "Console.WriteLine($\"De grootste gemeenschappelijke deler van {a} en {b} is: {ggd}\");\n",
    "\n",
    "static int BerekenGgd(int a, int b)\n",
    "{\n",
    "    while (b != 0)\n",
    "    {\n",
    "        int temp = b;\n",
    "        b = a % b;\n",
    "        a = temp;\n",
    "    }\n",
    "    return a;\n",
    "}"
   ]
  },
  {
   "cell_type": "markdown",
   "metadata": {},
   "source": [
    "## Opdracht 3\n",
    "Bereken de som van de cijfers in een getal"
   ]
  },
  {
   "cell_type": "code",
   "execution_count": 10,
   "metadata": {
    "dotnet_interactive": {
     "language": "csharp"
    },
    "polyglot_notebook": {
     "kernelName": "csharp"
    }
   },
   "outputs": [
    {
     "name": "stdout",
     "output_type": "stream",
     "text": [
      "0 + 2 = 2\n",
      "4 + 1 = 5\n",
      "6 + 4 = 10\n",
      "14 + 7 = 21\n",
      "28 + 4 = 32\n",
      "36 + 8 = 44\n",
      "52 + 3 = 55\n",
      "58 + 6 = 64\n",
      "70 + 4 = 74\n",
      "78 + 7 = 85\n",
      "92\n"
     ]
    }
   ],
   "source": [
    "int getal = 2147483647;\n",
    "int sum = 0;\n",
    "foreach (char nummerString in $\"{getal}\") {\n",
    "    int nummer = int.Parse($\"{nummerString}\");\n",
    "    Console.WriteLine($\"{sum} + {nummer} = {sum += nummer}\");\n",
    "    sum += nummer;\n",
    "}\n",
    "Console.WriteLine(sum);"
   ]
  },
  {
   "cell_type": "markdown",
   "metadata": {},
   "source": [
    "## Opdracht 4\n",
    "Hoger / Lager: jij neemt een getal onder de 100 in je hoofd, en het algoritme gaat in zo min mogelijk stappen raden wat je nummer is"
   ]
  },
  {
   "cell_type": "code",
   "execution_count": 16,
   "metadata": {
    "dotnet_interactive": {
     "language": "csharp"
    },
    "polyglot_notebook": {
     "kernelName": "csharp"
    }
   },
   "outputs": [
    {
     "name": "stdout",
     "output_type": "stream",
     "text": [
      "-1073741824\n",
      "-536870862\n",
      "-268435381\n",
      "-134217641\n",
      "-67108771\n",
      "-33554336\n",
      "-16777118\n",
      "-8388509\n",
      "-4194205\n",
      "-2097053\n",
      "-1048477\n",
      "-524189\n",
      "-262045\n",
      "-130973\n",
      "-65437\n",
      "-32669\n",
      "-16285\n",
      "-8093\n",
      "-3997\n",
      "-1949\n",
      "-925\n",
      "-413\n",
      "-157\n",
      "-29\n",
      "-93\n",
      "-125\n",
      "-109\n",
      "-117\n",
      "-113\n",
      "-111\n",
      "-110\n",
      "It took 31 guesses.\n"
     ]
    }
   ],
   "source": [
    "int myNumber = -110;\n",
    "int minRange = -2147483648;\n",
    "int maxRange = 100;\n",
    "int currentMinRange = minRange;\n",
    "int currentMaxRange = maxRange;\n",
    "bool guessed = false;\n",
    "int guesses = 0;\n",
    "while (guessed == false) {\n",
    "    guesses ++;\n",
    "    int guess = currentMinRange != -2147483648 ? (currentMaxRange - currentMinRange) / 2 + currentMinRange : -2147483648 / 2;\n",
    "    Console.WriteLine(guess);\n",
    "    if (myNumber == guess) {\n",
    "        guessed = true;\n",
    "    } else if (myNumber > guess) {\n",
    "        currentMinRange = guess;\n",
    "    } else {\n",
    "        currentMaxRange = guess;\n",
    "    }\n",
    "    if (guesses > 50) {\n",
    "        guessed = true;\n",
    "        new Exception(\"Rogue While Loop\");\n",
    "        Console.WriteLine(\"Rogue While Loop\");\n",
    "    }\n",
    "}\n",
    "Console.WriteLine($\"It took {guesses} guesses.\")"
   ]
  }
 ],
 "metadata": {
  "kernelspec": {
   "display_name": ".NET (C#)",
   "language": "C#",
   "name": ".net-csharp"
  },
  "language_info": {
   "name": "polyglot-notebook"
  },
  "polyglot_notebook": {
   "kernelInfo": {
    "defaultKernelName": "csharp",
    "items": [
     {
      "aliases": [],
      "languageName": "csharp",
      "name": "csharp"
     }
    ]
   }
  }
 },
 "nbformat": 4,
 "nbformat_minor": 2
}
