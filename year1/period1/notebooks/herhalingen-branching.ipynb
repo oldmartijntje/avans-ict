{
 "cells": [
  {
   "cell_type": "markdown",
   "metadata": {},
   "source": [
    "# Algoritmes met herhalingen en branching\n",
    "\n",
    "We hebben inmiddels twee belangrijke ingrediënten voor algoritmen leren gebruiken:\n",
    "\n",
    "- **Conditionele** uitvoer (ook wel genoemd branching, of if-statements), dus het algoritme doet iets wel of niet op basis van een conditie die run-time wordt bepaald (*geëvalueerd* met een duur woord). Die conditie kan een variabele zijn, of een expressie met daarin één of meer variabelen. Het resultaat van de conditie moet een boolean waarde opleveren, dus true of false zijn. Het deel dat conditioneel wordt uitgevoerd kan klein zijn, maar ook heel groot (vele stappen).\n",
    "- **Iteratieve** uitvoer (ook wel herhalingen genoemd, of lussen, of loops), dus het algoritme herhaalt stappen zolang een bepaalde conditie waar is. Ook die conditie wordt run-time bepaald en kan een variabele zijn, of een expressie met één of meerdere variabelen. Ook die conditie moet true of false opleveren. De conditie kan aan het begin van elke iteratie worden gecheckt (while-loop), of aan het eind (repeat-loop).\n",
    "\n",
    "Het laatste belangrijke ingrediënt voor bijna alle algoritmen komt binnenkort (maar nog niet vandaag):\n",
    "- **Lijsten** (of arrays, reeksen), dus reeksen van data opgeslagen in het geheugen. Dit is de eenvoudigste vorm van een datastructuur om data tijdelijk of permanent vast te leggen om er bewerkingen op te kunnen uitvoeren, zoals doorzoeken of op volgorde plaatsen.\n",
    "\n",
    "Praktisch bruikbare algoritmen maken voortdurend gebruik van allerlei combinaties van loops en if-statements, na elkaar of genest binnen elkaar. Dus is het belangrijk om veel te oefenen met zulke algoritmen. Daarvoor vind je hieronder een aantal opdrachten waarin je stap voor stap op weg wordt geholpen in je denkproces om tot een goed algoritme te komen.\n",
    "\n",
    "Naarmate algoritmen uitgebreider worden is het steeds lastiger om het overzicht te bewaren, om te begrijpen hoe zo'n algoritme werkt, en om na te gaan of het algoritme de correcte uitvoer oplevert. Een algemeen gebruikte strategie is daarom om complexe algoritmen op te splitsen in delen die ieder een apart deelprobleem oplossen. Voor elk deelprobleem wordt apart een algoritme gemaakt (en getest!) dat aangeroepen kan worden als bouwsteen voor het grotere, complexere algoritme.\n",
    "\n",
    "In C# source code zou je voor zo'n deelprobleem dan een C# methode schrijven die je op allerlei plaatsen net zo vaak kan aanroepen als nodig is. Je hoeft niet per se te weten *hoe* de methode het deelprobleem oplost als je maar weet hoe je de methode op de juiste manier moet aanroepen, dus welke parameters je moet meegeven (en in welke volgorde ze moeten staan) en wat voor soort resultaat de methode oplevert.\n"
   ]
  },
  {
   "cell_type": "markdown",
   "metadata": {},
   "source": [
    "# Opdrachten\n",
    "\n",
    "Bekijk als voorbereiding op de opdrachten hieronder de volgende kennisclip over de Fibonacci reeks en de gulden snede.\n",
    "\n",
    "<iframe id=\"kaltura_player\" type=\"text/javascript\"  src='https://api.de.kaltura.com/p/10066/embedPlaykitJs/uiconf_id/23452529?iframeembed=true&entry_id=0_pv0uwhu9&config[provider]={\"widgetId\":\"0_rymjh875\"}'  style=\"width: 608px;height: 402px;border: 0;\" allowfullscreen webkitallowfullscreen mozAllowFullScreen allow=\"autoplay *; fullscreen *; encrypted-media *\" sandbox=\"allow-forms allow-same-origin allow-scripts allow-top-navigation allow-pointer-lock allow-popups allow-modals allow-orientation-lock allow-popups-to-escape-sandbox allow-presentation allow-top-navigation-by-user-activation\" title=\"Kaltura Player\"></iframe>\n",
    "\n",
    "NB: In deze kennisclip wordt gesproken over een inleveropdracht, maar daarmee wordt hier één van onderstaande opdrachten bedoeld."
   ]
  },
  {
   "cell_type": "markdown",
   "metadata": {},
   "source": [
    "## Opdracht 1 - Kleinste van drie getalwaarden\n",
    "\n",
    "Stel een flowchart op van een algoritme dat de gebruiker drie getalwaarden laat invoeren en vervolgens daaruit de kleinste van die drie waarden bepaalt en afdrukt.\n",
    "\n",
    "> *Natuurlijk zou je dit kunnen met een ingebouwde minimum-functie in C#, maar deze oefening is erop gericht om zelf een algoritme te bedenken, niet om in de C# bibliotheken te gaan zoeken naar een oplossing.*\n",
    "\n",
    "Als je niet weet hoe je moet beginnen, probeer dan deze aanpak:\n",
    "\n",
    "1. Bedenk welke invoerwaarden nodig zijn voor het algoritme. In dit geval dus die drie getalwaarden. Bedenk namen voor de drie variabelen waarin je algoritme die waarden opslaat. Teken dat eerste deel van de flowchart. Nu heb je een begin.\n",
    "2. Bedenk welke uitvoerwaarde(n) nodig is/zijn. In dit geval willen we de kleinste waarde weten. Bedenk een variabelenaam hiervoor. Teken dat laatste deel van de flowchart.\n",
    "3. Bedenk nu met welke stappen je de uitvoerwaarde kunt afleiden uit de invoerwaarden. Dat kan in dit geval op verschillende manieren. Bijvoorbeeld:\n",
    "    - Als het eerste ingevoerde getal het kleinste is, welke boolean expressie moet dan gelden? Dus als je die in een if-statement zet en hij is true, dan weet je wat de kleinste waarde is. Idem voor het tweede en voor het derde ingevoerde getal. Dus met drie if-statements zou het kunnen, eentje voor elk mogelijk antwoord.\n",
    "    - Stel, je hebt maar twee getallen, hoe bepaal je dan de kleinste van de twee? Natuurlijk met een if-statement. Dus van de eerste twee getallen kan je zo de kleinste vinden. Nu komt er een derde getal bij. Hoe bepaal je nu de kleinste uit je eerdere tussenresultaat (kleinste van de eerste twee getallen) en dit derde getal? Ook met een if-statement. Dus met twee if-statements na elkaar zou het kunnen.\n",
    "    - Stel dat er meer dan 3 getallen zouden zijn, bijvoorbeeld net zoveel als de gebruiker wil, wat dan? We weten dan niet vooraf om hoeveel getallen het gaat. Dan grijp je natuurlijk naar een lus want die kan je net zo vaak doorlopen als je wilt.\n",
    "        - Lees het eerste getal in. Als er niet meer getallen komen is dat meteen het antwoord.\n",
    "        - Als er nog een getal nodig is, lees dan in de eerste iteratie dat getal en kies uit die twee getallen de kleinste en onthoud die.\n",
    "        - Als er nog een getal nodig is, lees dan in de volgende iteratie dat getal en kies uit die twee getallen de kleinste en onthoud die.\n",
    "        - Als er nog een getal nodig is, lees dan ... (etc.). Dus voor drie getallen doorloop je twee iteraties van je lus.\n",
    "4. Teken het middeldeel van de flowchart met de stappen die je zojuist hebt gekozen.\n",
    "5. Test je flowchart met de hand met een aantal (slim gekozen) invoerwaarden. Bijvoorbeeld 0, 1 en 2 in verschillende volgorden. En misschien ook tweemaal dezelfde waarde, of driemaal dezelfde waarde.\n",
    "\n",
    "> Je ziet dat er meerdere goede manieren zijn om een probleem met een algoritme op te lossen. Elk algoritme dat de juiste uitkomst oplevert is in principe bruikbaar, en dus goed in deze opdracht.\n"
   ]
  },
  {
   "cell_type": "markdown",
   "metadata": {},
   "source": [
    "## Opdracht 2 - Gulden snede benaderen met de Fibonacci reeks\n",
    "\n",
    "In deze opdracht ga je een benaderingsalgoritme opstellen voor de Gulden snede, gebruikmakend van de Fibonacci reeks. Stel in eerste instantie hiervoor een flowchart op. Naderhand maak je daarvan uitvoerbare C# code.\n",
    "\n",
    "1. Bereken met een rekenmachine de gulden snede tot op minstens 15 cijfers achter de komma nauwkeurig. De exacte waarde van de gulden snede is in bovenstaande kennisclip afgeleid maar kan je ook op [wikipedia](https://nl.wikipedia.org/wiki/Gulden_snede) vinden.\n",
    "\n",
    "2. Bereken voor de eerste 20 getallen uit de Fibonacci reeks de benadering van de gulden snede. Dat is dus de verhouding tussen twee opeenvolgende getallen in de Fibonacci reeks. In de kennisclip is dit deels voorgedaan. Je kan dit met de hand doen, maar met een spreadsheet gaat het handiger en sneller.\n",
    "\n",
    "3. Bereken voor elk van die benaderingen de afwijking van de exacte waarde. Ook dat kan het handigste met een spreadsheet.\n",
    "\n",
    "    *Wat valt je op over het voorteken van dit verschil? Dat inzicht kan verderop van pas komen.*\n",
    "\n",
    "4. Ga aan de hand van deze berekeningen na of de waarden in de kennisclip kloppen of niet. Welke zijn juist, welke niet? Vergelijk je resultaten met medestudenten. Hebben jullie dezelfde uitkomsten?\n",
    "\n",
    "5. Bedenk op basis van de berekeningen die je hierboven zelf hebt gedaan een algoritme dat een computer deze berekeningen kan laten uitvoeren en teken dat als flowchart. Het algoritme moet één voor één de getallen uit de Fibonacci reeks berekenen, telkens de laatste twee getallen uit die reeks op elkaar delen en de afwijking van de exacte waarde van de gulden snede berekenen. Weersta de neiging om dat meteen op internet te gaan opzoeken en doe eerst zelf een poging. De handigste aanpak is de volgende:\n",
    "\n",
    "    - Stel je hebt twee getallen uit de Fibonacci reeks. Noem die bijvoorbeeld a en b (b is de grootste en hoogste van de twee).\n",
    "    - Hoe zou je uit a en b het volgende getal uit de Fibonacci reeks berekenen? Laat dat je algoritme doen. Noem die waarde even c.\n",
    "    - Je hebt nu twee nieuwe grootste getallen uit de reeks, namelijk b en c. Hoe zou je daaruit de benadering van de gulden snede berekenen? Noem die waarde b.v. benadering.\n",
    "    - Het verschil met de exacte gulden snede berekenen is simpelweg aftrekken, dat kan je algoritme vast wel.\n",
    "    - Je hebt nu één iteratie gedaan. Om de volgende iteratie te kunnen doen moet je de variabelen zo manipuleren dat je weer aan het begin van de lus door kunt gaan. Dus je hebt de juiste waarden van a en b nodig. Hoe kan je die uit a, b en c kunnen afleiden? Of eigenlijk: wat is de nieuw berekende b-waarde en wat is dan de a-waarde?\n",
    "    - Als je die laatste berekening toevoegt heb je de lus in je algoritme compleet. Nu alleen nog een eindconditie toevoegen zodat je lus niet oneindig doorgaat. Kies in eerste instantie een maximumwaarde voor b.v. b om de lus te stoppen.\n",
    "    - Neem als eindconditie nu niet een maximum voor a, b of c, maar een waarde voor de berekende afwijking. Stop de lus zodra die afwijking kleiner dan 10<sup>-12</sup> is.\n",
    "    - Laat je algoritme alle tussenresultaten als tabel afdrukken:\n",
    "\n",
    "    |stap|a|b|b/a|b/a - gulden snede|\n",
    "    |----|-|-|---|----------------|\n",
    "    |0   |0|1|   |                |\n",
    "    |1   |1|1|1  |-0.618033988    |\n",
    "    |2   |1|2|2  |(laten berekenen)|\n",
    "    |3   |2|3|1.5|(etc.)          |\n",
    "\n",
    "    - Na hoeveel stappen stopt je algoritme omdat de eindconditie is bereikt? Dus hoeveel iteraties zijn nodig om die afwijking van minder dan 10<sup>-12</sup> te bereiken?\n",
    "\n",
    "6. Implementeer je algoritme in C# code:"
   ]
  },
  {
   "cell_type": "code",
   "execution_count": null,
   "metadata": {
    "dotnet_interactive": {
     "language": "csharp"
    },
    "polyglot_notebook": {
     "kernelName": "csharp"
    }
   },
   "outputs": [],
   "source": []
  },
  {
   "cell_type": "markdown",
   "metadata": {},
   "source": [
    "## Opdracht 3 - Gemiddelde van niet-negatieve getallen uit ingevoerde reeks\n",
    "\n",
    "Stel een flowchart op van een algoritme dat de gemiddelde waarde berekent van alle niet-negatieve getallen uit een reeks van getallen die door de gebruiker worden ingevoerd. De gebruiker kiest vooraf hoeveel getallen ingevoerd gaan worden.\n",
    "\n",
    "Het gemiddelde van een aantal getallen is de som van die getallen (dus alle getallen bij elkaar opgeteld) gedeeld door het aantal getallen. Bijvoorbeeld:\n",
    "\n",
    "    (3 + 4 + 3 + 7 + 13 + 22 + 11) / 7 = 9 gemiddeld\n",
    "\n",
    "Logische stappen in dat algoritme:\n",
    "- Laat de gebruiker invoeren hoeveel getallen er ingelezen gaan worden.\n",
    "- Laat de gebruiker in een lus al die getallen invoeren.\n",
    "- Telkens als een getal is ingevoerd werk je de som van de getallen bij.\n",
    "- Als alle getallen zijn ingevoerd bereken je het gemiddeld op basis van de som en het aantal getallen.\n",
    "\n",
    "> Is het nodig om alle ingevoerde getallen op te slaan? Misschien heb je van nature of uit gewoonte die neiging wel, maar bekijk altijd kritisch of het wel nodig is om dat computergeheugen (en die rekentijd) daaraan te besteden. In dit geval is het niet nodig.\n",
    "\n",
    "Maar we zijn er nog niet. De vraag was om alleen die getallen mee te nemen in het gemiddelde die niet negatief zijn (dus >= nul). Dus je algoritme moet van elk ingevoerd getal controleren of het >= 0 is, en alleen dan de som bijwerken. En het aantal waardoor gedeeld moet worden is nu niet meer vooraf bekend maar moet ook worden bijgehouden. Pas je algoritme daarop aan.\n",
    "\n",
    "Je kan je algoritme in C# code omzetten en testen:"
   ]
  },
  {
   "cell_type": "code",
   "execution_count": null,
   "metadata": {
    "dotnet_interactive": {
     "language": "csharp"
    },
    "polyglot_notebook": {
     "kernelName": "csharp"
    }
   },
   "outputs": [],
   "source": [
    "Console.WriteLine(\"Gemiddelde van niet-negatieve getallen uit ingevoerde reeks\");\n",
    "Console.WriteLine(\"Hoeveel getallen wil je invoeren?\");\n",
    "int aantalGetallen = int.Parse(Console.ReadLine());\n",
    "// TODO Vul verder aan"
   ]
  },
  {
   "cell_type": "markdown",
   "metadata": {},
   "source": [
    "## Opdracht 4 - Hoger/lager algoritme (binair zoeken)\n",
    "\n",
    "Ontwerp een algoritme, en teken daarvan een flowchart, dat het volgende doet:\n",
    "\n",
    "1. Kies een willekeurig getal uit het bereik 1 t/m 100 en sla dat op. Dit getal houden we voor de gebruiker geheim want die moet het getal gaan raden.\n",
    "2. Vraag de gebruiker om een getal in te voeren uit het bereik 1 t/m 100.\n",
    "3. Als het ingevoerde getal gelijk is aan het willekeurig gekozen getal, dan eindigt het algoritme met de mededeling aan de gebruiker dat het getal is geraden.\n",
    "4. Als het ingevoerde getal kleiner is dan het willekeurig gekozen getal, laat dan de gebruiker weten dat het willekeurig gekozen getal groter is dan het ingevoerde getal.\n",
    "5. Als het ingevoerde getal groter is dan het willekeurig gekozen getal, laat dan de gebruiker weten dat het willekeurig gekozen getal kleiner is dan het ingevoerde getal.\n",
    "6. Herhaal vanaf stap 2. (totdat het getal door de gebruiker is geraden).\n",
    "\n",
    "Breid je algoritme uit met de volgende feature:\n",
    "- Het algoritme telt het aantal keren dat de gebruiker een getal invoert (stap 2. hierboven). Dat is dus het aantal pogingen om het getal te raden.\n",
    "- Het algoritme laat aan de gebruiker weten na hoeveel pogingen het getal is geraden (stap 3. hierboven).\n",
    "\n",
    "Hoeveel pogingen heeft de gebruiker maximaal nodig om het willekeurig gekozen getal te raden (onder de aanname dat de gebruiker zo slim mogelijk zal proberen te raden)? En welke strategie zal de gebruiker daarbij hanteren? Dus: hoe zou jij het aanpakken als je zo snel mogelijk het getal moest raden?\n",
    "\n",
    "En als het bereik niet 1 t/m 100 maar 1 t/m 1000 was? Of 1 t/m 10000? Hoeveel pogingen zijn dan nodig? Is dat telkens 10 keer zoveel, of is het minder dan 10 keer?"
   ]
  },
  {
   "cell_type": "markdown",
   "metadata": {},
   "source": [
    "## Opdracht 5 (Uitdaging) - Pythagorese drietallen vinden (brute force)\n",
    "\n",
    "**Let op:** Deze opdracht is gericht op studenten met voorkennis op het gebied van programmeren. Probeer dit pas als je alle andere opdrachten gedaan hebt.\n",
    "\n",
    "Een Pythagorees drietal is een drietal getallen (a, b en c) waarvoor geldt dat\n",
    "\n",
    "a<sup>2</sup> + b<sup>2</sup> = c<sup>2</sup>    (de stelling van Pythagoras dus)\n",
    "\n",
    "Pythagorese drietallen kun je op verschillende manieren met een computer vinden:\n",
    "- Brute force zoekmethode: probeer alle mogelijke combinaties van a, b en c en controleer telkens of a<sup>2</sup> + b<sup>2</sup> = c<sup>2</sup>. Zo ja, dan heb je een Pythagorees drietal te pakken.\n",
    "- Kies positieve gehele getallen m en n waarvoor geldt dat m > n en bereken daarmee a, b en c volgens deze formules:\n",
    "\n",
    "    a = m<sup>2</sup> - n<sup>2</sup>\n",
    "    \n",
    "    b = 2mn\n",
    "    \n",
    "    c = m<sup>2</sup> + n<sup>2</sup>\n",
    "\n",
    "1. Bedenk nu een algoritme (en maak daarvan een flowchart) dat het enige Pythagorese drietal (a, b, c) vindt waarvoor geldt dat a + b + c = 1000. Er is precies één zo'n drietal. Welke waarden hebben a, b en c dan?\n",
    "2. Verander je algoritme zo dat het *ieder* Pythagorees drietal vindt voor een vrij te kiezen som van a + b + c. Dus als je als som 1000 kiest krijg je het antwoord uit de vorige stap.\n",
    "3. Welke Pythagorese drietallen vind je hiermee voor deze sommen:\n",
    "    - a + b + c = 2288\n",
    "    - a + b + c = 3210\n",
    "4. Bespreek je resultaten met medestudenten en vergelijk jullie aanpak, algoritme en uitkomsten. Welk algoritme is het meest efficiënt (dus gebruikt de minste rekenkracht en tijd om een juist antwoord te vinden)?"
   ]
  }
 ],
 "metadata": {
  "kernelspec": {
   "display_name": ".NET (C#)",
   "language": "C#",
   "name": ".net-csharp"
  },
  "language_info": {
   "name": "polyglot-notebook"
  },
  "polyglot_notebook": {
   "kernelInfo": {
    "defaultKernelName": "csharp",
    "items": [
     {
      "aliases": [],
      "languageName": "csharp",
      "name": "csharp"
     }
    ]
   }
  }
 },
 "nbformat": 4,
 "nbformat_minor": 2
}
