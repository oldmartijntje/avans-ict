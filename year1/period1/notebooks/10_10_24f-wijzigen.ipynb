{
 "cells": [
  {
   "cell_type": "markdown",
   "metadata": {},
   "source": [
    "## Wijzigen \n",
    "Nu we kunnen verwijderen kan het voorkomen dat we juist iets willen wijzigen. Hiervoor gebruiken we de index en variabele assignment om de waarde aan te passen. De short-hand voor wijzigen is `lijstnaam[index] = waarde`. Een voorbeeld hoe we 12 wijzigen naar 25:"
   ]
  },
  {
   "cell_type": "code",
   "execution_count": null,
   "metadata": {
    "dotnet_interactive": {
     "language": "csharp"
    },
    "polyglot_notebook": {
     "kernelName": "csharp"
    }
   },
   "outputs": [],
   "source": [
    "List<int> solarProfits = [ 10, 4, 9, 12, 90, 165 ];\n",
    "\n",
    "solarProfits[3] = 25;"
   ]
  },
  {
   "cell_type": "markdown",
   "metadata": {},
   "source": [
    "## Opdracht 1\n",
    "Nu we kunnen verwijderen kan het voorkomen dat we juist iets willen wijzigen. Hiervoor gebruiken we de index en variabele assignment om de waarde aan te passen. De short-hand voor wijzigen is `lijstnaam[index] = waarde`. Controleer of het getal 75 in de lijst zit en zo ja: wijzig dit dan naar 999. Let op: je algoritme moet ook werken als er meerdere keren 75 in de lijst voorkomt! "
   ]
  },
  {
   "cell_type": "code",
   "execution_count": 1,
   "metadata": {
    "dotnet_interactive": {
     "language": "csharp"
    },
    "polyglot_notebook": {
     "kernelName": "csharp"
    }
   },
   "outputs": [
    {
     "name": "stdout",
     "output_type": "stream",
     "text": [
      "[10, 4, 999, 9, 12, 90, 165, 999]\r\n"
     ]
    }
   ],
   "source": [
    "List<int> solarProfits = [ 10, 4, 75, 9, 12, 90, 165, 75 ];\n",
    "for (int i = 0; i < solarProfits.Count; i++) {\n",
    "    if (solarProfits[i] == 75) {\n",
    "        solarProfits[i] = 999;\n",
    "    }\n",
    "}\n",
    "Console.WriteLine($\"[{string.Join(\", \", solarProfits)}]\");\n",
    "/* zit er 75 in de lijst? (uiteraard zoek je dat op met code), dan wijzigen naar 99. \n",
    "   uiteraard laat je de lijst even zien in de Console om te kijken of alles goed is gegaan */"
   ]
  }
 ],
 "metadata": {
  "kernelspec": {
   "display_name": ".NET (C#)",
   "language": "C#",
   "name": ".net-csharp"
  },
  "language_info": {
   "name": "polyglot-notebook"
  },
  "polyglot_notebook": {
   "kernelInfo": {
    "defaultKernelName": "csharp",
    "items": [
     {
      "aliases": [],
      "languageName": "csharp",
      "name": "csharp"
     }
    ]
   }
  }
 },
 "nbformat": 4,
 "nbformat_minor": 2
}
