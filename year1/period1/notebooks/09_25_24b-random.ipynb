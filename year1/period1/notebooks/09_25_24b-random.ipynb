{
 "cells": [
  {
   "cell_type": "markdown",
   "metadata": {
    "dotnet_interactive": {
     "language": "csharp"
    },
    "polyglot_notebook": {
     "kernelName": "csharp"
    }
   },
   "source": [
    "# Random\n",
    "\n",
    "Soms heb je de nood om in je code een willekeurige waarde te genereren. Bijvoorbeeld om een willekeurige vraag uit een lijst van vragen te kunnen kiezen, of een willekeurige naam uit een lijst van namen te kiezen. Onderstaand leer je hoe je dit kan doen in C#."
   ]
  },
  {
   "cell_type": "markdown",
   "metadata": {},
   "source": [
    "## Random.Shared.Next()\n",
    "De methode Random.Shared.Next() laat ons toe om een willekeurige int waarde te genereren tussen 0 en de maximale waarde van een int (Int32.MaxValue = 2147483647).\n",
    "```csharp\n",
    "Random.Shared.Next();\n",
    "```\n",
    "Je wilt waarschijnlijk iets met deze waarde doen, dus het is handig om deze waarde toe te wijzen aan een variabele.\n",
    "\n",
    "```csharp\n",
    "int randomValue = Random.Shared.Next();\n",
    "Console.WriteLine(randomValue); \n",
    "```\n",
    "\n",
    "Vaak wil je een maximale waarde opleggen aan het willekeurige getal dat wordt gegenereerd. Bijvoorbeeld wanneer je een willekeurig geheel getal tussen 0 en 10 wilt. Dit kan op onderstaande manier. \n",
    "```csharp\n",
    "int randomValue = Random.Shared.Next(11);\n",
    "Console.WriteLine(randomValue); \n",
    "```\n",
    "Merk op dat onze input parameter een 11 is en niet een 10. Dit is omdat Random.Next.Shared(maxValue) een waarde genereert die lager is dan maxValue. Indien we 10 zouden gebruiken dan zou het willekeurige getal maximaal een 9 kunnen zijn.\n",
    "\n",
    "Indien je zowel de minimale maarde als de maximale waarde wilt opgeven dan is dit ook mogelijk. Bijvoorbeeld indien we een willekeurig getal willen tussen 10 en 15, inclusief 10 en 15 zelf.\n",
    "```csharp\n",
    "int randomValue = Random.Shared.Next(10,16);\n",
    "Console.WriteLine(randomValue); \n",
    "```\n",
    "Merk op dat Random.Shared(minValue, maxValue) een willekeurige waarde genereert tussen minValue (inclusief) en maxValue (exclusief). De output is dus een willekeurig geheel getal dat ten laagste minValue is en ten hoogste maxValue - 1. Voor bovenstaand voorbeeld moeten we dus als minValue 10 gebruiken en als maxValue 16 indien we een willekeurig geheel getal wensen uit de mogelijke waarden 10, 11, 12, 13, 14 en 15."
   ]
  },
  {
   "cell_type": "markdown",
   "metadata": {},
   "source": [
    "## Opdracht 1\n",
    "Schrijf een algoritme dat een willekeurige waarde genereert met Random.Shared.Next() en hierna de waarde in de console schrijft. Voer de code meerdere keren uit en merk op hoe de waarde telkens verschillend is. In theorie kan de waarde meermaals dezelfde willekeurige waarde zijn. Echter is deze kans heel klein door het grote aantal mogelijke waarden."
   ]
  },
  {
   "cell_type": "code",
   "execution_count": 14,
   "metadata": {
    "dotnet_interactive": {
     "language": "csharp"
    },
    "polyglot_notebook": {
     "kernelName": "csharp"
    },
    "vscode": {
     "languageId": "polyglot-notebook"
    }
   },
   "outputs": [
    {
     "name": "stdout",
     "output_type": "stream",
     "text": [
      "406\n",
      "222\n",
      "109\n",
      "91\n",
      "haha funny number: 69\n",
      "151\n",
      "393\n",
      "276\n",
      "371\n",
      "250\n"
     ]
    }
   ],
   "source": [
    "for (int index = 0; index < 10; index++) {\n",
    "    int randomValue = Random.Shared.Next(68,421);\n",
    "    Console.WriteLine(randomValue == 69 || randomValue == 420 ? $\"haha funny number: {randomValue}\": randomValue);\n",
    "}"
   ]
  },
  {
   "cell_type": "markdown",
   "metadata": {},
   "source": [
    "## Opdracht 2\n",
    "Schrijf een algoritme dat een willekeurige waarde genereert tussen 0 en 3, inclusief 0 en 3 zelf. Voer de code meerdere keren uit tot je minstens 1x elke mogelijke waarde hebt gezien (0, 1, 2 en 3)."
   ]
  },
  {
   "cell_type": "code",
   "execution_count": 25,
   "metadata": {
    "dotnet_interactive": {
     "language": "csharp"
    },
    "polyglot_notebook": {
     "kernelName": "csharp"
    },
    "vscode": {
     "languageId": "polyglot-notebook"
    }
   },
   "outputs": [
    {
     "name": "stdout",
     "output_type": "stream",
     "text": [
      "0: 2\n",
      "1: 1\n",
      "2: 1\n",
      "3: 1\r\n"
     ]
    }
   ],
   "source": [
    "var dict = new Dictionary<int, int>{\n",
    "    {0,0},\n",
    "    {1,0},\n",
    "    {2,0},\n",
    "    {3,0}\n",
    "};\n",
    "bool done = false;\n",
    "\n",
    "while (!done) {\n",
    "    dict[Random.Shared.Next(4)]++;\n",
    "    done = dict[0] > 0 && dict[1] > 0 && dict[2] > 0 && dict[3] > 0;\n",
    "}\n",
    "Console.WriteLine($\"0: {dict[0]}\\n1: {dict[1]}\\n2: {dict[2]}\\n3: {dict[3]}\")"
   ]
  },
  {
   "cell_type": "markdown",
   "metadata": {},
   "source": [
    "## Opdracht 3\n",
    "Schrijf een algoritme dat een willekeurige waarde genereert tussen 105 en 108, inclusief 105 en 108 zelf. Voer de code meerdere keren uit tot je minstens 1x elke mogelijke waarde hebt gezien (105, 106, 107 en 108)."
   ]
  },
  {
   "cell_type": "code",
   "execution_count": 44,
   "metadata": {
    "dotnet_interactive": {
     "language": "csharp"
    },
    "polyglot_notebook": {
     "kernelName": "csharp"
    },
    "vscode": {
     "languageId": "polyglot-notebook"
    }
   },
   "outputs": [
    {
     "name": "stdout",
     "output_type": "stream",
     "text": [
      "105: 2\n",
      "106: 1\n",
      "107: 2\n",
      "108: 1\r\n"
     ]
    }
   ],
   "source": [
    "var dict = new Dictionary<int, int>{\n",
    "    {105,0},\n",
    "    {106,0},\n",
    "    {107,0},\n",
    "    {108,0}\n",
    "};\n",
    "bool done = false;\n",
    "\n",
    "while (!done) {\n",
    "    dict[Random.Shared.Next(105, 109)]++;\n",
    "    done = dict[105] > 0 && dict[106] > 0 && dict[107] > 0 && dict[108] > 0;\n",
    "}\n",
    "Console.WriteLine($\"105: {dict[105]}\\n106: {dict[106]}\\n107: {dict[107]}\\n108: {dict[108]}\")"
   ]
  },
  {
   "cell_type": "markdown",
   "metadata": {},
   "source": [
    "## Random.Shared.NextDouble()\n",
    "Je kan ook een willekeurig decimaal getal laten genereren als een double met de methode Random.Shared.NextDouble(); \n",
    "```csharp\n",
    "double randomDouble = Random.Shared.NextDouble();\n",
    "Console.WriteLine(randomDouble);\n",
    "```\n",
    "De output van deze methode is een willekeurige waarde tussen van minstens 0 en minder dan 1.0. De output kan dus in theorie 0 zijn maar niet 1. \n",
    "\n",
    "Desondanks de waarde ligt tussen 0 en 1, kunnen we deze output gebruiken om andere willekeurige decimale getallen te genereren. Indien we bijvoorbeeld een willekeurig decimaal getal willen tussen 0 en 10 dan kan dit op onderstaande manier.\n",
    "\n",
    "```csharp\n",
    "double randomDouble = Random.Shared.NextDouble() * 10;\n",
    "Console.WriteLine(randomDouble);\n",
    "```\n",
    "De ondergrens van het willekeurige decimaal getal kunnen we ook beïnvloeden. Onderstaand zie je een voorbeeld voor een willekeurig decimaal getal tussen 100 en 110 te genereren.\n",
    "```csharp\n",
    "double randomDouble = 100 + Random.Shared.NextDouble() * 10;\n",
    "Console.WriteLine(randomDouble);\n",
    "```"
   ]
  },
  {
   "cell_type": "markdown",
   "metadata": {},
   "source": [
    "## Opdracht 4\n",
    "Schrijf een algoritme dat een willekeurig decimaal getal genereert tussen 40 en 45."
   ]
  },
  {
   "cell_type": "markdown",
   "metadata": {},
   "source": [
    "## Random.Shared.Shuffle()\n",
    "We kunnen de Random.Shared.Shuffle methode gebruiken om de waarden in arrays willekeurig door elkaar te shufflen. In onderstaand voorbeeld hebben we een array intValues met oospronkelijk de waarden 1, 2, 3 en 4 respectievelijk. Na het gebruik van de Shuffle() methode zijn de elementen willekeurig door elkaar gehaald. \n",
    "```csharp\n",
    "int[] intValues = [1, 2, 3, 4];\n",
    "Random.Shared.Shuffle(intValues);\n",
    "foreach (int value in intValues)\n",
    "{\n",
    "    Console.WriteLine(value);\n",
    "}\n",
    "```\n",
    "Dit kunnen we toepassen op arrays van eender welk datatype. Onderstaand nog een extra voorbeeld met strings. \n",
    "\n",
    "```csharp\n",
    "string[] stringValues = [\"Alexander\", \"Bob\", \"Chris\", \"Dirk\"];\n",
    "Random.Shared.Shuffle(stringValues);\n",
    "foreach (string value in stringValues)\n",
    "{\n",
    "    Console.WriteLine(value);\n",
    "}"
   ]
  },
  {
   "cell_type": "markdown",
   "metadata": {},
   "source": [
    "## Opdracht 5\n",
    "Schrijf een algoritme dat een array aanmaakt met de waarden 0.0, 0.5, 1.0, 1.5 en 2, vervolgens de waarden van deze array shufflet met de Random.Shared.Shuffle() methode en tenslotte de waarden van de array in de nieuwe volgorde toont."
   ]
  },
  {
   "cell_type": "code",
   "execution_count": null,
   "metadata": {
    "dotnet_interactive": {
     "language": "csharp"
    },
    "polyglot_notebook": {
     "kernelName": "csharp"
    },
    "vscode": {
     "languageId": "polyglot-notebook"
    }
   },
   "outputs": [],
   "source": []
  }
 ],
 "metadata": {
  "kernelspec": {
   "display_name": ".NET (C#)",
   "language": "C#",
   "name": ".net-csharp"
  },
  "language_info": {
   "file_extension": ".cs",
   "mimetype": "text/x-csharp",
   "name": "C#",
   "pygments_lexer": "csharp",
   "version": "8.0"
  },
  "polyglot_notebook": {
   "kernelInfo": {
    "defaultKernelName": "csharp",
    "items": [
     {
      "aliases": [],
      "languageName": "csharp",
      "name": "csharp"
     }
    ]
   }
  }
 },
 "nbformat": 4,
 "nbformat_minor": 2
}
