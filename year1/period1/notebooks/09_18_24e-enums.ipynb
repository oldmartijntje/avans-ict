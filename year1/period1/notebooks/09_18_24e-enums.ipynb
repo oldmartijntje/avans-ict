{
 "cells": [
  {
   "cell_type": "markdown",
   "metadata": {},
   "source": [
    "# Enums\n",
    "\n",
    "Een enum (kort voor enumeratie) is een manier om een set van gerelateerde namen aan numerieke waarden te geven. Dit maakt je code leesbaarder en makkelijker te begrijpen. In plaats van te werken met getallen, kun je werken met namen die beschrijven wat die getallen betekenen.\n",
    "\n",
    "## Voorbeeld Analogie\n",
    "\n",
    "Stel je voor dat je een lijst hebt van de seizoenen in het jaar. In plaats van elk seizoen te representeren met een nummer (zoals 0 voor winter, 1 voor lente, enzovoort), kun je een enum gebruiken om de seizoenen van het jaar een naam te geven. Je zou dit ook met een string kunnen doen, met de strings \"winter\", \"lente\" enzovoort, maar het probleem is dat hierbij gemakkelijk typfouten gemaakt kunnen worden. De C# compiler controleert deze strings niet, maar een enum wordt wel gecontroleerd. Daarnaast kun je met een enum ook code-completion gebruiken in je IDE, wat het programmeren een stuk sneller en gemakkelijker maakt, waarbij je code nog steeds duidelijk leesbaar blijft.\n",
    "\n",
    "## Voorbeeld in praktijk"
   ]
  },
  {
   "cell_type": "code",
   "execution_count": null,
   "metadata": {
    "dotnet_interactive": {
     "language": "csharp"
    },
    "polyglot_notebook": {
     "kernelName": "csharp"
    }
   },
   "outputs": [],
   "source": [
    "enum Seizoen {\n",
    "    Winter, // 0\n",
    "    Lente, // 1\n",
    "    Zomer, // 2\n",
    "    Herfst // 3 \n",
    "}"
   ]
  },
  {
   "cell_type": "markdown",
   "metadata": {},
   "source": [
    "In dit voorbeeld hebben we een ***enum*** gemaakt genaamd *'seizoen'*, met de seizoenen als waarde. Standaard krijgen deze waarden de nummers 0 tot en met 3 toegewezen."
   ]
  },
  {
   "cell_type": "markdown",
   "metadata": {},
   "source": [
    "## Gebruik van een Enum\n",
    "Je kunt altijd een variabele het *enum* type meegeven en hem een ***enum*** waarde meegeven. Daarnaast kan je een *integer* omzetten naar een ***enum*** door gebruik te maken van **type-casting**."
   ]
  },
  {
   "cell_type": "code",
   "execution_count": null,
   "metadata": {
    "dotnet_interactive": {
     "language": "csharp"
    },
    "polyglot_notebook": {
     "kernelName": "csharp"
    }
   },
   "outputs": [],
   "source": [
    "enum Seizoen {\n",
    "    Winter, // 0\n",
    "    Lente, // 1\n",
    "    Zomer, // 2\n",
    "    Herfst // 3 \n",
    "}\n",
    "\n",
    "Seizoen vandaag = Seizoen.Lente;\n",
    "Console.WriteLine(vandaag);\n",
    "\n",
    "int winter = 0;\n",
    "Console.WriteLine(winter); // output is 0\n",
    "\n",
    "// hier geven we C# aan dat we willen dat de int wordt veranderd in een Seizoen enum\n",
    "Seizoen winterInEnum = (Seizoen)winter;\n",
    "Console.WriteLine(winterInEnum) // print Winter\n",
    "\n",
    "\n"
   ]
  },
  {
   "cell_type": "markdown",
   "metadata": {},
   "source": [
    "## Opdracht\n",
    "\n",
    "Gebruik enums om een string te genereren. De gewenste output in de console wordt bijv.: \"Volgende maaltijd: Lunch op: Dinsdag. Eet smakelijk!\""
   ]
  },
  {
   "cell_type": "code",
   "execution_count": 21,
   "metadata": {
    "dotnet_interactive": {
     "language": "csharp"
    },
    "polyglot_notebook": {
     "kernelName": "csharp"
    }
   },
   "outputs": [
    {
     "name": "stdout",
     "output_type": "stream",
     "text": [
      "Goodmorning traveller. It's currently Wednesday 9/18/2024 3:11:56 PM.\n",
      "Alrighty, see you at MidnightSnackTime Thursday\n"
     ]
    }
   ],
   "source": [
    "//Definieer 2 enums een voor de dagen in de week en een voor maaltijden (ontbijt, lunch en diner).\n",
    "//-- Vraag de gebruiker de dag en maaltijd die je zo gaat nuttigen. (Gebruik hiervoor Console.WriteLine en de Console.ReadLine)\n",
    "//-- hierna ga je de **integer** waardes Bijv. *1*(voor de dag dinsdag) en *1*(voor de lunch) type-casten naar een output in de console.\n",
    "using Microsoft.DotNet.Interactive;\n",
    "\n",
    "enum Dagen\n",
    "{\n",
    "    Monday,\n",
    "    Tuesday,\n",
    "    Wednesday,\n",
    "    Thursday,\n",
    "    Friday,\n",
    "    Saturday,\n",
    "    Sunday\n",
    "}\n",
    "\n",
    "enum Maaltijden\n",
    "{\n",
    "    Breakfast,\n",
    "    Lunch,\n",
    "    Dinner,\n",
    "    MidnightSnackTime\n",
    "}\n",
    "\n",
    "var dateTime = DateTime.Now;\n",
    "Console.WriteLine($\"Goodmorning traveller. It's currently {dateTime.DayOfWeek} {dateTime.ToLocalTime()}.\");\n",
    "\n",
    "string input1 = await Kernel.GetInputAsync(\"What day do you want to eat? (0/6)\");\n",
    "string input2 = await Kernel.GetInputAsync(\"What meal want to eat? (0/2)\");\n",
    "\n",
    "int nummer1 = int.Parse(input1);\n",
    "int nummer2 = int.Parse(input2);\n",
    "\n",
    "Console.WriteLine($\"Alrighty, see you at {(Maaltijden)((nummer2 != 0 ? nummer2 - 1 : 0) % 4)} {(Dagen)((nummer1 != 0 ? nummer1 - 1: 0) % 7)}\")\n",
    "\n",
    "\n"
   ]
  },
  {
   "cell_type": "code",
   "execution_count": null,
   "metadata": {
    "dotnet_interactive": {
     "language": "csharp"
    },
    "polyglot_notebook": {
     "kernelName": "csharp"
    }
   },
   "outputs": [],
   "source": []
  }
 ],
 "metadata": {
  "kernelspec": {
   "display_name": ".NET (C#)",
   "language": "C#",
   "name": ".net-csharp"
  },
  "language_info": {
   "name": "polyglot-notebook"
  },
  "polyglot_notebook": {
   "kernelInfo": {
    "defaultKernelName": "csharp",
    "items": [
     {
      "aliases": [],
      "languageName": "csharp",
      "name": "csharp"
     }
    ]
   }
  }
 },
 "nbformat": 4,
 "nbformat_minor": 2
}
