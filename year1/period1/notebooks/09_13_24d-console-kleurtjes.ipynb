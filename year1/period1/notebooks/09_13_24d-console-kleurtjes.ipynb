{
 "cells": [
  {
   "cell_type": "markdown",
   "metadata": {},
   "source": [
    "# Console kleurtjes\n",
    "De teksten die je tot nu toe hebt gezien zijn zwart op wit (dit kan trouwens verschillen per console). Maar je kunt de kleur van de tekst en de achtergrond ook dynamisch aanpassen. Dit kan door gebruik te maken van `Console.BackgroundColor` en/of `Console.ForegroundColor`. Met `Console.BackgroundColor` kun je de achtergrondkleur van de tekst aanpassen en met `Console.ForegroundColor` de kleur van de tekst zelf. Dit doe je door een kleurwaarde toe te kennen aan `Console.BackgroundColor` en/of `Console.ForegroundColor`.\n",
    "\n",
    "De kleuren die je kunt gebruiken zijn te vinden in de `ConsoleColor` enum. Deze enum bevat de volgende kleuren:\n",
    "- Black\n",
    "- DarkBlue\n",
    "- DarkGreen\n",
    "- DarkCyan\n",
    "- DarkRed\n",
    "- DarkMagenta\n",
    "- DarkYellow\n",
    "- Gray\n",
    "- DarkGray\n",
    "- Blue\n",
    "- Green\n",
    "- Cyan\n",
    "- Red\n",
    "- Magenta\n",
    "- Yellow\n",
    "- White\n",
    "\n",
    "In het voorbeeld hieronder wordt de tekst rood gemaakt:\n",
    "```csharp\n",
    "Console.ForegroundColor = ConsoleColor.Red;\n",
    "Console.WriteLine(\"Dit is rode tekst!\");\n",
    "```  \n",
    "  \n",
    "In het volgende voorbeeld wordt de achtergrond van de tekst geel gemaakt:\n",
    "```csharp\n",
    "Console.BackgroundColor = ConsoleColor.Yellow;\n",
    "Console.WriteLine(\"Dit heeft een gele achtergrond!\");\n",
    "```\n",
    "\n",
    "Je kunt de kleuren ook meerdere keren veranderen in één stukje code. In het onderstaande voorbeeld wordt de tekst eerst rood gemaakt, daarna wordt de achtergrond geel gemaakt en vervolgens wordt de tekst groen gemaakt:\n",
    "```csharp\n",
    "Console.ForegroundColor = ConsoleColor.Red;\n",
    "Console.BackgroundColor = ConsoleColor.Yellow;\n",
    "Console.WriteLine(\"Dit is rode tekst met een gele achtergrond!\");\n",
    "Console.ForegroundColor = ConsoleColor.Green;\n",
    "Console.WriteLine(\"Dit is groene tekst met een gele achtergrond!\");\n",
    "```\n",
    "\n",
    "## Resetten van de kleuren\n",
    "Als je klaar bent met het aanpassen van de kleuren, kun je de kleuren resetten naar de standaardkleuren door `Console.ResetColor()` aan te roepen. Dit zorgt ervoor dat de tekst en achtergrond weer de standaardkleuren krijgen.\n",
    "```csharp\n",
    "Console.ResetColor();\n",
    "```\n",
    "\n",
    "## Bronnen\n",
    "- [Microsoft documentatie over Console.BackgroundColor](https://docs.microsoft.com/en-us/dotnet/api/system.console.backgroundcolor)\n",
    "- [Microsoft documentatie over Console.ForegroundColor](https://docs.microsoft.com/en-us/dotnet/api/system.console.foregroundcolor)\n",
    "- [Microsoft documentatie over Console.ResetColor](https://docs.microsoft.com/en-us/dotnet/api/system.console.resetcolor)\n",
    "- [Microsoft documentatie over ConsoleColor enum](https://docs.microsoft.com/en-us/dotnet/api/system.consolecolor)"
   ]
  }
 ],
 "metadata": {
  "kernelspec": {
   "display_name": ".NET (C#)",
   "language": "C#",
   "name": ".net-csharp"
  },
  "language_info": {
   "name": "polyglot-notebook"
  },
  "polyglot_notebook": {
   "kernelInfo": {
    "defaultKernelName": "csharp",
    "items": [
     {
      "aliases": [],
      "languageName": "csharp",
      "name": "csharp"
     }
    ]
   }
  }
 },
 "nbformat": 4,
 "nbformat_minor": 2
}
