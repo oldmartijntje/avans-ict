{
 "cells": [
  {
   "cell_type": "markdown",
   "metadata": {},
   "source": [
    "# Ternary Operator\n",
    "Er is ook een kortere manier om een **if else** statement te schrijven. Dit wordt een **ternary operator** genoemd.\n",
    "\n",
    "Een **ternary operator** heeft de volgende structuur:\n",
    "```Conditie ? {expressie voor true} : {expressie voor false}```\n",
    "\n",
    "De volgende *if-statement*:"
   ]
  },
  {
   "cell_type": "code",
   "execution_count": null,
   "metadata": {
    "dotnet_interactive": {
     "language": "csharp"
    },
    "polyglot_notebook": {
     "kernelName": "csharp"
    }
   },
   "outputs": [],
   "source": [
    "int maxKwhConsumptionToday = 40;\n",
    "if(maxKwhConsumptionToday < 100)\n",
    "{\n",
    " Console.WriteLine(\"Congratulations! You have saved energy today!\");\n",
    "} \n",
    "else\n",
    "{\n",
    " Console.WriteLine(\"You have consumed too much energy today!\");\n",
    "}"
   ]
  },
  {
   "cell_type": "markdown",
   "metadata": {},
   "source": [
    "Kunnen we herschrijven naar:"
   ]
  },
  {
   "cell_type": "code",
   "execution_count": null,
   "metadata": {
    "dotnet_interactive": {
     "language": "csharp"
    },
    "polyglot_notebook": {
     "kernelName": "csharp"
    }
   },
   "outputs": [],
   "source": [
    "int maxKwhConsumptionToday = 108;\n",
    "\n",
    "Console.WriteLine(maxKwhConsumptionToday < 100 ? \"Congratulations! You have saved energy today!\" : \"You have consumed too much energy today!\")"
   ]
  },
  {
   "cell_type": "markdown",
   "metadata": {},
   "source": [
    "\n",
    "\n",
    "## Voordelen\n",
    "Doormiddel van de *ternary operator* kunnen we meerdere regels code vervangen voor 1 regel. Een voorbeeld is hierboven weergegeven. Het kan soms ook de leesbaarheid van de code verbeteren. Een voorbeeld:\n"
   ]
  },
  {
   "cell_type": "code",
   "execution_count": null,
   "metadata": {
    "dotnet_interactive": {
     "language": "csharp"
    },
    "polyglot_notebook": {
     "kernelName": "csharp"
    }
   },
   "outputs": [],
   "source": [
    "string welcomeMessage;\n",
    "string roleType = \"student\";\n",
    "\n",
    "if(roleType == \"student\")\n",
    "{\n",
    "    welcomeMessage = \"Welcome student at the Avans University of Applied Sciences\";\n",
    "}\n",
    "else\n",
    "{\n",
    "    welcomeMessage = \"Welcome employee at the Avans University of Applied Sciences\";\n",
    "}\n",
    "\n",
    "// kan ook geschreven worden als\n",
    "\n",
    "welcomeMessage = roleType == \"student\" ?  \"Welcome student at the Avans University of Applied Sciences\" :  \"Welcome employee at the Avans University of Applied Sciences\""
   ]
  },
  {
   "cell_type": "markdown",
   "metadata": {},
   "source": [
    "Hierbij zie je gelijk dat als het roltype student is wat het bericht wordt en wat het anders is.\n",
    "\n",
    "\n",
    "## Nadelen\n",
    "Je moet wel oppassen met overmatig gebruik van ternary operators! Het kan de leesbaarheid van je code negatief beinvloeden. Een voorbeeld hiervan:"
   ]
  },
  {
   "cell_type": "code",
   "execution_count": null,
   "metadata": {
    "dotnet_interactive": {
     "language": "csharp"
    },
    "polyglot_notebook": {
     "kernelName": "csharp"
    }
   },
   "outputs": [],
   "source": [
    "int Kwh = 180;\n",
    "\n",
    "if(Kwh < 60)\n",
    "{\n",
    "    Console.WriteLine(\"Not enough energy for the swimming pool\");\n",
    "}\n",
    "else if( Kwh >= 180 )\n",
    "{\n",
    "    Console.WriteLine(\"Too much energy powergrid is failing.....\");\n",
    "}\n",
    "else\n",
    "{\n",
    "    Console.WriteLine(\"The swimming pool is hot\");\n",
    "}\n",
    "\n",
    "// kan je herschrijven naar\n",
    "\n",
    "Console.WriteLine(Kwh < 60 ? \"Not enough energy for the swimming pool\" : Kwh >= 180 ? \"Too much energy powergrid is failing.....\" : \"The swimming pool is hot\")\n",
    "\n"
   ]
  },
  {
   "cell_type": "markdown",
   "metadata": {},
   "source": [
    "In de *ternary operator* hierboven kun je al moeilijker in 1 oogopslag zien wat nou exact de structuur is of wat hij nou doet. \n",
    "\n",
    "## Aandachtspunten\n",
    "- Hou de *condities* en *expressies* compact\n",
    "  - voorbeeld van compact ```SolarCellIsCharging  = SolarPower > 3 ? true : false```\n",
    "- Geen complex *condities en expressies* gebruiken \n",
    "  - voorbeeld van complexe conditie ```csharp (length > 180 && length <= 60) || (age < 18 && age < 60 || weight < 70) ? expressie 1 : expressie 2```\n",
    "- alleen gebruiken ter vervanging van *if-statements*\n",
    "- Past de *ternary operator* niet in zijn geheel zichtbaar op het scherm dan is sowieso te complex\n",
    "- niet nesten van *ternary operators*\n",
    "\n",
    "## Opdracht\n",
    "Herschrijf de volgende if expressie gebruikmakend van de *ternary operator*"
   ]
  },
  {
   "cell_type": "code",
   "execution_count": null,
   "metadata": {
    "dotnet_interactive": {
     "language": "csharp"
    },
    "polyglot_notebook": {
     "kernelName": "csharp"
    }
   },
   "outputs": [],
   "source": [
    "double energyUsage = 12.5;\n",
    "double SolarPanelProfits = 10.2;\n",
    "if(energyUsage < SolarPanelProfits)\n",
    "{\n",
    "    Console.WriteLine(\"You have enough solar panels to cover your energy usage\");\n",
    "}\n",
    "else\n",
    "{\n",
    "  Console.WriteLine(\"You do not have enough solar panels to cover your energy usage\");\n",
    "}\n",
    "\n",
    "float temperature = 12.5f;\n",
    "if(temperature < 0)\n",
    "    Console.WriteLine(\"Its freezing\");\n",
    "else\n",
    "    Console.WriteLine(\"It's not freezing\");\n"
   ]
  }
 ],
 "metadata": {
  "kernelspec": {
   "display_name": ".NET (C#)",
   "language": "C#",
   "name": ".net-csharp"
  },
  "language_info": {
   "name": "polyglot-notebook"
  },
  "polyglot_notebook": {
   "kernelInfo": {
    "defaultKernelName": "csharp",
    "items": [
     {
      "aliases": [],
      "languageName": "csharp",
      "name": "csharp"
     }
    ]
   }
  }
 },
 "nbformat": 4,
 "nbformat_minor": 2
}
