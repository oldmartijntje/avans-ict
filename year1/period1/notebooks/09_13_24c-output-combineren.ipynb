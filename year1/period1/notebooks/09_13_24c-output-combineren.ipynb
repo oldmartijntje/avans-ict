{
 "cells": [
  {
   "cell_type": "markdown",
   "metadata": {},
   "source": [
    "## Combineren van regels\n",
    "\n",
    "Naast `Console.WriteLine` die een regel afdrukt, is er ook `Console.Write`. Met `Console.Write` kan een stukje tekst in de console gezet worden, maar blijft de cursor op dezelfde regel. Dit kun je gebruiken om dynamisch meerdere dingen op een regel te zetten, wat niet altijd kan met `Console.WriteLine`. Dit is vooral handig als er herhalingen gebruikt worden\n",
    "\n",
    "```csharp\n",
    "for(int i = 0; i < 10; i++)\n",
    "{\n",
    "    Console.Write(\"*\");\n",
    "}\n",
    "Console.WriteLine();\n",
    "```\n",
    "Dit stukje code zal 10 sterretjes op de console zetten, en daarna een nieuwe regel hier achter zetten  \n",
    "  \n",
    "Daarnaast is dit ook handig om te gebruiken bij gebruikersinvoer voor een console-applicatie\n",
    "\n",
    "```csharp\n",
    "Console.Write(\"Voer je naam in: \");\n",
    "string naam = Console.ReadLine();\n",
    "```\n",
    "hierbij zal de invoer achter de regel 'Voer je naam in' komen\n",
    "\n",
    "Door middel van de `Console.Write` is het dus mogelijk om een tekstregel in de console met meerdere regels code op te bouwen. Hierdoor is het ook handig in het gebruik bij het opbouwen van een tekstregel met veel variabelen erin\n",
    "\n",
    "```csharp\n",
    "Console.Write(\"A: \" + a + \", \");\n",
    "Console.Write(\"B: \" + b + \", \");\n",
    "Console.Write(\"C: \" + c + \", \");\n",
    "Console.Write(\"D: \" + d + \", \");\n",
    "Console.Write(\"E: \" + e + \", \");\n",
    "Console.Write(\"F: \" + f);\n",
    "Console.WriteLine();\n",
    "```\n",
    "Bovenstaande voorbeeld kan in c# natuurlijk ook met een *interpolated string* geschreven worden, maar soms worden deze strings ook erg lang, als er bijvoorbeeld berekeningen in staan."
   ]
  },
  {
   "cell_type": "markdown",
   "metadata": {},
   "source": [
    "# Opdrachten"
   ]
  },
  {
   "cell_type": "markdown",
   "metadata": {},
   "source": [
    "## Opdracht 1\n",
    "\n",
    "Maak een programma dat een rechthoek van sterretjes kan weergeven in de console, op basis van 2 parameters, de hoogte en de breedte. Een vierkant van 4 breed en 3 hoog is bijvoorbeeld\n",
    "```\n",
    "****\n",
    "****\n",
    "****\n",
    "```\n",
    "zorg dat als de variabelen hoogte en breedte aangepast worden, de uitgeprinte rechthoek ook de juiste afmetingen heeft"
   ]
  },
  {
   "cell_type": "code",
   "execution_count": 1,
   "metadata": {
    "dotnet_interactive": {
     "language": "csharp"
    },
    "polyglot_notebook": {
     "kernelName": "csharp"
    }
   },
   "outputs": [
    {
     "name": "stdout",
     "output_type": "stream",
     "text": [
      "****\n",
      "****\n",
      "****\n"
     ]
    }
   ],
   "source": [
    "int hoogte = 3;\n",
    "int breedte = 4;\n",
    "//TODO: schrijf je code hier om een rechthoek af te drukken\n",
    "for (int i = 0; i < hoogte; i++) {\n",
    "    for (int j = 0; j < breedte; j++) {\n",
    "        Console.Write(\"*\");\n",
    "    }\n",
    "    Console.WriteLine();\n",
    "}"
   ]
  },
  {
   "cell_type": "markdown",
   "metadata": {},
   "source": [
    "## Opdracht 2\n",
    "\n",
    "Maak een programma dat een pyramide van sterretjes kan weergeven in de console, op basis van 1 parameter, de hoogte. Een pyramide met hoogte 3 is hierbij 5 sterretjes breed\n",
    "```\n",
    "  *\n",
    " ***\n",
    "*****\n",
    "```\n",
    "Om de formules af te leiden, kun je een aantal voorbeelden bekijken.\n",
    "| hoogte | max breedte |\n",
    "| -------|-------------|\n",
    "| 1      | 1           |\n",
    "| 2      | 3           |\n",
    "| 3      | 5           |\n",
    "| 4      | 7           |\n",
    "| 5      | 9           |\n",
    "\n",
    "zie je hier het verband tussen de hoogte en de maximale breedte? Daarnaast zullen ook het aantal spaties voor een regel berekend moeten worden. Deze kun je berekenen op basis van de hoogte, en de regel die je op dit moment aan het afdrukken bent. Het kan helpen om hier in klad ook een tabelletje van waarden te maken, om een formule af te leiden\n",
    "\n"
   ]
  },
  {
   "cell_type": "code",
   "execution_count": 4,
   "metadata": {
    "dotnet_interactive": {
     "language": "csharp"
    },
    "polyglot_notebook": {
     "kernelName": "csharp"
    }
   },
   "outputs": [
    {
     "name": "stdout",
     "output_type": "stream",
     "text": [
      "    *\n",
      "   ***\n",
      "  *****\n",
      " *******\n"
     ]
    }
   ],
   "source": [
    "int hoogte = 4;\n",
    "//TODO: pyramide maken\n",
    "for (int index = 0; index < hoogte; index++) {\n",
    "    for (int girth = 0; girth < hoogte - index; girth++) {\n",
    "        Console.Write(\" \");\n",
    "    }\n",
    "    for (int girth = 0; girth < index * 2 + 1; girth++) {\n",
    "        Console.Write(\"*\");\n",
    "    }\n",
    "    Console.WriteLine();\n",
    "}"
   ]
  }
 ],
 "metadata": {
  "kernelspec": {
   "display_name": ".NET (C#)",
   "language": "C#",
   "name": ".net-csharp"
  },
  "language_info": {
   "name": "polyglot-notebook"
  },
  "polyglot_notebook": {
   "kernelInfo": {
    "defaultKernelName": "csharp",
    "items": [
     {
      "aliases": [],
      "languageName": "csharp",
      "name": "csharp"
     }
    ]
   }
  }
 },
 "nbformat": 4,
 "nbformat_minor": 2
}
