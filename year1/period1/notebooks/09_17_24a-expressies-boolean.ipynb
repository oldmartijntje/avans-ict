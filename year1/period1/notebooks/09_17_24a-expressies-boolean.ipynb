{
 "cells": [
  {
   "cell_type": "markdown",
   "metadata": {},
   "source": [
    "# Expressies met booleans\n",
    "\n",
    "## Vergelijken van waarden\n",
    "\n",
    "In C# worden de vergelijkingsexpressies >, <, == en != gebruikt om relaties tussen waarden te evalueren. Hier is een uitleg van wat elk van deze operators doet:\n",
    "\n",
    "- Groter dan (>)\n",
    "  - Betekenis: Controleert of de waarde aan de linkerzijde groter is dan de waarde aan de rechterzijde.\n",
    "  - Voorbeeld: `5 > 3` evalueert naar true omdat 5 groter is dan 3.\n",
    "- Kleiner dan (<)\n",
    "  - Betekenis: Controleert of de waarde aan de linkerzijde kleiner is dan de waarde aan de rechterzijde.\n",
    "  - Voorbeeld: `3 < 5` evalueert naar true omdat 3 kleiner is dan 5.\n",
    "- Gelijk aan (==)\n",
    "  - Betekenis: Controleert of de waarde aan de linkerzijde gelijk is aan de waarde aan de rechterzijde.\n",
    "  - Voorbeeld: `5 == 5` evalueert naar true omdat beide waarden gelijk zijn.\n",
    "- Niet gelijk aan (!=)\n",
    "  - Betekenis: Controleert of de waarde aan de linkerzijde niet gelijk is aan de waarde aan de rechterzijde.\n",
    "  - Voorbeeld: `5 != 3` evalueert naar true omdat 5 niet gelijk is aan 3.\n",
    "- Groter dan of gelijk aan (>=)\n",
    "  - Betekenis: Controleert of de waarde aan de linkerzijde groter dan of gelijk is aan de waarde aan de rechterzijde.\n",
    "  - Voorbeeld: `5 >= 5` evalueert naar true omdat 5 gelijk is aan 5. 6 >= 5 evalueert ook naar true omdat 6 groter is dan 5.\n",
    "- Kleiner dan of gelijk aan (<=)\n",
    "  - Betekenis: Controleert of de waarde aan de linkerzijde kleiner dan of gelijk is aan de waarde aan de rechterzijde.\n",
    "  - Voorbeeld: `5 <= 5` evalueert naar true omdat 5 gelijk is aan 5. 4 <= 5 evalueert ook naar true omdat 4 kleiner is dan 5.\n",
    "\n",
    "Deze vergelijkingsexpressies kun je dus in een if-statement gebruiken om beslissingen te maken, en code alleen uit te voren als aan een conditie is voldaan\n",
    "\n",
    "```csharp\n",
    "if(age >= 18)\n",
    "{\n",
    "  Console.WriteLine(\"Je bent 18 jaar of ouder\");\n",
    "}\n",
    "```"
   ]
  },
  {
   "cell_type": "markdown",
   "metadata": {},
   "source": [
    "## Logische Operatoren\n",
    "\n",
    "Om 2 boolean waarden met elkaar te combineren kunnen we naast `==` en `!=`, ook de `&&` en `||` gebruiken (spreek uit als `en` en `of` in het Nederlands, of `and` en `or` in het Engels)\n",
    "\n",
    "- Logische EN (&&)\n",
    "  - Betekenis: Controleert of beide operanden true zijn. De gehele expressie evalueert naar true als en alleen als beide operanden true zijn.\n",
    "  - Voorbeeld:\n",
    "    true && true evalueert naar true.\n",
    "    true && false evalueert naar false.\n",
    "    false && true evalueert naar false.\n",
    "    false && false evalueert naar false.\n",
    "- Logische OF (||)\n",
    "  - Betekenis: Controleert of minstens één van de operanden true is. De gehele expressie evalueert naar true als minstens één operand true is.\n",
    "  - Voorbeeld:\n",
    "    true || true evalueert naar true.\n",
    "    true || false evalueert naar true.\n",
    "    false || true evalueert naar true.\n",
    "    false || false evalueert naar false.\n",
    "\n",
    "Deze operatoren zijn natuurlijk te combineren\n",
    "`if ((a > b && c < d) || (e == f))`: Voer bepaalde code uit als zowel a groter is dan b en c kleiner is dan d, of als e gelijk is aan f."
   ]
  },
  {
   "cell_type": "markdown",
   "metadata": {},
   "source": [
    "## Opdracht 1\n",
    "Maak een programma dat aangeeft of het vriest."
   ]
  },
  {
   "cell_type": "code",
   "execution_count": 3,
   "metadata": {
    "dotnet_interactive": {
     "language": "csharp"
    },
    "polyglot_notebook": {
     "kernelName": "csharp"
    }
   },
   "outputs": [
    {
     "name": "stdout",
     "output_type": "stream",
     "text": [
      "Het zonnetje schijnt, de lucht is blauw, teletubbies kom maar gauw.\n",
      "Het vriest\n"
     ]
    }
   ],
   "source": [
    "float temperatuur = 12.5f;\n",
    "Console.WriteLine(temperatuur < 0 ? \"Het vriest\" : \"Het zonnetje schijnt, de lucht is blauw, teletubbies kom maar gauw.\");\n",
    "temperatuur = -12.5f;\n",
    "Console.WriteLine(temperatuur < 0 ? \"Het vriest\" : \"Het zonnetje schijnt, de lucht is blauw, teletubbies kom maar gauw.\");\n",
    "// to do: jouw code"
   ]
  },
  {
   "cell_type": "markdown",
   "metadata": {},
   "source": [
    "## Opdracht 2\n",
    "Maak een programma dat aangeeft of een getal even of oneven is\n"
   ]
  },
  {
   "cell_type": "code",
   "execution_count": 21,
   "metadata": {
    "dotnet_interactive": {
     "language": "csharp"
    },
    "polyglot_notebook": {
     "kernelName": "csharp"
    }
   },
   "outputs": [
    {
     "name": "stdout",
     "output_type": "stream",
     "text": [
      "365 is oneven\n",
      "366 is even\n",
      "367 is oneven\n"
     ]
    }
   ],
   "source": [
    "int getal = 365;\n",
    "for (int index = 0; index <= getal; index++) {\n",
    "    if (index == getal) {\n",
    "        Console.WriteLine(index % 2 == 0 ? $\"{index} is even\" : $\"{index} is oneven\");\n",
    "    }\n",
    "}\n",
    "getal += 1;\n",
    "int even = 0;\n",
    "int onEven = 0;\n",
    "for (int index = 0; index < getal; index++) {\n",
    "    if (even == onEven) {\n",
    "        even += 1;\n",
    "    } else {\n",
    "        onEven += 1;\n",
    "    }\n",
    "}\n",
    "if (even > onEven) {\n",
    "    Console.WriteLine($\"{getal} is onEven\");\n",
    "} else {\n",
    "    Console.WriteLine($\"{getal} is even\");\n",
    "}\n",
    "getal += 1;\n",
    "Console.WriteLine(getal % 2 == 0 ? $\"{getal} is even\" : $\"{getal} is oneven\");\n"
   ]
  },
  {
   "cell_type": "markdown",
   "metadata": {},
   "source": [
    "## Opdracht 3\n",
    "Maak een programma dat aangeeft of iemand ouder is dan 18, gebaseerd op zijn geboortejaar"
   ]
  },
  {
   "cell_type": "code",
   "execution_count": 24,
   "metadata": {
    "dotnet_interactive": {
     "language": "csharp"
    },
    "polyglot_notebook": {
     "kernelName": "csharp"
    }
   },
   "outputs": [
    {
     "ename": "Error",
     "evalue": "(12,51): error CS1002: ; expected",
     "output_type": "error",
     "traceback": [
      "(12,51): error CS1002: ; expected"
     ]
    }
   ],
   "source": [
    "using Microsoft.DotNet.Interactive;\n",
    "string jaar = await Kernel.GetInputAsync(\"Enter your birthYear:\");\n",
    "var year = DateTime.Now.Year;\n",
    "try {\n",
    "    int i;\n",
    "    bool success = int.TryParse(jaar, out i);\n",
    "    if (!success) {\n",
    "        throw new Exception(\"No age\");\n",
    "    }\n",
    "    Console.WriteLine($\"Henk is {year - i} jaar oud;\");\n",
    "} catch {\n",
    "    Console.WriteLine(\"Henk heeft geen leeftijd.\");\n",
    "}"
   ]
  }
 ],
 "metadata": {
  "kernelspec": {
   "display_name": ".NET (C#)",
   "language": "C#",
   "name": ".net-csharp"
  },
  "language_info": {
   "name": "polyglot-notebook"
  },
  "polyglot_notebook": {
   "kernelInfo": {
    "defaultKernelName": "csharp",
    "items": [
     {
      "aliases": [],
      "languageName": "csharp",
      "name": "csharp"
     }
    ]
   }
  }
 },
 "nbformat": 4,
 "nbformat_minor": 2
}
