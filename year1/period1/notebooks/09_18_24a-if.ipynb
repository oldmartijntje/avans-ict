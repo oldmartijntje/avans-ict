{
 "cells": [
  {
   "cell_type": "markdown",
   "metadata": {},
   "source": [
    "# If-condities\n",
    "\n",
    "De meeste algoritmes werken op basis van keuzes. Hierbij kunnen er verschillende dingen gebeuren op basis van de keuzes die een algoritme maakt. Aan de basis van deze keuzes staat het if-statement. Het if-statement krijgt een expressie (de conditie) mee die waar of niet waar is, en op basis hiervan wordt een keuze gemaakt. Hierna kan een bepaald stuk code wel of niet uitgevoerd worden."
   ]
  },
  {
   "cell_type": "markdown",
   "metadata": {},
   "source": [
    "## In flowcharts\n",
    "\n",
    "Deze keuze kun je in een flowchart duidelijk laten zien doordat de verschillende code-paden ook 2 lijnen zijn. Voor de keuze zelf wordt een ruit-symbool gebruikt, waar de conditie-expressie in staat.\n",
    "\n",
    "```mermaid\n",
    "flowchart LR\n",
    "  A[double verbruik = 12.5] --> AA[zonnepaneelOpbrengst = 10.2]\n",
    "  AA --> B{verbruik < zonnepaneelOpbrengst}\n",
    "  B --true--> C([\"#quot;Er zijn voldoende zonnepanelen#quot;\"])\n",
    "  B --false--> E[end]\n",
    "  C --> E\n",
    "```\n",
    "\n",
    "Uit het ruit-symbool komen 2 uitgaande lijnen, waarbij een van de pijlen gemarkeerd is met true en de ander met false. Als de conditie waar is, gaat de flow door naar het blok onder de true-pijl, zoniet gaat de flow verder naar het blok onder de false-pijl. Uiteindelijk komen deze flows altijd weer samen."
   ]
  },
  {
   "cell_type": "markdown",
   "metadata": {},
   "source": [
    "## In Code\n",
    "\n",
    "Een if-statement wordt altijd opgevolgd door een conditie, tussen haakjes, met daarna een stuk code tussen accolades. De flowchart uit het eerdere hoofdstuk is in code.\n",
    "```csharp\n",
    "double verbruik = 12.5;\n",
    "double zonnepaneelOpbrengst = 10.2;\n",
    "if(verbruik < zonnePaneelOpbrengst)\n",
    "{\n",
    "    Console.WriteLine(\"Er zijn voldoende zonnepanelen\");\n",
    "}\n",
    "```\n",
    "\n",
    "Hierbij kunnen er dus meerdere regels code in het codeblock na de if staan. Let hierbij op:\n",
    "\n",
    "- De conditie staat tussen haakjes\n",
    "  ```csharp\n",
    "  if verbruik < opbrengst // fout\n",
    "  {\n",
    "\n",
    "  }\n",
    "  ```\n",
    "- De conditie is een boolean expressie\n",
    "  ```csharp\n",
    "  if(verbruik) // fout, verbruik is een getal\n",
    "  {\n",
    "\n",
    "  }\n",
    "  ```\n",
    "- Na de if moet **geen** `;` staan\n",
    "  ```csharp\n",
    "  if(verbruik < opbrengst); // fout, de code in de if wordt hier altijd uitgevoerd\n",
    "  {\n",
    "\n",
    "  }\n",
    "  ```\n",
    "- De code die na de `if` komt, staat tussen { }\n",
    "  ```csharp\n",
    "  if verbruik < opbrengst // fout\n",
    "    Console.WriteLine(\"Hallo\");\n",
    "    Console.WriteLine(\"Wereld\"); //deze regel wordt altijd uitgevoerd\n",
    "  ```\n"
   ]
  },
  {
   "cell_type": "markdown",
   "metadata": {},
   "source": [
    "## Nesting\n",
    "\n",
    "Het is ook mogelijk om in een if-blok, weer een if-blok te zetten. Dit is een handige manier om een complex if-statement te versimpelen, en kan soms nodig zijn als het [else](else) statement gebruikt word. Op deze manier kunnen verschillende condities samen afgevangen worden."
   ]
  },
  {
   "cell_type": "code",
   "execution_count": null,
   "metadata": {
    "dotnet_interactive": {
     "language": "csharp"
    },
    "polyglot_notebook": {
     "kernelName": "csharp"
    }
   },
   "outputs": [],
   "source": [
    "int leeftijd = 25;\n",
    "bool heeftGeldigBSN = true;\n",
    "string nationaliteit = \"Nederland\";\n",
    "\n",
    "if (leeftijd >= 18)\n",
    "{\n",
    "    Console.WriteLine(\"Je bent volwassen.\");\n",
    "\n",
    "    if (heeftGeldigBSN)\n",
    "    {\n",
    "        Console.WriteLine(\"Je hebt een geldig BSN.\");\n",
    "\n",
    "        if (nationaliteit == \"Nederland\")\n",
    "        {\n",
    "            Console.WriteLine(\"Je bent een Nederlandse burger.\");\n",
    "        }\n",
    "        else\n",
    "        {\n",
    "            Console.WriteLine(\"Je bent geen Nederlandse burger.\");\n",
    "        }\n",
    "    }\n",
    "    else\n",
    "    {\n",
    "        Console.WriteLine(\"Je hebt geen geldig BSN.\");\n",
    "    }\n",
    "}\n",
    "else\n",
    "{\n",
    "    Console.WriteLine(\"Je bent minderjarig.\");\n",
    "}"
   ]
  },
  {
   "cell_type": "markdown",
   "metadata": {},
   "source": [
    "## Opdracht 1\n",
    "Geef aan of het vriest (als output in de console). Als voorbeeld een flowchart"
   ]
  },
  {
   "cell_type": "markdown",
   "metadata": {},
   "source": [
    "```mermaid\n",
    "flowchart\n",
    "  A[double temperatuur = 12.5] --> B{temperatuur < 0>}\n",
    "  B --> C([\"#quot;Het vriest#quot;\"])\n",
    "  B --> E[end]\n",
    "  C --> E\n",
    "```"
   ]
  },
  {
   "cell_type": "code",
   "execution_count": null,
   "metadata": {
    "dotnet_interactive": {
     "language": "csharp"
    },
    "polyglot_notebook": {
     "kernelName": "csharp"
    }
   },
   "outputs": [],
   "source": [
    "float temperatuur = 12.5f;\n",
    "Console.WriteLine(temperatuur < 0 ? \"Het vriest\" : \"Het zonnetje schijnt, de lucht is blauw, teletubbies kom maar gauw.\");\n",
    "temperatuur = -12.5f;\n",
    "Console.WriteLine(temperatuur < 0 ? \"Het vriest\" : \"Het zonnetje schijnt, de lucht is blauw, teletubbies kom maar gauw.\");"
   ]
  },
  {
   "cell_type": "markdown",
   "metadata": {},
   "source": [
    "## Opdracht 2\n",
    "Som van 4 getallen, mits getal groter dan 0 (maak ook een flowchart)\n"
   ]
  },
  {
   "cell_type": "code",
   "execution_count": 6,
   "metadata": {
    "dotnet_interactive": {
     "language": "csharp"
    },
    "polyglot_notebook": {
     "kernelName": "csharp"
    }
   },
   "outputs": [],
   "source": [
    "int getal1 = 10;\n",
    "int getal2 = 100;\n",
    "int getal3 = -10;\n",
    "int[] values = new int[] {getal1, getal2, getal3};\n",
    "\n",
    "int total = 0;\n",
    "for (int index = 0; index < values.Length; index++) {\n",
    "    total += values[index] > 0 ? values[index] : 0;\n",
    "}\n",
    "Console.WriteLine(total)"
   ]
  },
  {
   "cell_type": "markdown",
   "metadata": {},
   "source": [
    "## Opdracht 3\n",
    "[fizz buzz](https://en.wikipedia.org/wiki/Fizz_buzz) is een spelletje om kinderen te leren delen. Schrijf een programma om voor een getal, volgens de regels van fizz buzz, de juiste term weer te geven in de console (en maak een flowchart)"
   ]
  },
  {
   "cell_type": "code",
   "execution_count": 3,
   "metadata": {
    "dotnet_interactive": {
     "language": "csharp"
    },
    "polyglot_notebook": {
     "kernelName": "csharp"
    }
   },
   "outputs": [
    {
     "name": "stdout",
     "output_type": "stream",
     "text": [
      "1 2 Fizz 4 Buzz Fizz 7 8 Fizz Buzz \n",
      "11 Fizz 13 14 FizzBuzz 16 17 Fizz 19 Buzz \n",
      "Fizz 22 23 Fizz Buzz 26 Fizz 28 29 FizzBuzz \n",
      "31 32 Fizz 34 Buzz Fizz 37 38 Fizz Buzz \n",
      "41 Fizz 43 44 FizzBuzz 46 47 Fizz 49 Buzz \n",
      "Fizz 52 53 Fizz Buzz 56 Fizz 58 59 FizzBuzz \n",
      "61 62 Fizz 64 Buzz Fizz 67 68 Fizz Buzz \n",
      "71 Fizz 73 74 FizzBuzz 76 77 Fizz 79 Buzz \n",
      "Fizz 82 83 Fizz Buzz 86 Fizz 88 89 FizzBuzz \n",
      "91 92 Fizz 94 Buzz Fizz 97 98 Fizz Buzz \n",
      "101 Fizz 103 104 FizzBuzz 106 107 Fizz 109 Buzz \n",
      "Fizz 112 113 Fizz Buzz 116 Fizz 118 119 FizzBuzz \n",
      "121 122 Fizz 124 Buzz Fizz 127 128 Fizz Buzz \n",
      "131 Fizz 133 134 FizzBuzz 136 137 Fizz 139 Buzz \n",
      "Fizz 142 143 Fizz Buzz 146 Fizz 148 149 FizzBuzz \n",
      "151 152 Fizz 154 Buzz Fizz 157 158 Fizz Buzz \n",
      "161 Fizz 163 164 FizzBuzz 166 167 Fizz 169 Buzz \n",
      "Fizz 172 173 Fizz Buzz 176 Fizz 178 179 FizzBuzz \n",
      "181 182 Fizz 184 Buzz Fizz 187 188 Fizz Buzz \n",
      "191 Fizz 193 194 FizzBuzz 196 197 Fizz 199 Buzz \n",
      "Fizz 202 203 Fizz Buzz 206 Fizz 208 209 FizzBuzz \n",
      "211 212 Fizz 214 Buzz Fizz 217 218 Fizz Buzz \n",
      "221 Fizz 223 224 FizzBuzz 226 227 Fizz 229 Buzz \n",
      "Fizz 232 233 Fizz Buzz 236 Fizz 238 239 FizzBuzz \n",
      "241 242 Fizz 244 Buzz Fizz 247 248 Fizz Buzz \n",
      "251 Fizz 253 254 FizzBuzz 256 257 Fizz 259 Buzz \n",
      "Fizz 262 263 Fizz Buzz 266 Fizz 268 269 FizzBuzz \n",
      "271 272 Fizz 274 Buzz Fizz 277 278 Fizz Buzz \n",
      "281 Fizz 283 284 FizzBuzz 286 287 Fizz 289 Buzz \n",
      "Fizz 292 293 Fizz Buzz 296 Fizz 298 299 FizzBuzz \n",
      "301 302 Fizz 304 Buzz Fizz 307 308 Fizz Buzz \n",
      "311 Fizz 313 314 FizzBuzz 316 317 Fizz 319 Buzz \n",
      "Fizz 322 323 Fizz Buzz 326 Fizz 328 329 FizzBuzz \n",
      "331 332 Fizz 334 Buzz Fizz 337 338 Fizz Buzz \n",
      "341 Fizz 343 344 FizzBuzz 346 347 Fizz 349 Buzz \n",
      "Fizz 352 353 Fizz Buzz 356 Fizz 358 359 FizzBuzz \n",
      "361 362 Fizz 364 Buzz "
     ]
    }
   ],
   "source": [
    "int getal = 0;//Todo: vraag de gebruiker (cast) en maak af;\n",
    "int loops = 365;\n",
    "for (int index = 1; index <= loops; index++) {\n",
    "    string returnValue = \"\";\n",
    "    returnValue += index % 3 == 0 ? \"Fizz\" : \"\";\n",
    "    returnValue += index % 5 == 0 ? \"Buzz\" : \"\";\n",
    "    returnValue += returnValue == \"\" ? index : \"\";\n",
    "    returnValue += \" \";\n",
    "    Console.Write(returnValue);\n",
    "    if (index % 10 == 0) {\n",
    "        Console.WriteLine();\n",
    "    }\n",
    "}"
   ]
  },
  {
   "cell_type": "markdown",
   "metadata": {},
   "source": [
    "## Opdracht 4\n",
    "\n",
    "In deze opdracht ga je een C# programma schrijven dat bepaalt of een gegeven jaar een schrikkeljaar is of niet.\n",
    "\n",
    "Een jaar is een schrikkeljaar als het aan één van de volgende twee voorwaarden voldoet:\n",
    "\n",
    "- Het jaar is deelbaar door 4.\n",
    "- Het jaar is deelbaar door 400, maar niet deelbaar door 4000.\n",
    "\n",
    "Probeer verschillende jaartallen in je programma te testen, zoals 2000, 1900, 2024, 2020. Er zijn een aantal jaren die lastiger zijn dan anderen om als schrikkeljaar"
   ]
  },
  {
   "cell_type": "code",
   "execution_count": 5,
   "metadata": {
    "dotnet_interactive": {
     "language": "csharp"
    },
    "polyglot_notebook": {
     "kernelName": "csharp"
    }
   },
   "outputs": [
    {
     "name": "stdout",
     "output_type": "stream",
     "text": [
      "2000 = True\n",
      "2024 = True\n",
      "2020 = True\n",
      "4000 = True\n",
      "1900 = True\n",
      "2005 = False\n"
     ]
    }
   ],
   "source": [
    "int jaar = 2024;\n",
    "\n",
    "bool isSchrikkelJaar(int jaar) {\n",
    "    return (jaar % 400 == 0 && jaar % 4000 != 0) || jaar % 4 == 0;\n",
    "}\n",
    "\n",
    "Console.WriteLine($\"{2000} = {isSchrikkelJaar(2000)}\");\n",
    "Console.WriteLine($\"{2024} = {isSchrikkelJaar(2024)}\");\n",
    "Console.WriteLine($\"{2020} = {isSchrikkelJaar(2020)}\");\n",
    "Console.WriteLine($\"{4000} = {isSchrikkelJaar(4000)}\");\n",
    "Console.WriteLine($\"{1900} = {isSchrikkelJaar(1900)}\");\n",
    "Console.WriteLine($\"{2005} = {isSchrikkelJaar(2005)}\");"
   ]
  }
 ],
 "metadata": {
  "kernelspec": {
   "display_name": ".NET (C#)",
   "language": "C#",
   "name": ".net-csharp"
  },
  "language_info": {
   "name": "polyglot-notebook"
  },
  "polyglot_notebook": {
   "kernelInfo": {
    "defaultKernelName": "csharp",
    "items": [
     {
      "aliases": [],
      "languageName": "csharp",
      "name": "csharp"
     }
    ]
   }
  }
 },
 "nbformat": 4,
 "nbformat_minor": 2
}
