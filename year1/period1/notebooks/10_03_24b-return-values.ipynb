{
 "cells": [
  {
   "cell_type": "markdown",
   "metadata": {},
   "source": [
    "# Methodes - return waarde\n",
    "Net zoals het meegeven van *parameters*, kunnen we ook een *return waarde* teruggeven. Deze waarde kunnen we dan gebruiken op de plek waar we de **methode** aanroepen. \n",
    "Je geeft een *return waarde* terug. Door ergens in het *code blok* de *return statement* te plaatsen. Onthoudt wel als er nog code na de *return statement* komt deze niet wordt uitgevoerd. De *return statement* sluit als het waren de **methode** af."
   ]
  },
  {
   "cell_type": "code",
   "execution_count": 14,
   "metadata": {
    "dotnet_interactive": {
     "language": "csharp"
    },
    "polyglot_notebook": {
     "kernelName": "csharp"
    }
   },
   "outputs": [
    {
     "name": "stdout",
     "output_type": "stream",
     "text": [
      "the price is about 400\r\n"
     ]
    }
   ],
   "source": [
    "string GetPriceOfANeutron(){\n",
    "    var price = CalculatePrice(4);\n",
    "    return $\"the price is about {price}\";\n",
    "}\n",
    "\n",
    "int CalculatePrice(int numberOfNeutrons){\n",
    "    return 100 * numberOfNeutrons;\n",
    "   // deze code wordt nooit uitgevoerd omdat hierboven al een return wordt gegeven.\n",
    "    int newPrice = numberOfNeutrons * 100 + 23;\n",
    "    Console.WriteLine(\"something\");\n",
    "}\n",
    "\n",
    "var message = GetPriceOfANeutron();\n",
    "Console.WriteLine(message)"
   ]
  },
  {
   "cell_type": "markdown",
   "metadata": {},
   "source": [
    "Net zoals bij de *parameters* kun je alle variabelen teruggeven. Maar ook *objecten* en **methodes**. \n",
    "Je kan niet meerdere *variabelen* terug geven. Dit mag dus niet:"
   ]
  },
  {
   "cell_type": "code",
   "execution_count": 15,
   "metadata": {
    "dotnet_interactive": {
     "language": "csharp"
    },
    "polyglot_notebook": {
     "kernelName": "csharp"
    }
   },
   "outputs": [],
   "source": [
    "string int GetPriceOfANeutron(){\n",
    "     var price = CalculatePrice(4);\n",
    "    return $\"the price is about {price}\" 3;\n",
    " }"
   ]
  },
  {
   "cell_type": "markdown",
   "metadata": {},
   "source": [
    "Dit zal niet vaak in je uiteindelijke code terecht komen. Doordat je compiler dan een foutmelding geeft.\n",
    "Je kan ook meerdere *return statement* in een **methode** plaatsen. Meestal gaat dit in combinatie met *if-statement*. Om zo te voorkomen dat je niet bereikbare code in een methode hebt staan."
   ]
  },
  {
   "cell_type": "code",
   "execution_count": 16,
   "metadata": {
    "dotnet_interactive": {
     "language": "csharp"
    },
    "polyglot_notebook": {
     "kernelName": "csharp"
    }
   },
   "outputs": [],
   "source": [
    "bool isSolarPanelLoading(bool sunIsShining, bool solarPanelIsOn, bool batteryIsFull){\n",
    "    if(sunIsShining && solarPanelIsOn && !batteryIsFull){\n",
    "        return true; // deze return is bereikbaar als de expressie waar is\n",
    "    }\n",
    "    return false; // deze return is ook bereikbaar maar wordt niet uitgevoerd als de expressie waar is\n",
    "}"
   ]
  },
  {
   "cell_type": "markdown",
   "metadata": {},
   "source": [
    "Nu zijn er methodes die geen *return waardes* teruggeven. Dit geef je aan door *void* voor de methode naam te zetten. Hierdoor weet de computer dat hij na uitvoeren van deze methode niks terug hoeft te verwachten. \n",
    "*Console.WriteLine* is hier een voorbeeld van. Die heeft als enige taak de tekst te schrijven naar een output. Heeft verder geen taak om iets met de string te doen en deze dan terug te geven."
   ]
  },
  {
   "cell_type": "code",
   "execution_count": 17,
   "metadata": {
    "dotnet_interactive": {
     "language": "csharp"
    },
    "polyglot_notebook": {
     "kernelName": "csharp"
    }
   },
   "outputs": [],
   "source": [
    "void WriteLine (string format, object arg0, object arg1) \n",
    "{\n",
    "    //code\n",
    "}"
   ]
  },
  {
   "cell_type": "markdown",
   "metadata": {},
   "source": [
    "\n",
    "\n",
    "# Opdracht 1\n",
    "We gaan de opdracht 1 uit [Parameters](./parameters.ipynb) uitbreiden met *return waarde*. In de nieuwe **methode** moet de *return waarde* een decimal zijn."
   ]
  },
  {
   "cell_type": "code",
   "execution_count": 2,
   "metadata": {
    "dotnet_interactive": {
     "language": "csharp"
    },
    "polyglot_notebook": {
     "kernelName": "csharp"
    }
   },
   "outputs": [
    {
     "name": "stdout",
     "output_type": "stream",
     "text": [
      "Bro, das veel kuub, je bent gewaarschuwd.\n",
      "123.2\n"
     ]
    }
   ],
   "source": [
    "static decimal waterPrice(decimal prijs, short kuub, double belasting, string waarschuwing) {\n",
    "\n",
    "    if (kuub > 50) {\n",
    "        Console.WriteLine(waarschuwing);\n",
    "    }\n",
    "    return (decimal)(kuub * Convert.ToDouble(prijs) * (belasting+ 1));\n",
    "}\n",
    "\n",
    "Console.WriteLine(waterPrice(2, 55, 0.12, \"Bro, das veel kuub, je bent gewaarschuwd.\"));"
   ]
  },
  {
   "cell_type": "markdown",
   "metadata": {},
   "source": [
    "# Opdracht 2\n",
    "We gaan de opdracht 2 uit [Parameters](./parameters.ipynb) uitbreiden met *return waarde*. In de nieuwe **methode** moet de *return waarde* een **decimal** zijn."
   ]
  },
  {
   "cell_type": "code",
   "execution_count": 19,
   "metadata": {
    "dotnet_interactive": {
     "language": "csharp"
    },
    "polyglot_notebook": {
     "kernelName": "csharp"
    }
   },
   "outputs": [],
   "source": [
    "static decimal electricityPrice(long kwh, float price) {\n",
    "    decimal taxesPercentage = kwh > 100 ? 1.04M : 1.08M;\n",
    "    return (decimal)(kwh * price * (float)(taxesPercentage / 100 + 1));\n",
    "}\n",
    "\n",
    "Console.WriteLine(electricityPrice(235, 0.23f))"
   ]
  },
  {
   "cell_type": "markdown",
   "metadata": {},
   "source": [
    "# Opdracht 3\n",
    "Nu we de methodes van opdracht 1 en 2 hebben. Moet er een derde **methode** bij komen. Deze **methode** geeft de resultaten van de **methodes** uit opdracht 1 en 2 weer in de *Console*. In methode 3 staan de **variabelen** toegewezen die je nodig hebt voor de twee **methodes**."
   ]
  },
  {
   "cell_type": "code",
   "execution_count": 8,
   "metadata": {
    "dotnet_interactive": {
     "language": "csharp"
    },
    "polyglot_notebook": {
     "kernelName": "csharp"
    }
   },
   "outputs": [
    {
     "name": "stdout",
     "output_type": "stream",
     "text": [
      "€112 - Water\n",
      "€54.61212 - Electricity\n"
     ]
    }
   ],
   "source": [
    "billingPriceCalculator();\n",
    "\n",
    "static decimal waterPrice(decimal prijs, short kuub, double belasting, string waarschuwing) {\n",
    "\n",
    "    if (kuub > 50) {\n",
    "        Console.WriteLine(waarschuwing);\n",
    "    }\n",
    "    return (decimal)(kuub * Convert.ToDouble(prijs) * (belasting+ 1));\n",
    "}\n",
    "\n",
    "static decimal electricityPrice(long kwh, float price) {\n",
    "    decimal taxesPercentage = kwh > 100 ? 1.04M : 1.08M;\n",
    "    return (decimal)(kwh * price * (float)(taxesPercentage / 100 + 1));\n",
    "}\n",
    "\n",
    "static void billingPriceCalculator() {\n",
    "    Console.WriteLine($\"€{waterPrice(2, 50, 0.12, \"Bro, das veel kuub, je bent gewaarschuwd.\")} - Water\");\n",
    "    Console.WriteLine($\"€{electricityPrice(235, 0.23f)} - Electricity\");\n",
    "}"
   ]
  }
 ],
 "metadata": {
  "kernelspec": {
   "display_name": ".NET (C#)",
   "language": "C#",
   "name": ".net-csharp"
  },
  "language_info": {
   "name": "polyglot-notebook"
  },
  "polyglot_notebook": {
   "kernelInfo": {
    "defaultKernelName": "csharp",
    "items": [
     {
      "aliases": [],
      "languageName": "csharp",
      "name": "csharp"
     }
    ]
   }
  }
 },
 "nbformat": 4,
 "nbformat_minor": 2
}
