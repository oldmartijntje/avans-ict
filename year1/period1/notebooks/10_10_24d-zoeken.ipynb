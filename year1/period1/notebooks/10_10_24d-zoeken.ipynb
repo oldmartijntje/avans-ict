{
 "cells": [
  {
   "cell_type": "markdown",
   "metadata": {},
   "source": [
    "# Zoeken\n",
    "Soms wil je graag weten waar een bepaald element zich in een lijst bevindt. Er kunnen verschillende algoritmen worden gebruikt om door een lijst te zoeken. "
   ]
  },
  {
   "cell_type": "markdown",
   "metadata": {},
   "source": [
    "## Lineair zoeken\n",
    "Lineair zoeken betekent dat een lijst element voor element wordt doorlopen totdat het gezochte element is gevonden. Vervolgens wordt de positie van dat element in de lijst teruggegeven. \n",
    "\n",
    "In code zou zo'n zoekfunctie er als volgt uit zien:\n",
    "```csharp\n",
    "int LinearSearch(List<int> lijst, int target)\n",
    "{\n",
    "    for (int i = 0; i < lijst.Count; i++)\n",
    "    {\n",
    "        if (lijst[i] == target)\n",
    "        {\n",
    "            return i;\n",
    "        }\n",
    "    }\n",
    "    return -1; // target niet gevonden, dus er wordt een niet-bestaande index teruggegeven\n",
    "}\n",
    "```\n",
    "\n",
    "De methode heeft de lijst nodig en het gezochte element, de target. Vervolgens gaat het alle elementen langs en wordt er gekeken of het element in de lijst overeenkomt met de target. Zo ja wordt de index van dit element teruggegeven. \n",
    "\n",
    "Deze zoekmethode is niet heel efficiënt. Als het element dat je zoekt aan het eind van de lijst staat of er zelfs helemaal niet in zit, moet de for loop alle elementen langs voordat het een resultaat kan geven. Vooral voor grote lijsten kan dit zorgen voor een traag programma. "
   ]
  },
  {
   "cell_type": "markdown",
   "metadata": {},
   "source": [
    "## Binair zoeken\n",
    "Er zijn ook manieren om efficiënter te zoeken dan elk element uit een lijst langs te gaan. Een voorbeeld daarvan is binair zoeken. \\\n",
    "Binair zoeken kijkt naar het midden van een lijst en bepaalt of een element eerder in de lijst zou moeten voorkomen of juist verderop in de lijst zit. \\\n",
    "Stel je bijvoorbeeld voor dat je de volgende lijst hebt: \n",
    "```csharp\n",
    "{ 0, 3, 4, 5, 6, 8, 10, 13, 15, 16, 17 }\n",
    "```\n",
    "en je target is 13. \\\n",
    "De lijst heeft 11 elementen, dus het zoeken begint bij 6e element (met een index van 5):\n",
    "```csharp\n",
    " |               ↓                    |\n",
    "{ 0, 3, 4, 5, 6, 8, 10, 13, 15, 16, 17 }\n",
    "```\n",
    "Het 6e element heeft een waarde van 8. \\\n",
    "13 is groter dan 8, dus de zoekfunctie weet nu dat het element later in de lijst pas zal voorkomen, het hoeft nu alleen nog maar te kijken naar de elementen die na 8 komen:\n",
    "```csharp\n",
    "                   |        ↓         |\n",
    "{ 0, 3, 4, 5, 6, 8, 10, 13, 15, 16, 17 }\n",
    "```\n",
    "13 is kleiner dan 15, dus nu weet de zoekfunctie dat het naar het stuk van de lijst vóór dit element moet zoeken. \\\n",
    "Er is nu een even aantal aan elementen, dus er is geen duidelijk midden meer. Het hangt een beetje af van je functie hoe dit wordt afgerond. Meestal wordt er gewoon een integer van gemaakt, wat betekent (denk terug aan [expressies met getallen](../variabelen-expressies/expressies-getallen.ipynb)) dat het getal naar beneden wordt afgerond:\n",
    "```csharp\n",
    "                   |↓     |\n",
    "{ 0, 3, 4, 5, 6, 8, 10, 13, 15, 16, 17 }\n",
    "```\n",
    "10 is kleiner dan 13, dus die mag er ook af:\n",
    "```csharp\n",
    "                       |↓ |\n",
    "{ 0, 3, 4, 5, 6, 8, 10, 13, 15, 16, 17 }\n",
    "```\n",
    "13 is gelijk aan 13, het element is gevonden!"
   ]
  },
  {
   "cell_type": "markdown",
   "metadata": {},
   "source": [
    "Er is wel een belangrijke voorwaarde waar een lijst aan moet voldoen voordat je binair zoeken kan gebruiken. Bij lineair zoeken maakt de volgorde van elementen niet uit, de functie loopt alle elementen langs, maar bij binair zoeken wordt er niet meer naar alle elementen gekeken. Een lijst moet dus *gesorteerd* zijn voordat je een binair zoekalgoritme kan gebruiken. \n",
    "\n",
    "Een methode om binair door een lijst te zoeken zou er als volgt uit kunnen zien:\n",
    "```csharp\n",
    "int BinarySearch(List<int> lijst, int target)\n",
    "{\n",
    "    int left = 0;\n",
    "    int right = lijst.Count - 1;\n",
    "\n",
    "    while (left <= right)\n",
    "    {\n",
    "        int mid = left + (right - left) / 2; // bepaal het midden van de huidige sectie\n",
    "\n",
    "        if (lijst[mid] == target)\n",
    "        {\n",
    "            return mid; // index van de target gevonden!\n",
    "        }\n",
    "        else if (lijst[mid] < target)\n",
    "        {\n",
    "            left = mid + 1; // zoek rechts van het midden\n",
    "        }\n",
    "        else\n",
    "        {\n",
    "            right = mid - 1; // zoek links van het midden\n",
    "        }\n",
    "    }\n",
    "\n",
    "    return -1; // target niet gevonden\n",
    "}\n",
    "```\n",
    "Er wordt gekeken naar het midden van de aangegeven sectie. Als deze gelijk is aan de target, wordt de index van dit element teruggegeven. Zo niet, wordt gekeken of hij boven of onder de target ligt. Als hij hoger is dan het midden, wordt de linkerkant van de sectie op de index na het midden gezet. Als hij lager is dan het midden, wordt de rechterkant van de sectie op de index voor het midden gezet. Dit blijft doorgaan tot het element gevonden is, of de sectie geen elementen meer heeft. \n",
    "\n",
    "Voor meer informatie over binair zoeken kan je naar [de wikipedia](https://nl.wikipedia.org/wiki/Bisectie) kijken, en naar de volgende kennisclip:\n",
    "\n",
    "<iframe id=\"kaltura_player\" type=\"text/javascript\"  src='https://api.de.kaltura.com/p/10066/embedPlaykitJs/uiconf_id/23452529?iframeembed=true&entry_id=0_dkbkhu7q&config[provider]={\"widgetId\":\"0_8enbgqcl\"}'  style=\"width: 608px;height: 402px;border: 0;\" allowfullscreen webkitallowfullscreen mozAllowFullScreen allow=\"autoplay *; fullscreen *; encrypted-media *\" sandbox=\"allow-forms allow-same-origin allow-scripts allow-top-navigation allow-pointer-lock allow-popups allow-modals allow-orientation-lock allow-popups-to-escape-sandbox allow-presentation allow-top-navigation-by-user-activation\" title=\"Kaltura Player\"></iframe>"
   ]
  },
  {
   "cell_type": "markdown",
   "metadata": {},
   "source": [
    "# Opdrachten"
   ]
  },
  {
   "cell_type": "markdown",
   "metadata": {},
   "source": [
    "## Opdracht 1\n",
    "Schrijf een lineaire zoekfunctie die de index van het laatste voorkomen van een bepaald element uit een lijst terug geeft. \\\n",
    "Als je dus de volgende lijst als target 2 meegeeft, moet jouw methode een index van 7 teruggeven. "
   ]
  },
  {
   "cell_type": "code",
   "execution_count": 9,
   "metadata": {
    "dotnet_interactive": {
     "language": "csharp"
    },
    "polyglot_notebook": {
     "kernelName": "csharp"
    }
   },
   "outputs": [
    {
     "name": "stdout",
     "output_type": "stream",
     "text": [
      "7\r\n"
     ]
    }
   ],
   "source": [
    "List<int> numbers = [4, 5, 2, 8, 9, 10, 45, 2, 7, 6];\n",
    "Console.WriteLine(findLastIndex(numbers, 2));\n",
    "// Jouw lineaire zoekfunctie hier\n",
    "\n",
    "static int findLastIndex(List<int> numbers, int valueToFind) {\n",
    "    int lastIndex = -1; // -1  == not found\n",
    "    for (int i = 0; i < numbers.Count; i ++) {\n",
    "        if (numbers[i]== valueToFind) {\n",
    "            lastIndex = i;\n",
    "        }\n",
    "    }\n",
    "    return lastIndex;\n",
    "}"
   ]
  },
  {
   "cell_type": "markdown",
   "metadata": {},
   "source": [
    "## Opdracht 2\n",
    "Schrijf een binaire zoekfunctie die het eerste voorkomen van de index van `\"Cherry\"` (3) teruggeeft. "
   ]
  },
  {
   "cell_type": "code",
   "execution_count": 8,
   "metadata": {
    "dotnet_interactive": {
     "language": "csharp"
    },
    "polyglot_notebook": {
     "kernelName": "csharp"
    }
   },
   "outputs": [
    {
     "name": "stdout",
     "output_type": "stream",
     "text": [
      "First Apple is at index 0\n",
      "First Cherry is at index 3\n"
     ]
    }
   ],
   "source": [
    "List<string> fruits = [\"Apple\", \"Apple\", \"Banana\", \"Cherry\", \"Cherry\", \"Cherry\", \"Grape\", \"Kiwi\", \"Lemon\", \"Mango\", \"Orange\", \"Orange\", \"Orange\", \"Peach\", \"Pear\", \"Pear\", \"Strawberry\", \"Watermelon\"];\n",
    "fruits.Sort();\n",
    "Console.WriteLine($\"First Apple is at index {findFirstByBinarySearch(fruits, \"Apple\")}\");\n",
    "Console.WriteLine($\"First Cherry is at index {findFirstByBinarySearch(fruits, \"Cherry\")}\");\n",
    "\n",
    "static int findFirstByBinarySearch(List<string> listOfItems, string findItem) {\n",
    "    int index = -1;\n",
    "    int min = 0;\n",
    "    int max = listOfItems.Count;\n",
    "    int lastIndex = -1;\n",
    "    while (min < max) {\n",
    "        int testIndex = (max - min) / 2 + min;\n",
    "        if (listOfItems[testIndex] == findItem) {\n",
    "            index = testIndex;\n",
    "            max = testIndex;\n",
    "        } else if (string.Compare(listOfItems[testIndex], findItem) < 0) {\n",
    "            min = testIndex;\n",
    "        } else {\n",
    "            max = testIndex;\n",
    "        }\n",
    "        if (lastIndex == testIndex) {\n",
    "            min = max;\n",
    "        }\n",
    "        lastIndex = testIndex;\n",
    "    }\n",
    "    return index;\n",
    "}\n",
    "\n",
    "// Jouw binaire zoekfunctie hier"
   ]
  },
  {
   "cell_type": "markdown",
   "metadata": {},
   "source": [
    "Schrijf nu een methode die de range teruggeeft van indexen waar een element zich bevindt. "
   ]
  },
  {
   "cell_type": "code",
   "execution_count": null,
   "metadata": {
    "dotnet_interactive": {
     "language": "csharp"
    },
    "polyglot_notebook": {
     "kernelName": "csharp"
    }
   },
   "outputs": [],
   "source": []
  }
 ],
 "metadata": {
  "kernelspec": {
   "display_name": ".NET (C#)",
   "language": "C#",
   "name": ".net-csharp"
  },
  "language_info": {
   "name": "polyglot-notebook"
  },
  "polyglot_notebook": {
   "kernelInfo": {
    "defaultKernelName": "csharp",
    "items": [
     {
      "aliases": [],
      "languageName": "csharp",
      "name": "csharp"
     }
    ]
   }
  }
 },
 "nbformat": 4,
 "nbformat_minor": 2
}
