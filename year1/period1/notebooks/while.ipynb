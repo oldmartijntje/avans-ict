{
 "cells": [
  {
   "cell_type": "markdown",
   "metadata": {},
   "source": [
    "# While lussen\n",
    "\n",
    "De while-lus is een herhalingsstructuur die een stuk code blijft herhalen zolang een conditie waar is. De while-constructie is generieker dan een for-lus, en kan ook gebruikt worden om een for-lus na te maken, maar het is gemakkelijker om met een while-lus perongeluk een eindeloze lus te maken. Probeer daarom als vantevoren vast staat hoe vaak iets herhaald moet worden een for-lus te gebruiken.\n",
    "\n",
    "De while lus heeft de volgende syntax\n",
    "\n",
    "```code\n",
    "while(conditie)\n",
    "{\n",
    "    // Code om uit te voeren\n",
    "}\n",
    "```\n",
    "De conditie hierin is net zoals bij de for lus een boolean expressie. Zolang deze expressie waar is, blijft de code uitgevoerd worden. Deze expressie wordt aan het begin van de lus getest. Dit betekent dat als de expressie voor de lus false is, de code in de lus helemaal niet uitgevoerd wordt. Een voorbeeld van het gebruik van de while lus is bijvoorbeeld de onderstaande code."
   ]
  },
  {
   "cell_type": "code",
   "execution_count": null,
   "metadata": {
    "dotnet_interactive": {
     "language": "csharp"
    },
    "polyglot_notebook": {
     "kernelName": "csharp"
    }
   },
   "outputs": [],
   "source": [
    "int getal = 1337;\n",
    "while (getal > 0)\n",
    "{\n",
    "    Console.WriteLine(getal);\n",
    "    getal = getal / 10;\n",
    "}"
   ]
  },
  {
   "cell_type": "markdown",
   "metadata": {},
   "source": [
    "De while zal hierbij doorlopen totdat het getal 0 wordt, en zal dus 4 stappen doen."
   ]
  },
  {
   "cell_type": "markdown",
   "metadata": {},
   "source": [
    "## Flowchart\n",
    "\n",
    "Om de while in een flowchart voor te stellen, gebruiken we een soorgelijk symbool als de if, maar dan ook met een pijl die terug gaat (zie ook de for-lus).\n",
    "\n",
    "```mermaid\n",
    "---\n",
    "config:\n",
    "    flowchart:\n",
    "        defaultRenderer: elk\n",
    "---\n",
    "\n",
    "flowchart TD\n",
    "    subgraph  \n",
    "    A[int getal = 1337] --> B\n",
    "    B{{\"getal > 0\"}} --true--> C\n",
    "    C(getal) --> D\n",
    "    D[getal = getal / 10] --> B\n",
    "    end\n",
    "    B --false--> E(\"Done\")\n",
    "```\n"
   ]
  },
  {
   "cell_type": "markdown",
   "metadata": {},
   "source": [
    "## Eindeloze lussen\n",
    "\n",
    "Het is met een while lus gemakkelijk om een eindeloze lus te maken. Let er op dat de variabelen die in de conditie van de while staan, ook in de code van de lus aangepast worden. Als de variabelen van de conditie niet in de lus aangepast worden, zal de lusconditie altijd hetzelfde blijven, en blijft de lus dus eindeloos lang uitvoeren"
   ]
  },
  {
   "cell_type": "markdown",
   "metadata": {},
   "source": [
    "## Opdracht 1\n",
    "\n",
    "Schrijf een algoritme om het aantal stappen dat nodig is om het [vermoeden van collatz](https://nl.wikipedia.org/wiki/Vermoeden_van_Collatz) van een getal uit te printen. Het vermoeden van collatz bestaat uit 2 regels die op een getal toegepast kunnen wordne\n",
    "- Als n even is, deel het door 2\n",
    "- Als n oneven is, vermenigvuldig het met 3 en tel er 1 bij op\n",
    "Het vermoeden van Collatz is dat ieder getal n, waarbij n een geheel getal is groter dan 1, bij herhaling van deze stappen op 1 uitkomt. \n",
    "\n",
    "Schrijf een algoritme dat berekend hoeveel stappen er nodig zijn om naar 1 te komen vanaf het getal 27"
   ]
  },
  {
   "cell_type": "code",
   "execution_count": null,
   "metadata": {
    "dotnet_interactive": {
     "language": "csharp"
    },
    "polyglot_notebook": {
     "kernelName": "csharp"
    }
   },
   "outputs": [],
   "source": []
  },
  {
   "cell_type": "markdown",
   "metadata": {},
   "source": [
    "## Opdracht 2\n",
    "\n",
    "Voor 2 getallen kan de grootste gemeenschappelijke deler (ggd) berekend worden. De ggd is het grootste getal waar deze twee getallen door gedeeld kunnen worden.\n",
    "- De ggd van 15 en 20 is 5\n",
    "- De ggd van 10 en 3 is 1\n",
    "- De ggd van 100 en 20 is 20\n",
    "\n",
    "Om de ggd te berekenen kun je het [Algoritme van Euclides](https://nl.wikipedia.org/wiki/Algoritme_van_Euclides) gebruiken\n",
    "\n",
    "Ontwerp een algoritme in een flowchart en maak de code voor dit algoritme"
   ]
  },
  {
   "cell_type": "code",
   "execution_count": null,
   "metadata": {
    "dotnet_interactive": {
     "language": "csharp"
    },
    "polyglot_notebook": {
     "kernelName": "csharp"
    }
   },
   "outputs": [],
   "source": []
  },
  {
   "cell_type": "markdown",
   "metadata": {},
   "source": [
    "## Opdracht 3\n",
    "Bereken de som van de cijfers in een getal"
   ]
  },
  {
   "cell_type": "code",
   "execution_count": null,
   "metadata": {
    "dotnet_interactive": {
     "language": "csharp"
    },
    "polyglot_notebook": {
     "kernelName": "csharp"
    }
   },
   "outputs": [],
   "source": []
  },
  {
   "cell_type": "markdown",
   "metadata": {},
   "source": [
    "## Opdracht 4\n",
    "Hoger / Lager: jij neemt een getal onder de 100 in je hoofd, en het algoritme gaat in zo min mogelijk stappen raden wat je nummer is"
   ]
  },
  {
   "cell_type": "code",
   "execution_count": null,
   "metadata": {
    "dotnet_interactive": {
     "language": "csharp"
    },
    "polyglot_notebook": {
     "kernelName": "csharp"
    }
   },
   "outputs": [],
   "source": []
  }
 ],
 "metadata": {
  "kernelspec": {
   "display_name": ".NET (C#)",
   "language": "C#",
   "name": ".net-csharp"
  },
  "language_info": {
   "name": "polyglot-notebook"
  },
  "polyglot_notebook": {
   "kernelInfo": {
    "defaultKernelName": "csharp",
    "items": [
     {
      "aliases": [],
      "languageName": "csharp",
      "name": "csharp"
     }
    ]
   }
  }
 },
 "nbformat": 4,
 "nbformat_minor": 2
}
