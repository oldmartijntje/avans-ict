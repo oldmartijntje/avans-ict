{
 "cells": [
  {
   "cell_type": "markdown",
   "metadata": {},
   "source": [
    "# Methode parameters\n",
    "Zoals in [Methodes](/methodes/methodes.ipynb) is aangegeven. Kan een **methode** ook parameters bevatten. Een parameter is een variabel die gebruikt kan worden in de **methode** *scope*. [Hier vind je meer informatie over Scopes](/variabelen-expressies/scopes.ipynb). In je **methode** aanroep geef je deze parameters aan."
   ]
  },
  {
   "cell_type": "code",
   "execution_count": 1,
   "metadata": {
    "dotnet_interactive": {
     "language": "csharp"
    },
    "polyglot_notebook": {
     "kernelName": "csharp"
    }
   },
   "outputs": [],
   "source": [
    "CalculateEnergyConsumption(23, 47, 12);\n",
    "\n",
    "int CalculateEnergyConsumption(int gasConsumption, int elektricityConsumption, int waterConsumption){\n",
    "    return gasConsumption + elektricityConsumption + waterConsumption;\n",
    "}"
   ]
  },
  {
   "cell_type": "markdown",
   "metadata": {},
   "source": [
    "De parameters die je meegeeft kunnen alle [datatypes(int, string, float, char, list, array, etc)](/variabelen-expressies/datatypes.ipynb) zijn. Maar je kan bijvoorbeeld ook **methodes** meegeven of *linq queries* maar dat is voor volgend jaar. Hier toch een voorbeeld hoe je dat kan doen:"
   ]
  },
  {
   "cell_type": "code",
   "execution_count": 2,
   "metadata": {
    "dotnet_interactive": {
     "language": "csharp"
    },
    "polyglot_notebook": {
     "kernelName": "csharp"
    }
   },
   "outputs": [
    {
     "ename": "Error",
     "evalue": "(1,88): error CS1002: ; expected",
     "output_type": "error",
     "traceback": [
      "(1,88): error CS1002: ; expected"
     ]
    }
   ],
   "source": [
    "void RunMethod(Func<double, double, double> berekenMethode, double kracht, double tijd)"
   ]
  },
  {
   "cell_type": "markdown",
   "metadata": {},
   "source": [
    "Hou altijd wel rekening met de leesbaarheid en voeg geen 100 parameters toe. In dit soort gevallen heb je *objecten* nodig. Maar dat is nog niet in de scope van deze periode.\n",
    "\n",
    "## Opdracht 1\n",
    "We gaan opdracht 1 in [Methodes](/methodes/methodes.ipynb) uitbreiden. Hierbij moet aan de volgende requirements worden voldaan:\n",
    "- De waterprijs kan ik als decimaal meegeven\n",
    "- de hoeveelheid kuub in een int16\n",
    "- belasting is een double\n",
    "- string met een waarschuwingsbericht dat je te veel gas gebruikt > 50 kuub\n",
    "- methode output de prijs in de console plus de waarschuwing als het breekpunt wordt bereikt"
   ]
  },
  {
   "cell_type": "code",
   "execution_count": 4,
   "metadata": {
    "dotnet_interactive": {
     "language": "csharp"
    },
    "polyglot_notebook": {
     "kernelName": "csharp"
    }
   },
   "outputs": [
    {
     "name": "stdout",
     "output_type": "stream",
     "text": [
      "Bro, das veel kuub, je bent gewaarschuwd.\n",
      "123.20000000000002\n"
     ]
    }
   ],
   "source": [
    "static void waterPrice(decimal prijs, short kuub, double belasting, string waarschuwing) {\n",
    "\n",
    "    if (kuub > 50) {\n",
    "        Console.WriteLine(waarschuwing);\n",
    "    }\n",
    "    Console.WriteLine(kuub * Convert.ToDouble(prijs) * (belasting+ 1));\n",
    "}\n",
    "waterPrice(2, 55, 0.12, \"Bro, das veel kuub, je bent gewaarschuwd.\")"
   ]
  },
  {
   "cell_type": "markdown",
   "metadata": {},
   "source": [
    "## Opdracht 2\n",
    "We gaan opdracht 2 in [Methodes](/methodes/methodes.ipynb) uitbreiden. Hierbij moet aan de volgende requirements worden voldaan:\n",
    "- het aantal Kwh in long\n",
    "- prijs in een float\n",
    "- de verhoging wanneer je 100kwh hebt gepasseerd in een decimal\n",
    "- methode output de prijs afgerond op 3 decimalen (N3 format)"
   ]
  },
  {
   "cell_type": "code",
   "execution_count": 8,
   "metadata": {
    "dotnet_interactive": {
     "language": "csharp"
    },
    "polyglot_notebook": {
     "kernelName": "csharp"
    }
   },
   "outputs": [
    {
     "name": "stdout",
     "output_type": "stream",
     "text": [
      "54.61212158203125\r\n"
     ]
    }
   ],
   "source": [
    "static double electricityPrice(long kwh, float price) {\n",
    "    decimal taxesPercentage = kwh > 100 ? 1.04M : 1.08M;\n",
    "    return kwh * price * (float)(taxesPercentage / 100 + 1);\n",
    "}\n",
    "\n",
    "Console.WriteLine(electricityPrice(235, 0.23f))"
   ]
  }
 ],
 "metadata": {
  "kernelspec": {
   "display_name": ".NET (C#)",
   "language": "C#",
   "name": ".net-csharp"
  },
  "language_info": {
   "name": "polyglot-notebook"
  },
  "polyglot_notebook": {
   "kernelInfo": {
    "defaultKernelName": "csharp",
    "items": [
     {
      "aliases": [],
      "languageName": "csharp",
      "name": "csharp"
     }
    ]
   }
  }
 },
 "nbformat": 4,
 "nbformat_minor": 2
}
